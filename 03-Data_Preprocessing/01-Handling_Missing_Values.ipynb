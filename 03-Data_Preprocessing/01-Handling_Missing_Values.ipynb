{
 "cells": [
  {
   "cell_type": "markdown",
   "metadata": {},
   "source": [
    "# Handling Missing Values\n",
    "\n",
    "Missing values are common in real-world datasets. If not handled properly, they can cause errors or reduce the performance of machine learning models.\n",
    "\n",
    "In this notebook, we'll cover:\n",
    "- Identifying missing values\n",
    "- Removing missing values\n",
    "- Imputing missing values (mean, median, mode)\n",
    "- Using forward/backward fill\n",
    "- Handling categorical missing values"
   ]
  },
  {
   "cell_type": "code",
   "execution_count": null,
   "metadata": {},
   "outputs": [],
   "source": [
    "import pandas as pd\n",
    "import numpy as np\n",
    "from sklearn.impute import SimpleImputer\n",
    "\n",
    "data = {\n",
    "    'Age': [25, 30, np.nan, 35, 40],\n",
    "    'Salary': [50000, np.nan, 55000, np.nan, 65000],\n",
    "    'Country': ['India', 'USA', np.nan, 'UK', 'India']\n",
    "}\n",
    "\n",
    "df = pd.DataFrame(data)\n",
    "df"
   ]
  },
  {
   "cell_type": "markdown",
   "metadata": {},
   "source": [
    "## 1. Identifying Missing Values"
   ]
  },
  {
   "cell_type": "code",
   "execution_count": null,
   "metadata": {},
   "outputs": [],
   "source": [
    "df.isnull()"
   ]
  },
  {
   "cell_type": "code",
   "execution_count": null,
   "metadata": {},
   "outputs": [],
   "source": [
    "df.isnull().sum()"
   ]
  },
  {
   "cell_type": "markdown",
   "metadata": {},
   "source": [
    "## 2. Removing Missing Values\n",
    "- Drop rows or columns with missing values.\n",
    "- Not always recommended, as it can cause data loss."
   ]
  },
  {
   "cell_type": "code",
   "execution_count": null,
   "metadata": {},
   "outputs": [],
   "source": [
    "# Drop rows with missing values\n",
    "df_drop_rows = df.dropna()\n",
    "df_drop_rows"
   ]
  },
  {
   "cell_type": "code",
   "execution_count": null,
   "metadata": {},
   "outputs": [],
   "source": [
    "# Drop columns with missing values\n",
    "df_drop_cols = df.dropna(axis=1)\n",
    "df_drop_cols"
   ]
  },
  {
   "cell_type": "markdown",
   "metadata": {},
   "source": [
    "## 3. Imputing Missing Values (Numerical)\n",
    "- Replace missing values with mean, median, or mode.\n",
    "- More useful than dropping data."
   ]
  },
  {
   "cell_type": "code",
   "execution_count": null,
   "metadata": {},
   "outputs": [],
   "source": [
    "imputer_mean = SimpleImputer(strategy='mean')\n",
    "df['Age'] = imputer_mean.fit_transform(df[['Age']])\n",
    "df['Salary'] = imputer_mean.fit_transform(df[['Salary']])\n",
    "df"
   ]
  },
  {
   "cell_type": "code",
   "execution_count": null,
   "metadata": {},
   "outputs": [],
   "source": [
    "imputer_median = SimpleImputer(strategy='median')\n",
    "df['Salary'] = imputer_median.fit_transform(df[['Salary']])\n",
    "df"
   ]
  },
  {
   "cell_type": "markdown",
   "metadata": {},
   "source": [
    "## 4. Forward Fill and Backward Fill\n",
    "- Fill missing values based on neighboring values.\n",
    "- Forward fill: takes the last valid value.\n",
    "- Backward fill: takes the next valid value."
   ]
  },
  {
   "cell_type": "code",
   "execution_count": null,
   "metadata": {},
   "outputs": [],
   "source": [
    "df_ffill = df.fillna(method='ffill')\n",
    "df_ffill"
   ]
  },
  {
   "cell_type": "code",
   "execution_count": null,
   "metadata": {},
   "outputs": [],
   "source": [
    "df_bfill = df.fillna(method='bfill')\n",
    "df_bfill"
   ]
  },
  {
   "cell_type": "markdown",
   "metadata": {},
   "source": [
    "## 5. Handling Missing Categorical Values\n",
    "- Use the most frequent value (mode).\n",
    "- Or use a placeholder like `'Unknown'`."
   ]
  },
  {
   "cell_type": "code",
   "execution_count": null,
   "metadata": {},
   "outputs": [],
   "source": [
    "df['Country'].fillna(df['Country'].mode()[0], inplace=True)\n",
    "df"
   ]
  },
  {
   "cell_type": "code",
   "execution_count": null,
   "metadata": {},
   "outputs": [],
   "source": [
    "df['Country'] = df['Country'].fillna('Unknown')\n",
    "df"
   ]
  },
  {
   "cell_type": "markdown",
   "metadata": {},
   "source": [
    "## ✅ Summary\n",
    "- Identified missing values.\n",
    "- Removed rows/columns with missing data.\n",
    "- Imputed missing values using mean/median.\n",
    "- Used forward/backward fill.\n",
    "- Handled categorical missing values.\n",
    "\n",
    "👉 Handling missing values is a crucial first step in building reliable ML models."
   ]
  }
 ],
 "metadata": {
  "kernelspec": {
   "display_name": "Python 3",
   "language": "python",
   "name": "python3"
  },
  "language_info": {
   "name": "python",
   "version": "3.9"
  }
 },
 "nbformat": 4,
 "nbformat_minor": 5
}
