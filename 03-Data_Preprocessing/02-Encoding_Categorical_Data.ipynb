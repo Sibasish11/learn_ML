{
 "cells": [
  {
   "cell_type": "markdown",
   "metadata": {},
   "source": [
    "# Encoding Categorical Data\n",
    "\n",
    "Machine Learning models work with **numerical data**, not text. \n",
    "\n",
    "Categorical variables must be converted into numbers before training models.\n",
    "\n",
    "In this notebook, we'll cover:\n",
    "- Label Encoding\n",
    "- One-Hot Encoding\n",
    "- Ordinal Encoding\n",
    "- Encoding with `pandas.get_dummies()`"
   ]
  },
  {
   "cell_type": "code",
   "execution_count": null,
   "metadata": {},
   "outputs": [],
   "source": [
    "import pandas as pd\n",
    "from sklearn.preprocessing import LabelEncoder, OneHotEncoder, OrdinalEncoder\n",
    "import numpy as np\n",
    "\n",
    "data = {\n",
    "    'Country': ['India', 'USA', 'UK', 'India', 'USA'],\n",
    "    'Purchased': ['Yes', 'No', 'Yes', 'No', 'Yes'],\n",
    "    'Education': ['High School', 'Bachelors', 'Masters', 'PhD', 'Bachelors']\n",
    "}\n",
    "\n",
    "df = pd.DataFrame(data)\n",
    "df"
   ]
  },
  {
   "cell_type": "markdown",
   "metadata": {},
   "source": [
    "## 1. Label Encoding\n",
    "- Converts categories into numeric labels (0, 1, 2,...)\n",
    "- Useful for target variables.\n",
    "- Not always suitable for input features (implies order where there may be none)."
   ]
  },
  {
   "cell_type": "code",
   "execution_count": null,
   "metadata": {},
   "outputs": [],
   "source": [
    "le = LabelEncoder()\n",
    "df['Purchased_Encoded'] = le.fit_transform(df['Purchased'])\n",
    "df"
   ]
  },
  {
   "cell_type": "markdown",
   "metadata": {},
   "source": [
    "## 2. One-Hot Encoding\n",
    "- Creates dummy variables (0/1) for each category.\n",
    "- Prevents giving false ordinal relationships.\n",
    "- Common for categorical features like 'Country'."
   ]
  },
  {
   "cell_type": "code",
   "execution_count": null,
   "metadata": {},
   "outputs": [],
   "source": [
    "ohe = OneHotEncoder(sparse=False, drop='first')  # drop first to avoid dummy variable trap\n",
    "country_encoded = ohe.fit_transform(df[['Country']])\n",
    "country_encoded_df = pd.DataFrame(country_encoded, columns=ohe.get_feature_names_out(['Country']))\n",
    "\n",
    "df_ohe = pd.concat([df, country_encoded_df], axis=1)\n",
    "df_ohe"
   ]
  },
  {
   "cell_type": "markdown",
   "metadata": {},
   "source": [
    "## 3. Ordinal Encoding\n",
    "- For categorical data that has an **order** (e.g., education levels).\n",
    "- Assigns numbers based on predefined order."
   ]
  },
  {
   "cell_type": "code",
   "execution_count": null,
   "metadata": {},
   "outputs": [],
   "source": [
    "education_order = [['High School', 'Bachelors', 'Masters', 'PhD']]\n",
    "ordinal_enc = OrdinalEncoder(categories=education_order)\n",
    "df['Education_Encoded'] = ordinal_enc.fit_transform(df[['Education']])\n",
    "df"
   ]
  },
  {
   "cell_type": "markdown",
   "metadata": {},
   "source": [
    "## 4. Using `pandas.get_dummies()`\n",
    "- Quick way to one-hot encode categorical features.\n",
    "- Simpler than scikit-learn for many cases."
   ]
  },
  {
   "cell_type": "code",
   "execution_count": null,
   "metadata": {},
   "outputs": [],
   "source": [
    "df_dummies = pd.get_dummies(df, columns=['Country'], drop_first=True)\n",
    "df_dummies"
   ]
  },
  {
   "cell_type": "markdown",
   "metadata": {},
   "source": [
    "## ✅ Summary\n",
    "- **Label Encoding**: Converts categories to numbers, good for target variables.\n",
    "- **One-Hot Encoding**: Expands categories into multiple binary columns.\n",
    "- **Ordinal Encoding**: For ordered categories.\n",
    "- **pandas.get_dummies()**: Fast and simple one-hot encoding.\n",
    "\n",
    "👉 Always choose encoding method based on the type of categorical feature!"
   ]
  }
 ],
 "metadata": {
  "kernelspec": {
   "display_name": "Python 3",
   "language": "python",
   "name": "python3"
  },
  "language_info": {
   "name": "python",
   "version": "3.9"
  }
 },
 "nbformat": 4,
 "nbformat_minor": 5
}
