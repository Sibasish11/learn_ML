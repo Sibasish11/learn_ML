{
 "cells": [
  {
   "cell_type": "markdown",
   "metadata": {},
   "source": [
    "# Feature Engineering and Selection\n",
    "\n",
    "In this notebook, we will explore:\n",
    "- What is Feature Engineering?\n",
    "- Common Feature Engineering techniques\n",
    "- Feature Selection methods\n",
    "- Example workflow with a dataset"
   ]
  },
  {
   "cell_type": "markdown",
   "metadata": {},
   "source": [
    "## 1. What is Feature Engineering?\n",
    "- Process of creating new input features from existing data.\n",
    "- Helps improve model performance by providing more informative features.\n",
    "- Examples:\n",
    "  - Combining columns (e.g., BMI = weight/height^2)\n",
    "  - Extracting date/time features (day, month, year)\n",
    "  - Encoding categorical variables\n",
    "  - Handling missing values"
   ]
  },
  {
   "cell_type": "code",
   "execution_count": null,
   "metadata": {},
   "outputs": [],
   "source": [
    "import pandas as pd\n",
    "import numpy as np\n",
    "from sklearn.model_selection import train_test_split\n",
    "from sklearn.feature_selection import SelectKBest, f_classif\n",
    "from sklearn.ensemble import RandomForestClassifier\n",
    "from sklearn.datasets import load_breast_cancer\n",
    "\n",
    "# Load dataset\n",
    "data = load_breast_cancer()\n",
    "X = pd.DataFrame(data.data, columns=data.feature_names)\n",
    "y = pd.Series(data.target)\n",
    "\n",
    "X.head()"
   ]
  },
  {
   "cell_type": "markdown",
   "metadata": {},
   "source": [
    "## 2. Example of Feature Engineering\n",
    "\n",
    "- Creating a new feature: Ratio of mean area to mean smoothness.\n",
    "- Sometimes, ratios or combinations can reveal new patterns."
   ]
  },
  {
   "cell_type": "code",
   "execution_count": null,
   "metadata": {},
   "outputs": [],
   "source": [
    "X['area_smoothness_ratio'] = X['mean area'] / X['mean smoothness']\n",
    "X[['mean area', 'mean smoothness', 'area_smoothness_ratio']].head()"
   ]
  },
  {
   "cell_type": "markdown",
   "metadata": {},
   "source": [
    "## 3. Feature Selection\n",
    "- Reduces dimensionality, speeds up training, and improves generalization.\n",
    "- Types:\n",
    "  1. **Filter methods** – statistical tests (e.g., correlation, ANOVA)\n",
    "  2. **Wrapper methods** – use model performance (e.g., RFE)\n",
    "  3. **Embedded methods** – feature importance from models (e.g., Random Forest, Lasso)"
   ]
  },
  {
   "cell_type": "markdown",
   "metadata": {},
   "source": [
    "### 3.1 Filter Method: SelectKBest (ANOVA F-test)"
   ]
  },
  {
   "cell_type": "code",
   "execution_count": null,
   "metadata": {},
   "outputs": [],
   "source": [
    "selector = SelectKBest(score_func=f_classif, k=5)\n",
    "X_new = selector.fit_transform(X, y)\n",
    "selected_features = X.columns[selector.get_support()]\n",
    "selected_features"
   ]
  },
  {
   "cell_type": "markdown",
   "metadata": {},
   "source": [
    "### 3.2 Embedded Method: Feature Importance from Random Forest"
   ]
  },
  {
   "cell_type": "code",
   "execution_count": null,
   "metadata": {},
   "outputs": [],
   "source": [
    "model = RandomForestClassifier(random_state=42)\n",
    "model.fit(X, y)\n",
    "\n",
    "importances = pd.Series(model.feature_importances_, index=X.columns)\n",
    "importances.sort_values(ascending=False).head(10)"
   ]
  },
  {
   "cell_type": "markdown",
   "metadata": {},
   "source": [
    "## 4. Splitting Data After Feature Selection"
   ]
  },
  {
   "cell_type": "code",
   "execution_count": null,
   "metadata": {},
   "outputs": [],
   "source": [
    "X_selected = X[selected_features]\n",
    "X_train, X_test, y_train, y_test = train_test_split(X_selected, y, test_size=0.2, random_state=42)\n",
    "\n",
    "X_train.shape, X_test.shape"
   ]
  },
  {
   "cell_type": "markdown",
   "metadata": {},
   "source": [
    "## ✅ Summary\n",
    "- **Feature Engineering** creates new useful features from raw data.\n",
    "- **Feature Selection** reduces unnecessary features:\n",
    "  - Filter methods → Statistical tests\n",
    "  - Wrapper methods → Model-based evaluation\n",
    "  - Embedded methods → Importance from algorithms\n",
    "- Both steps are crucial for building efficient and high-performing ML models."
   ]
  }
 ],
 "metadata": {
  "kernelspec": {
   "display_name": "Python 3",
   "language": "python",
   "name": "python3"
  },
  "language_info": {
   "name": "python",
   "version": "3.9"
  }
 },
 "nbformat": 4,
 "nbformat_minor": 5
}
