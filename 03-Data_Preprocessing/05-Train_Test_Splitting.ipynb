{
 "cells": [
  {
   "cell_type": "markdown",
   "metadata": {},
   "source": [
    "# Train-Test Splitting\n",
    "\n",
    "In this notebook, we will cover:\n",
    "- Why we split data into training and testing sets\n",
    "- Using `train_test_split` in Scikit-learn\n",
    "- Stratified splits (for classification)\n",
    "- Train/validation/test sets"
   ]
  },
  {
   "cell_type": "markdown",
   "metadata": {},
   "source": [
    "## 1. Why Train-Test Split?\n",
    "- **Training set** → Used to fit the model\n",
    "- **Testing set** → Used to evaluate model performance on unseen data\n",
    "- Prevents **overfitting** and ensures the model generalizes well.\n",
    "- Usually, split is 70–80% training and 20–30% testing."
   ]
  },
  {
   "cell_type": "code",
   "execution_count": null,
   "metadata": {},
   "outputs": [],
   "source": [
    "import pandas as pd\n",
    "from sklearn.model_selection import train_test_split\n",
    "from sklearn.datasets import load_iris\n",
    "\n",
    "# Load dataset\n",
    "iris = load_iris()\n",
    "X = pd.DataFrame(iris.data, columns=iris.feature_names)\n",
    "y = pd.Series(iris.target)\n",
    "\n",
    "X.head()"
   ]
  },
  {
   "cell_type": "markdown",
   "metadata": {},
   "source": [
    "## 2. Basic Train-Test Split"
   ]
  },
  {
   "cell_type": "code",
   "execution_count": null,
   "metadata": {},
   "outputs": [],
   "source": [
    "X_train, X_test, y_train, y_test = train_test_split(X, y, test_size=0.2, random_state=42)\n",
    "\n",
    "print(\"Training set shape:\", X_train.shape)\n",
    "print(\"Testing set shape:\", X_test.shape)"
   ]
  },
  {
   "cell_type": "markdown",
   "metadata": {},
   "source": [
    "## 3. Stratified Splits\n",
    "- In classification, we want **class proportions** to be maintained in train and test sets.\n",
    "- Use `stratify=y` in `train_test_split`."
   ]
  },
  {
   "cell_type": "code",
   "execution_count": null,
   "metadata": {},
   "outputs": [],
   "source": [
    "X_train_strat, X_test_strat, y_train_strat, y_test_strat = train_test_split(\n",
    "    X, y, test_size=0.2, random_state=42, stratify=y)\n",
    "\n",
    "print(\"Class distribution in full dataset:\")\n",
    "print(y.value_counts(normalize=True))\n",
    "print(\"\\nClass distribution in stratified training set:\")\n",
    "print(y_train_strat.value_counts(normalize=True))\n",
    "print(\"\\nClass distribution in stratified test set:\")\n",
    "print(y_test_strat.value_counts(normalize=True))"
   ]
  },
  {
   "cell_type": "markdown",
   "metadata": {},
   "source": [
    "## 4. Train / Validation / Test Split\n",
    "- Often we need **3 sets**:\n",
    "  - Training → Fit model\n",
    "  - Validation → Tune hyperparameters\n",
    "  - Testing → Final unbiased evaluation\n",
    "\n",
    "- One approach: Split data twice."
   ]
  },
  {
   "cell_type": "code",
   "execution_count": null,
   "metadata": {},
   "outputs": [],
   "source": [
    "# First split: train+validation vs test\n",
    "X_temp, X_test, y_temp, y_test = train_test_split(X, y, test_size=0.2, random_state=42)\n",
    "\n",
    "# Second split: train vs validation\n",
    "X_train, X_val, y_train, y_val = train_test_split(X_temp, y_temp, test_size=0.25, random_state=42)\n",
    "\n",
    "print(\"Training set:\", X_train.shape)\n",
    "print(\"Validation set:\", X_val.shape)\n",
    "print(\"Testing set:\", X_test.shape)"
   ]
  },
  {
   "cell_type": "markdown",
   "metadata": {},
   "source": [
    "## ✅ Summary\n",
    "- Train-test split prevents overfitting and gives an unbiased evaluation.\n",
    "- Use **stratification** for classification tasks to preserve class ratios.\n",
    "- A third **validation set** helps with model selection and tuning.\n",
    "- Typical ratios:\n",
    "  - 70/30 (train/test)\n",
    "  - 60/20/20 (train/val/test)"
   ]
  }
 ],
 "metadata": {
  "kernelspec": {
   "display_name": "Python 3",
   "language": "python",
   "name": "python3"
  },
  "language_info": {
   "name": "python",
   "version": "3.9"
  }
 },
 "nbformat": 4,
 "nbformat_minor": 5
}
