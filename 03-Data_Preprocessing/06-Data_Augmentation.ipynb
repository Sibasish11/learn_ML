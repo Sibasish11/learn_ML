{
 "cells": [
  {
   "cell_type": "markdown",
   "metadata": {},
   "source": [
    "# Data Augmentation\n",
    "\n",
    "Data augmentation is the process of **artificially increasing the size and diversity of a dataset** by creating modified versions of existing data.\n",
    "\n",
    "Why do we need it?\n",
    "- Prevents overfitting\n",
    "- Improves model generalization\n",
    "- Useful when collecting new data is expensive\n",
    "\n",
    "We will explore:\n",
    "- Image augmentation\n",
    "- Text augmentation (basic)"
   ]
  },
  {
   "cell_type": "markdown",
   "metadata": {},
   "source": [
    "## 1. Image Data Augmentation\n",
    "Using **Keras ImageDataGenerator** we can apply transformations such as:\n",
    "- Rotation\n",
    "- Flipping\n",
    "- Zooming\n",
    "- Shifting\n",
    "- Shearing"
   ]
  },
  {
   "cell_type": "code",
   "execution_count": null,
   "metadata": {},
   "outputs": [],
   "source": [
    "import matplotlib.pyplot as plt\n",
    "import numpy as np\n",
    "from tensorflow.keras.preprocessing.image import ImageDataGenerator, load_img, img_to_array\n",
    "\n",
    "# Load sample image\n",
    "img = load_img('https://upload.wikimedia.org/wikipedia/commons/9/99/Black_square.jpg', target_size=(150, 150))\n",
    "x = img_to_array(img)\n",
    "x = np.expand_dims(x, axis=0)\n",
    "\n",
    "# Define augmentation generator\n",
    "datagen = ImageDataGenerator(\n",
    "    rotation_range=40,\n",
    "    width_shift_range=0.2,\n",
    "    height_shift_range=0.2,\n",
    "    shear_range=0.2,\n",
    "    zoom_range=0.2,\n",
    "    horizontal_flip=True,\n",
    "    fill_mode='nearest')\n",
    "\n",
    "# Generate augmented images\n",
    "i = 0\n",
    "plt.figure(figsize=(8, 8))\n",
    "for batch in datagen.flow(x, batch_size=1):\n",
    "    plt.subplot(2, 2, i+1)\n",
    "    plt.imshow(batch[0].astype('uint8'))\n",
    "    i += 1\n",
    "    if i == 4:\n",
    "        break\n",
    "plt.show()"
   ]
  },
  {
   "cell_type": "markdown",
   "metadata": {},
   "source": [
    "## 2. Text Data Augmentation (Basic)\n",
    "Text augmentation is trickier but common techniques include:\n",
    "- Synonym replacement\n",
    "- Random insertion/deletion\n",
    "- Back translation\n",
    "- Noise injection"
   ]
  },
  {
   "cell_type": "code",
   "execution_count": null,
   "metadata": {},
   "outputs": [],
   "source": [
    "import random\n",
    "\n",
    "sentence = \"Data augmentation helps improve model performance.\"\n",
    "words = sentence.split()\n",
    "\n",
    "# Simple synonym replacement (mock example)\n",
    "synonyms = {\"improve\": \"enhance\", \"model\": \"algorithm\"}\n",
    "augmented = [synonyms.get(w, w) for w in words]\n",
    "\n",
    "print(\"Original:\", sentence)\n",
    "print(\"Augmented:\", \" \".join(augmented))"
   ]
  },
  {
   "cell_type": "markdown",
   "metadata": {},
   "source": [
    "## ✅ Summary\n",
    "- **Image augmentation** (rotation, flip, zoom) is widely used in CV.\n",
    "- **Text augmentation** can involve synonyms, random noise, or translations.\n",
    "- Data augmentation makes models more robust and prevents overfitting."
   ]
  }
 ],
 "metadata": {
  "kernelspec": {
   "display_name": "Python 3",
   "language": "python",
   "name": "python3"
  },
  "language_info": {
   "name": "python",
   "version": "3.9"
  }
 },
 "nbformat": 4,
 "nbformat_minor": 5
}
