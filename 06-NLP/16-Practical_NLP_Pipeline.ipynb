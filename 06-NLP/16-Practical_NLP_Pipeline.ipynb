{
 "cells": [
  {
   "cell_type": "markdown",
   "metadata": {},
   "source": [
    "# Practical NLP Pipeline\n",
    "\n",
    "In this notebook, we’ll build a **Practical Natural Language Processing (NLP) Pipeline** using **Transformer-based models**.\n",
    "\n",
    "This end-to-end pipeline will demonstrate how text flows through stages such as **tokenization**, **sentiment analysis**, **named entity recognition (NER)**, and **question answering**.\n",
    "\n",
    "---"
   ]
  },
  {
   "cell_type": "markdown",
   "metadata": {},
   "source": [
    "## 🎯 Objectives\n",
    "- Build a modular NLP pipeline.\n",
    "- Use pre-trained models for each NLP task.\n",
    "- Understand how different components interact in a real-world application."
   ]
  },
  {
   "cell_type": "markdown",
   "metadata": {},
   "source": [
    "## ⚙️ 1. Install and Import Libraries"
   ]
  },
  {
   "cell_type": "code",
   "metadata": {},
   "source": [
    "# Uncomment to install required packages\n",
    "# !pip install transformers torch --quiet"
   ],
   "execution_count": null,
   "outputs": []
  },
  {
   "cell_type": "code",
   "metadata": {},
   "source": [
    "from transformers import pipeline\n",
    "import pprint\n",
    "pp = pprint.PrettyPrinter(indent=2)"
   ],
   "execution_count": null,
   "outputs": []
  },
  {
   "cell_type": "markdown",
   "metadata": {},
   "source": [
    "## 🧠 2. Define the NLP Pipeline Class\n",
    "\n",
    "We’ll create a simple class `NLPProcessor` that contains various stages of text processing — including sentiment analysis, NER, and question answering — in one unified interface."
   ]
  },
  {
   "cell_type": "code",
   "metadata": {},
   "source": [
    "class NLPProcessor:\n",
    "    def __init__(self):\n",
    "        print(\"Loading models... (this may take a few seconds)\")\n",
    "        self.sentiment_model = pipeline('sentiment-analysis')\n",
    "        self.ner_model = pipeline('ner', grouped_entities=True)\n",
    "        self.qa_model = pipeline('question-answering', model='distilbert-base-uncased-distilled-squad')\n",
    "        print(\"✅ Models loaded successfully!\")\n",
    "\n",
    "    def sentiment_analysis(self, text):\n",
    "        return self.sentiment_model(text)\n",
    "\n",
    "    def named_entity_recognition(self, text):\n",
    "        return self.ner_model(text)\n",
    "\n",
    "    def question_answering(self, question, context):\n",
    "        return self.qa_model(question=question, context=context)"
   ],
   "execution_count": null,
   "outputs": []
  },
  {
   "cell_type": "markdown",
   "metadata": {},
   "source": [
    "## 🧩 3. Initialize the Pipeline"
   ]
  },
  {
   "cell_type": "code",
   "metadata": {},
   "source": [
    "nlp = NLPProcessor()"
   ],
   "execution_count": null,
   "outputs": []
  },
  {
   "cell_type": "markdown",
   "metadata": {},
   "source": [
    "## 💬 4. Example Text"
   ]
  },
  {
   "cell_type": "code",
   "metadata": {},
   "source": [
    "sample_text = (\n",
    "    \"Apple Inc. is looking to invest $1 billion in India to expand its manufacturing base. \"\n",
    "    \"CEO Tim Cook said the move will create thousands of new jobs and boost local economies.\"\n",
    ")\n",
    "print(sample_text)"
   ],
   "execution_count": null,
   "outputs": []
  },
  {
   "cell_type": "markdown",
   "metadata": {},
   "source": [
    "## 😊 5. Sentiment Analysis"
   ]
  },
  {
   "cell_type": "code",
   "metadata": {},
   "source": [
    "sentiment_result = nlp.sentiment_analysis(sample_text)\n",
    "pp.pprint(sentiment_result)"
   ],
   "execution_count": null,
   "outputs": []
  },
  {
   "cell_type": "markdown",
   "metadata": {},
   "source": [
    "## 🏷️ 6. Named Entity Recognition (NER)"
   ]
  },
  {
   "cell_type": "code",
   "metadata": {},
   "source": [
    "ner_result = nlp.named_entity_recognition(sample_text)\n",
    "pp.pprint(ner_result)"
   ],
   "execution_count": null,
   "outputs": []
  },
  {
   "cell_type": "markdown",
   "metadata": {},
   "source": [
    "## ❓ 7. Question Answering\n",
    "\n",
    "Let’s ask a question based on the same text context."
   ]
  },
  {
   "cell_type": "code",
   "metadata": {},
   "source": [
    "question = \"How much is Apple investing in India?\"\n",
    "qa_result = nlp.question_answering(question, sample_text)\n",
    "pp.pprint(qa_result)"
   ],
   "execution_count": null,
   "outputs": []
  },
  {
   "cell_type": "markdown",
   "metadata": {},
   "source": [
    "## 🔄 8. Combine All Results in a Report"
   ]
  },
  {
   "cell_type": "code",
   "metadata": {},
   "source": [
    "report = {\n",
    "    'Input Text': sample_text,\n",
    "    'Sentiment': sentiment_result,\n",
    "    'Named Entities': ner_result,\n",
    "    'QA Example': {\n",
    "        'Question': question,\n",
    "        'Answer': qa_result['answer'],\n",
    "        'Confidence': round(qa_result['score'], 3)\n",
    "    }\n",
    "}\n",
    "\n",
    "pp.pprint(report)"
   ],
   "execution_count": null,
   "outputs": []
  },
  {
   "cell_type": "markdown",
   "metadata": {},
   "source": [
    "## 🧠 9. Real-World Applications\n",
    "- **Customer Support:** Auto-answer FAQs from a product knowledge base.\n",
    "- **News Analysis:** Extract entities, detect tone, and summarize news.\n",
    "- **Chatbots:** Combine sentiment + QA for context-aware conversation.\n",
    "- **Information Retrieval:** Highlight answers from documents."
   ]
  },
  {
   "cell_type": "markdown",
   "metadata": {},
   "source": [
    "## 📚 10. Summary\n",
    "✅ Built a complete **NLP Pipeline** using Transformers.\n",
    "✅ Integrated **Sentiment Analysis**, **NER**, and **Question Answering**.\n",
    "✅ Learned how each component can be reused modularly.\n",
    "\n",
    "---\n",
    "➡️ **Next Notebook:** `17-Text_Summarization_with_Transformers.ipynb` — to summarize long documents effectively!"
   ]
  }
 ],
 "metadata": {
  "kernelspec": {
   "display_name": "Python 3",
   "language": "python",
   "name": "python3"
  },
  "language_info": {
   "name": "python",
   "version": "3.10"
  }
 },
 "nbformat": 4,
 "nbformat_minor": 2
}
