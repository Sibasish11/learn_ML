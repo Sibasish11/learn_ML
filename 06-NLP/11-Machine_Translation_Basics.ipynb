{
 "cells": [
  {
   "cell_type": "markdown",
   "metadata": {},
   "source": [
    "# 🌍 Machine Translation Basics\n",
    "\n",
    "Machine Translation (MT) is the task of automatically translating text from one language to another using Natural Language Processing (NLP) techniques.\n",
    "\n",
    "### 🔍 Why Machine Translation?\n",
    "- Breaks language barriers.\n",
    "- Enables global communication.\n",
    "- Powers multilingual chatbots, translators, and localization tools.\n",
    "\n",
    "There are two main approaches:\n",
    "1. **Rule-Based / Statistical Translation (Old methods)**\n",
    "2. **Neural Machine Translation (NMT)** — Modern deep learning-based translation models like *Transformer*, *T5*, *mBART*, and *MarianMT*."
   ]
  },
  {
   "cell_type": "markdown",
   "metadata": {},
   "source": [
    "## 🎯 Objectives\n",
    "- Understand the basics of machine translation.\n",
    "- Perform text translation using a pre-trained Hugging Face model.\n",
    "- Compare outputs from different translation models."
   ]
  },
  {
   "cell_type": "code",
   "metadata": {},
   "source": [
    "# Install dependencies (if needed)\n",
    "# !pip install transformers torch sentencepiece"
   ],
   "execution_count": null,
   "outputs": []
  },
  {
   "cell_type": "markdown",
   "metadata": {},
   "source": [
    "## 🧩 Example Sentence"
   ]
  },
  {
   "cell_type": "code",
   "metadata": {},
   "source": [
    "text = \"Machine translation enables computers to translate text automatically between different languages.\""
   ],
   "execution_count": null,
   "outputs": []
  },
  {
   "cell_type": "markdown",
   "metadata": {},
   "source": [
    "## 🌐 English → French Translation using MarianMT"
   ]
  },
  {
   "cell_type": "code",
   "metadata": {},
   "source": [
    "from transformers import MarianMTModel, MarianTokenizer\n",
    "\n",
    "src_text = [text]\n",
    "model_name = 'Helsinki-NLP/opus-mt-en-fr'\n",
    "\n",
    "tokenizer = MarianTokenizer.from_pretrained(model_name)\n",
    "model = MarianMTModel.from_pretrained(model_name)\n",
    "\n",
    "translated = model.generate(**tokenizer(src_text, return_tensors=\"pt\", padding=True))\n",
    "translated_text = [tokenizer.decode(t, skip_special_tokens=True) for t in translated]\n",
    "\n",
    "print(\"French Translation:\", translated_text[0])"
   ],
   "execution_count": null,
   "outputs": []
  },
  {
   "cell_type": "markdown",
   "metadata": {},
   "source": [
    "## 🌍 English → Spanish Translation"
   ]
  },
  {
   "cell_type": "code",
   "metadata": {},
   "source": [
    "model_name_es = 'Helsinki-NLP/opus-mt-en-es'\n",
    "\n",
    "tokenizer_es = MarianTokenizer.from_pretrained(model_name_es)\n",
    "model_es = MarianMTModel.from_pretrained(model_name_es)\n",
    "\n",
    "translated_es = model_es.generate(**tokenizer_es(src_text, return_tensors=\"pt\", padding=True))\n",
    "translated_text_es = [tokenizer_es.decode(t, skip_special_tokens=True) for t in translated_es]\n",
    "\n",
    "print(\"Spanish Translation:\", translated_text_es[0])"
   ],
   "execution_count": null,
   "outputs": []
  },
  {
   "cell_type": "markdown",
   "metadata": {},
   "source": [
    "## ⚙️ Using a General Translation Pipeline"
   ]
  },
  {
   "cell_type": "code",
   "metadata": {},
   "source": [
    "from transformers import pipeline\n",
    "\n",
    "translator = pipeline('translation_en_to_de', model='Helsinki-NLP/opus-mt-en-de')\n",
    "result = translator(text)\n",
    "\n",
    "print(\"German Translation:\", result[0]['translation_text'])"
   ],
   "execution_count": null,
   "outputs": []
  },
  {
   "cell_type": "markdown",
   "metadata": {},
   "source": [
    "## 🧠 Behind the Scenes\n",
    "Neural Machine Translation (NMT) models like **Transformer** learn to map sequences from one language to another.\n",
    "\n",
    "### Core Components:\n",
    "- **Encoder:** Reads the input text and encodes its meaning.\n",
    "- **Decoder:** Generates the translated text word-by-word.\n",
    "- **Attention Mechanism:** Helps the model focus on relevant words during translation."
   ]
  },
  {
   "cell_type": "markdown",
   "metadata": {},
   "source": [
    "## 📊 Advantages of Neural MT\n",
    "- Handles long-range dependencies.\n",
    "- Learns contextual meaning, not just word mappings.\n",
    "- Produces more fluent and natural translations."
   ]
  },
  {
   "cell_type": "markdown",
   "metadata": {},
   "source": [
    "## 💡 Try It Yourself\n",
    "Change the `text` variable and try translating:\n",
    "- English → Hindi (`opus-mt-en-hi`)\n",
    "- English → German (`opus-mt-en-de`)\n",
    "- English → Japanese (`opus-mt-en-jap`)\n",
    "\n",
    "You can find all available models on the [Hugging Face Model Hub](https://huggingface.co/Helsinki-NLP)."
   ]
  },
  {
   "cell_type": "markdown",
   "metadata": {},
   "source": [
    "## 📚 Summary\n",
    "- Machine Translation converts text between languages using AI.\n",
    "- **MarianMT** models offer efficient multilingual translation.\n",
    "- **Transformer-based** NMT models dominate modern translation systems.\n",
    "- Hugging Face pipelines make translation tasks easy to implement."
   ]
  }
 ],
 "metadata": {
  "kernelspec": {
   "display_name": "Python 3",
   "language": "python",
   "name": "python3"
  },
  "language_info": {
   "name": "python",
   "version": "3.10"
  }
 },
 "nbformat": 4,
 "nbformat_minor": 2
}
