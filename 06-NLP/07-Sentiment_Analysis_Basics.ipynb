{
 "cells": [
  {
   "cell_type": "markdown",
   "metadata": {},
   "source": [
    "# Sentiment Analysis Basics\n",
    "\n",
    "**Objective:** Understand the fundamentals of sentiment analysis — how to process text data and classify sentiment (positive, negative, neutral) using machine learning.\n",
    "\n",
    "---\n",
    "## What is Sentiment Analysis?\n",
    "\n",
    "Sentiment analysis is a **Natural Language Processing (NLP)** task that aims to identify whether a piece of text expresses a **positive**, **negative**, or **neutral** emotion.\n",
    "\n",
    "**Example:**\n",
    "- \"I love this movie!\" → Positive 🎉\n",
    "- \"This product is terrible.\" → Negative 😡\n",
    "\n",
    "We’ll build a simple model using scikit-learn and TF-IDF."
   ]
  },
  {
   "cell_type": "markdown",
   "metadata": {},
   "source": [
    "---\n",
    "##  Import Required Libraries"
   ]
  },
  {
   "cell_type": "code",
   "execution_count": null,
   "metadata": {},
   "outputs": [],
   "source": [
    "import pandas as pd\n",
    "from sklearn.model_selection import train_test_split\n",
    "from sklearn.feature_extraction.text import TfidfVectorizer\n",
    "from sklearn.linear_model import LogisticRegression\n",
    "from sklearn.metrics import accuracy_score, confusion_matrix, classification_report\n",
    "\n",
    "import seaborn as sns\n",
    "import matplotlib.pyplot as plt"
   ]
  },
  {
   "cell_type": "markdown",
   "metadata": {},
   "source": [
    "---\n",
    "## Sample Dataset\n",
    "\n",
    "Let’s create a small sample dataset for demonstration. In practice, you would use larger datasets like IMDb reviews or Twitter Sentiment140."
   ]
  },
  {
   "cell_type": "code",
   "execution_count": null,
   "metadata": {},
   "outputs": [],
   "source": [
    "data = {\n",
    "    'text': [\n",
    "        'I love this movie!',\n",
    "        'This is an amazing product.',\n",
    "        'I am so happy with the service.',\n",
    "        'I hate this item.',\n",
    "        'This is the worst experience ever.',\n",
    "        'I am not satisfied with the quality.',\n",
    "        'Absolutely fantastic!',\n",
    "        'Terrible and disappointing.',\n",
    "        'It was okay, not great.',\n",
    "        'Pretty decent overall.'\n",
    "    ],\n",
    "    'sentiment': [1, 1, 1, 0, 0, 0, 1, 0, 2, 2]  # 1=Positive, 0=Negative, 2=Neutral\n",
    "}\n",
    "\n",
    "df = pd.DataFrame(data)\n",
    "df.head()"
   ]
  },
  {
   "cell_type": "markdown",
   "metadata": {},
   "source": [
    "---\n",
    "##  Data Preprocessing\n",
    "We'll split the dataset and convert text to numerical features using **TF-IDF**."
   ]
  },
  {
   "cell_type": "code",
   "execution_count": null,
   "metadata": {},
   "outputs": [],
   "source": [
    "X = df['text']\n",
    "y = df['sentiment']\n",
    "\n",
    "X_train, X_test, y_train, y_test = train_test_split(X, y, test_size=0.3, random_state=42)\n",
    "\n",
    "vectorizer = TfidfVectorizer(stop_words='english')\n",
    "X_train_tfidf = vectorizer.fit_transform(X_train)\n",
    "X_test_tfidf = vectorizer.transform(X_test)\n",
    "\n",
    "print('✅ TF-IDF transformation complete!')\n",
    "print('Vocabulary size:', len(vectorizer.get_feature_names_out()))"
   ]
  },
  {
   "cell_type": "markdown",
   "metadata": {},
   "source": [
    "---\n",
    "##  Model Training (Logistic Regression)\n",
    "We’ll train a simple **Logistic Regression classifier** to predict sentiment labels."
   ]
  },
  {
   "cell_type": "code",
   "execution_count": null,
   "metadata": {},
   "outputs": [],
   "source": [
    "model = LogisticRegression(max_iter=200)\n",
    "model.fit(X_train_tfidf, y_train)\n",
    "\n",
    "y_pred = model.predict(X_test_tfidf)\n",
    "\n",
    "print('✅ Model training complete!')\n",
    "print('\\nAccuracy:', accuracy_score(y_test, y_pred))"
   ]
  },
  {
   "cell_type": "markdown",
   "metadata": {},
   "source": [
    "---\n",
    "## Evaluation"
   ]
  },
  {
   "cell_type": "code",
   "execution_count": null,
   "metadata": {},
   "outputs": [],
   "source": [
    "print('\\nClassification Report:\\n', classification_report(y_test, y_pred, target_names=['Negative', 'Positive', 'Neutral']))\n",
    "\n",
    "cm = confusion_matrix(y_test, y_pred)\n",
    "sns.heatmap(cm, annot=True, fmt='d', cmap='Blues', xticklabels=['Neg','Pos','Neu'], yticklabels=['Neg','Pos','Neu'])\n",
    "plt.title('Confusion Matrix')\n",
    "plt.xlabel('Predicted')\n",
    "plt.ylabel('Actual')\n",
    "plt.show()"
   ]
  },
  {
   "cell_type": "markdown",
   "metadata": {},
   "source": [
    "---\n",
    "##  Test with Custom Sentences\n",
    "You can input your own sentences to test how the model performs."
   ]
  },
  {
   "cell_type": "code",
   "execution_count": null,
   "metadata": {},
   "outputs": [],
   "source": [
    "samples = [\n",
    "    'I absolutely love the design!',\n",
    "    'This is horrible and useless.',\n",
    "    'It’s fine, nothing special.'\n",
    "]\n",
    "\n",
    "sample_features = vectorizer.transform(samples)\n",
    "predictions = model.predict(sample_features)\n",
    "\n",
    "for text, label in zip(samples, predictions):\n",
    "    sentiment = {0:'Negative 😡', 1:'Positive 😊', 2:'Neutral 😐'}[label]\n",
    "    print(f'{text} → {sentiment}')"
   ]
  },
  {
   "cell_type": "markdown",
   "metadata": {},
   "source": [
    "---\n",
    "## 🧩 8️⃣ Key Insights\n",
    "- Sentiment analysis converts text into numerical features (TF-IDF).\n",
    "- Logistic Regression performs well for small datasets.\n",
    "- For large-scale text, use deep learning models (like **LSTM** or **BERT**).\n",
    "\n",
    "---\n",
    "## Summary\n",
    "In this notebook, we:\n",
    "- Built a basic text classification pipeline.\n",
    "- Used TF-IDF to represent words.\n",
    "- Trained a Logistic Regression model for sentiment prediction.\n",
    "\n",
    "---\n",
    " **Next:** `08-Advanced_Sentiment_Analysis_with_LSTM.ipynb` — Learn how to build sentiment models using **deep learning**."
   ]
  }
 ],
 "metadata": {
  "kernelspec": {
   "display_name": "Python 3",
   "language": "python",
   "name": "python3"
  },
  "language_info": {
   "name": "python",
   "version": "3.9"
  }
 },
 "nbformat": 4,
 "nbformat_minor": 5
}
