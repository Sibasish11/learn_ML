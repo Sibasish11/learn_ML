{
 "cells": [
  {
   "cell_type": "markdown",
   "metadata": {},
   "source": [
    "# BERT Text Classification\n",
    "\n",
    "In this notebook, we’ll explore how to use **BERT (Bidirectional Encoder Representations from Transformers)** for text classification — one of the most common NLP tasks such as **sentiment analysis** or **spam detection**.\n",
    "\n",
    "---\n",
    "\n",
    "###  Objectives\n",
    "- Understand what makes BERT powerful.\n",
    "- Learn how to fine-tune BERT on a text classification dataset.\n",
    "- Implement BERT using the Hugging Face `transformers` library.\n",
    "- Evaluate performance with accuracy and loss curves."
   ]
  },
  {
   "cell_type": "markdown",
   "metadata": {},
   "source": [
    "## 🧩 1. What is BERT?\n",
    "\n",
    "BERT is based on the **Transformer Encoder** architecture. It learns **bidirectional context**, meaning it understands both left and right sides of a word in a sentence.\n",
    "\n",
    "### Key Features\n",
    "- Pre-trained on massive text corpora (Wikipedia, BooksCorpus)\n",
    "- Uses **Masked Language Modeling (MLM)** and **Next Sentence Prediction (NSP)** during pretraining\n",
    "- Fine-tuned for downstream tasks like classification, QA, or token tagging.\n",
    "\n",
    "**Architecture:**\n",
    "```\n",
    "Input Text → Tokenization → BERT Encoder Layers → [CLS] Token → Classifier → Output Label\n",
    "```"
   ]
  },
  {
   "cell_type": "markdown",
   "metadata": {},
   "source": [
    "## ⚙️ 2. Installing Required Libraries"
   ]
  },
  {
   "cell_type": "code",
   "metadata": {},
   "source": [
    "# Uncomment if running locally\n",
    "# !pip install torch torchvision torchaudio --quiet\n",
    "# !pip install transformers datasets --quiet"
   ],
   "execution_count": null,
   "outputs": []
  },
  {
   "cell_type": "markdown",
   "metadata": {},
   "source": [
    "## 📦 3. Importing Libraries"
   ]
  },
  {
   "cell_type": "code",
   "metadata": {},
   "source": [
    "import torch\n",
    "from torch import nn\n",
    "from transformers import BertTokenizer, BertForSequenceClassification, Trainer, TrainingArguments\n",
    "from datasets import load_dataset\n",
    "import numpy as np\n",
    "from sklearn.metrics import accuracy_score"
   ],
   "execution_count": null,
   "outputs": []
  },
  {
   "cell_type": "markdown",
   "metadata": {},
   "source": [
    "## 🧾 4. Loading a Dataset\n",
    "\n",
    "We'll use a small dataset from Hugging Face — **IMDb movie reviews**, containing positive and negative sentiments."
   ]
  },
  {
   "cell_type": "code",
   "metadata": {},
   "source": [
    "dataset = load_dataset('imdb')\n",
    "small_train = dataset['train'].shuffle(seed=42).select(range(1000))\n",
    "small_test = dataset['test'].shuffle(seed=42).select(range(500))"
   ],
   "execution_count": null,
   "outputs": []
  },
  {
   "cell_type": "markdown",
   "metadata": {},
   "source": [
    "## 🔤 5. Tokenizing the Data\n",
    "We use BERT’s tokenizer to convert sentences into token IDs that the model understands."
   ]
  },
  {
   "cell_type": "code",
   "metadata": {},
   "source": [
    "tokenizer = BertTokenizer.from_pretrained('bert-base-uncased')\n",
    "\n",
    "def tokenize(batch):\n",
    "    return tokenizer(batch['text'], padding='max_length', truncation=True, max_length=128)\n",
    "\n",
    "train_enc = small_train.map(tokenize, batched=True, batch_size=None)\n",
    "test_enc = small_test.map(tokenize, batched=True, batch_size=None)\n",
    "\n",
    "train_enc.set_format('torch', columns=['input_ids', 'attention_mask', 'label'])\n",
    "test_enc.set_format('torch', columns=['input_ids', 'attention_mask', 'label'])"
   ],
   "execution_count": null,
   "outputs": []
  },
  {
   "cell_type": "markdown",
   "metadata": {},
   "source": [
    "## 🧠 6. Loading BERT Model for Classification"
   ]
  },
  {
   "cell_type": "code",
   "metadata": {},
   "source": [
    "model = BertForSequenceClassification.from_pretrained('bert-base-uncased', num_labels=2)"
   ],
   "execution_count": null,
   "outputs": []
  },
  {
   "cell_type": "markdown",
   "metadata": {},
   "source": [
    "## 🏋️‍♂️ 7. Training Configuration"
   ]
  },
  {
   "cell_type": "code",
   "metadata": {},
   "source": [
    "def compute_metrics(pred):\n",
    "    labels = pred.label_ids\n",
    "    preds = np.argmax(pred.predictions, axis=1)\n",
    "    acc = accuracy_score(labels, preds)\n",
    "    return {'accuracy': acc}\n",
    "\n",
    "training_args = TrainingArguments(\n",
    "    output_dir='./results',\n",
    "    num_train_epochs=1,\n",
    "    per_device_train_batch_size=8,\n",
    "    per_device_eval_batch_size=8,\n",
    "    evaluation_strategy='epoch',\n",
    "    logging_dir='./logs',\n",
    "    save_strategy='epoch',\n",
    "    logging_steps=10\n",
    ")\n",
    "\n",
    "trainer = Trainer(\n",
    "    model=model,\n",
    "    args=training_args,\n",
    "    train_dataset=train_enc,\n",
    "    eval_dataset=test_enc,\n",
    "    compute_metrics=compute_metrics\n",
    ")"
   ],
   "execution_count": null,
   "outputs": []
  },
  {
   "cell_type": "markdown",
   "metadata": {},
   "source": [
    "## 🚀 8. Fine-tuning BERT\n",
    "\n",
    "This step may take a few minutes depending on your hardware (GPU recommended)."
   ]
  },
  {
   "cell_type": "code",
   "metadata": {},
   "source": [
    "# trainer.train()  # Uncomment to train the model"
   ],
   "execution_count": null,
   "outputs": []
  },
  {
   "cell_type": "markdown",
   "metadata": {},
   "source": [
    "## 📊 9. Evaluate the Model"
   ]
  },
  {
   "cell_type": "code",
   "metadata": {},
   "source": [
    "# results = trainer.evaluate()\n",
    "# print(results)"
   ],
   "execution_count": null,
   "outputs": []
  },
  {
   "cell_type": "markdown",
   "metadata": {},
   "source": [
    "## 💬 10. Making Predictions"
   ]
  },
  {
   "cell_type": "code",
   "metadata": {},
   "source": [
    "text = \"The movie was absolutely wonderful, I loved every moment!\"\n",
    "inputs = tokenizer(text, return_tensors='pt', padding=True, truncation=True, max_length=128)\n",
    "# outputs = model(**inputs)\n",
    "# prediction = torch.argmax(outputs.logits, dim=1).item()\n",
    "# print('Sentiment:', 'Positive' if prediction == 1 else 'Negative')"
   ],
   "execution_count": null,
   "outputs": []
  },
  {
   "cell_type": "markdown",
   "metadata": {},
   "source": [
    "## 🧭 Summary\n",
    "\n",
    "- **BERT** is a bidirectional Transformer-based model.\n",
    "- Pre-trained on large corpora, then **fine-tuned** for downstream tasks.\n",
    "- Hugging Face’s `transformers` makes implementation simple.\n",
    "- We can adapt BERT for various tasks beyond classification — such as **QA, NER, summarization**, etc.\n",
    "\n",
    "---\n",
    "**Next:** `14-Question_Answering_with_BERT.ipynb` → Build a Q&A model using pre-trained BERT!"
   ]
  }
 ],
 "metadata": {
  "kernelspec": {
   "display_name": "Python 3",
   "language": "python",
   "name": "python3"
  },
  "language_info": {
   "name": "python",
   "version": "3.10"
  }
 },
 "nbformat": 4,
 "nbformat_minor": 2
}

