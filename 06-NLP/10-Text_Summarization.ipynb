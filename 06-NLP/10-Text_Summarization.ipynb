{
 "cells": [
  {
   "cell_type": "markdown",
   "metadata": {},
   "source": [
    "# 📝 Text Summarization Basics\n",
    "\n",
    "Text Summarization is a Natural Language Processing (NLP) technique used to create a **short and meaningful summary** of a longer text. It helps extract key information while preserving the overall meaning.\n",
    "\n",
    "There are **two main types** of summarization:\n",
    "\n",
    "1. **Extractive Summarization:** Selects and combines important sentences directly from the text.\n",
    "2. **Abstractive Summarization:** Generates new sentences that convey the meaning of the text in a more human-like way."
   ]
  },
  {
   "cell_type": "markdown",
   "metadata": {},
   "source": [
    "## 🎯 Objectives\n",
    "- Understand the concept of extractive and abstractive summarization.\n",
    "- Perform extractive summarization using **Gensim**.\n",
    "- Perform abstractive summarization using **Hugging Face Transformers**."
   ]
  },
  {
   "cell_type": "code",
   "metadata": {},
   "source": [
    "# Install necessary libraries (uncomment if running for the first time)\n",
    "# !pip install gensim transformers torch"
   ],
   "execution_count": null,
   "outputs": []
  },
  {
   "cell_type": "markdown",
   "metadata": {},
   "source": [
    "## 🧩 Sample Text for Summarization"
   ]
  },
  {
   "cell_type": "code",
   "metadata": {},
   "source": [
    "text = \"\"\"\n",
    "Artificial Intelligence (AI) is transforming the world in extraordinary ways. It is being applied across various industries, \n",
    "from healthcare and finance to education and entertainment. AI technologies such as machine learning and deep learning are \n",
    "enabling computers to learn from data and make intelligent decisions. However, as AI continues to grow, concerns about ethics, \n",
    "bias, and privacy are also emerging. The challenge lies in balancing innovation with responsibility, ensuring AI benefits all of humanity.\n",
    "\"\"\""
   ],
   "execution_count": null,
   "outputs": []
  },
  {
   "cell_type": "markdown",
   "metadata": {},
   "source": [
    "## 🧠 Extractive Summarization using Gensim"
   ]
  },
  {
   "cell_type": "code",
   "metadata": {},
   "source": [
    "from gensim.summarization import summarize\n",
    "\n",
    "summary_gensim = summarize(text, ratio=0.4)\n",
    "print(\"Extractive Summary:\\n\")\n",
    "print(summary_gensim)"
   ],
   "execution_count": null,
   "outputs": []
  },
  {
   "cell_type": "markdown",
   "metadata": {},
   "source": [
    "## ✨ Abstractive Summarization using Transformers\n",
    "We’ll use the **T5 model** (Text-to-Text Transfer Transformer) for generating human-like summaries."
   ]
  },
  {
   "cell_type": "code",
   "metadata": {},
   "source": [
    "from transformers import pipeline\n",
    "\n",
    "# Load the summarization pipeline\n",
    "summarizer = pipeline('summarization', model='t5-small')\n",
    "\n",
    "summary_transformer = summarizer(text, max_length=80, min_length=25, do_sample=False)\n",
    "print(\"\\nAbstractive Summary:\\n\")\n",
    "print(summary_transformer[0]['summary_text'])"
   ],
   "execution_count": null,
   "outputs": []
  },
  {
   "cell_type": "markdown",
   "metadata": {},
   "source": [
    "## ⚖️ Extractive vs Abstractive Summaries\n",
    "\n",
    "| Feature | Extractive | Abstractive |\n",
    "|----------|-------------|-------------|\n",
    "| Approach | Picks sentences directly from text | Generates new sentences |\n",
    "| Output Style | Original phrasing | Human-like rephrasing |\n",
    "| Models | Gensim, TextRank | T5, BART, Pegasus |\n",
    "| Use Case | Quick summaries | Natural language reports |"
   ]
  },
  {
   "cell_type": "markdown",
   "metadata": {},
   "source": [
    "## 🧪 Try It Yourself\n",
    "Replace the `text` variable with your own article, research paper, or blog content and observe how the summaries differ between extractive and abstractive models."
   ]
  },
  {
   "cell_type": "markdown",
   "metadata": {},
   "source": [
    "## 📚 Summary\n",
    "- **Text Summarization** condenses large text into concise form.\n",
    "- **Extractive** summarization selects key sentences.\n",
    "- **Abstractive** summarization generates a new summary using deep learning models.\n",
    "- Libraries like **Gensim** and **Transformers** make implementation simple and powerful."
   ]
  }
 ],
 "metadata": {
  "kernelspec": {
   "display_name": "Python 3",
   "language": "python",
   "name": "python3"
  },
  "language_info": {
   "name": "python",
   "version": "3.10"
  }
 },
 "nbformat": 4,
 "nbformat_minor": 2
}
