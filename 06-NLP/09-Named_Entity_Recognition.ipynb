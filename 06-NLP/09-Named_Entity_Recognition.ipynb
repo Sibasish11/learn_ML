
{
 "cells": [
  {
   "cell_type": "markdown",
   "metadata": {},
   "source": [
    "# 🧠 Named Entity Recognition (NER)\n",
    "\n",
    "Named Entity Recognition (NER) is a key task in Natural Language Processing (NLP) that involves identifying and classifying entities in text into predefined categories such as *person names, organizations, locations, dates, quantities*, etc.\n",
    "\n",
    "**Example:**\n",
    "> \"Elon Musk founded SpaceX in 2002 in California.\"  \n",
    "> Entities: `Elon Musk (PERSON)`, `SpaceX (ORG)`, `2002 (DATE)`, `California (GPE)`"
   ]
  },
  {
   "cell_type": "markdown",
   "metadata": {},
   "source": [
    "## 📘 Objectives\n",
    "- Understand what NER is and why it’s useful.\n",
    "- Perform Named Entity Recognition using **spaCy**.\n",
    "- Visualize recognized entities.\n",
    "- Try custom examples for better understanding."
   ]
  },
  {
   "cell_type": "code",
   "metadata": {},
   "source": [
    "# Install spaCy (if not already installed)\n",
    "# !pip install spacy\n",
    "# !python -m spacy download en_core_web_sm"
   ],
   "execution_count": null,
   "outputs": []
  },
  {
   "cell_type": "code",
   "metadata": {},
   "source": [
    "import spacy\n",
    "from spacy import displacy\n",
    "\n",
    "# Load English NLP model\n",
    "nlp = spacy.load('en_core_web_sm')"
   ],
   "execution_count": null,
   "outputs": []
  },
  {
   "cell_type": "markdown",
   "metadata": {},
   "source": [
    "## 🧩 Example Text for NER"
   ]
  },
  {
   "cell_type": "code",
   "metadata": {},
   "source": [
    "text = \"Barack Obama was born in Hawaii and served as the 44th President of the United States. He now lives in Washington D.C.\"\n",
    "doc = nlp(text)\n",
    "\n",
    "# Display entities\n",
    "for ent in doc.ents:\n",
    "    print(f\"{ent.text} -> {ent.label_}\")"
   ],
   "execution_count": null,
   "outputs": []
  },
  {
   "cell_type": "markdown",
   "metadata": {},
   "source": [
    "### 🖼️ Visualize Entities"
   ]
  },
  {
   "cell_type": "code",
   "metadata": {},
   "source": [
    "displacy.render(doc, style='ent', jupyter=True)"
   ],
   "execution_count": null,
   "outputs": []
  },
  {
   "cell_type": "markdown",
   "metadata": {},
   "source": [
    "## 🧠 Common Entity Types\n",
    "\n",
    "| Entity Label | Meaning |\n",
    "|---------------|----------|\n",
    "| PERSON | People, fictional characters |\n",
    "| ORG | Companies, agencies, institutions |\n",
    "| GPE | Countries, cities, states |\n",
    "| LOC | Non-GPE locations (mountains, rivers, etc.) |\n",
    "| DATE | Absolute or relative dates |\n",
    "| TIME | Times smaller than a day |\n",
    "| MONEY | Monetary values |\n",
    "| PERCENT | Percentage values |\n",
    "| PRODUCT | Products, devices |\n",
    "| EVENT | Named events |\n",
    "| WORK_OF_ART | Titles of books, songs, etc. |"
   ]
  },
  {
   "cell_type": "markdown",
   "metadata": {},
   "source": [
    "## 🧪 Try It Yourself\n",
    "You can modify the `text` variable to include your own examples — e.g. company announcements, sports news, or movie summaries — and see what entities the model identifies."
   ]
  },
  {
   "cell_type": "markdown",
   "metadata": {},
   "source": [
    "## 📚 Summary\n",
    "- NER helps extract structured information from unstructured text.\n",
    "- Pre-trained models (like spaCy’s) are fast and accurate for general-purpose text.\n",
    "- You can train custom NER models for domain-specific tasks (like medical or financial text)."
   ]
  }
 ],
 "metadata": {
  "kernelspec": {
   "display_name": "Python 3",
   "language": "python",
   "name": "python3"
  },
  "language_info": {
   "name": "python",
   "version": "3.10"
  }
 },
 "nbformat": 4,
 "nbformat_minor": 2
}
