{
 "cells": [
  {
   "cell_type": "markdown",
   "metadata": {},
   "source": [
    "# Dimensionality Reduction\n",
    "\n",
    "Dimensionality reduction reduces the number of features while keeping important information.\n",
    "\n",
    "### Why Dimensionality Reduction?\n",
    "- Simplify high-dimensional data\n",
    "- Reduce noise & redundancy\n",
    "- Speed up training\n",
    "- Improve visualization (2D/3D)\n",
    "\n",
    "### Popular Techniques:\n",
    "- **PCA (Principal Component Analysis)**: Unsupervised, captures variance.\n",
    "- **LDA (Linear Discriminant Analysis)**: Supervised, maximizes class separability.\n",
    "- **t-SNE / UMAP**: Non-linear visualization methods (good for clusters).\n"
   ]
  },
  {
   "cell_type": "code",
   "execution_count": 1,
   "metadata": {},
   "outputs": [],
   "source": [
    "# Import libraries\n",
    "import numpy as np\n",
    "import matplotlib.pyplot as plt\n",
    "import seaborn as sns\n",
    "from sklearn.datasets import load_digits\n",
    "from sklearn.preprocessing import StandardScaler\n",
    "from sklearn.decomposition import PCA\n",
    "from sklearn.discriminant_analysis import LinearDiscriminantAnalysis as LDA\n",
    "from sklearn.manifold import TSNE"
   ]
  },
  {
   "cell_type": "code",
   "execution_count": 2,
   "metadata": {},
   "outputs": [],
   "source": [
    "# Load dataset (Digits dataset)\n",
    "digits = load_digits()\n",
    "X = digits.data\n",
    "y = digits.target\n",
    "\n",
    "print(\"Original shape:\", X.shape)"
   ]
  },
  {
   "cell_type": "code",
   "execution_count": 3,
   "metadata": {},
   "outputs": [],
   "source": [
    "# Standardize data\n",
    "scaler = StandardScaler()\n",
    "X_scaled = scaler.fit_transform(X)"
   ]
  },
  {
   "cell_type": "markdown",
   "metadata": {},
   "source": [
    "## 1. Principal Component Analysis (PCA)"
   ]
  },
  {
   "cell_type": "code",
   "execution_count": 4,
   "metadata": {},
   "outputs": [],
   "source": [
    "pca = PCA(n_components=2)\n",
    "X_pca = pca.fit_transform(X_scaled)\n",
    "\n",
    "plt.figure(figsize=(8, 6))\n",
    "scatter = plt.scatter(X_pca[:, 0], X_pca[:, 1], c=y, cmap='tab10', s=15)\n",
    "plt.legend(*scatter.legend_elements(), title=\"Digits\")\n",
    "plt.title(\"PCA (2 Components)\")\n",
    "plt.show()\n",
    "\n",
    "print(\"Explained variance ratio:\", pca.explained_variance_ratio_)"
   ]
  },
  {
   "cell_type": "markdown",
   "metadata": {},
   "source": [
    "## 2. Linear Discriminant Analysis (LDA)\n",
    "Supervised method: tries to separate classes while reducing dimensions."
   ]
  },
  {
   "cell_type": "code",
   "execution_count": 5,
   "metadata": {},
   "outputs": [],
   "source": [
    "lda = LDA(n_components=2)\n",
    "X_lda = lda.fit_transform(X_scaled, y)\n",
    "\n",
    "plt.figure(figsize=(8, 6))\n",
    "scatter = plt.scatter(X_lda[:, 0], X_lda[:, 1], c=y, cmap='tab10', s=15)\n",
    "plt.legend(*scatter.legend_elements(), title=\"Digits\")\n",
    "plt.title(\"LDA (2 Components)\")\n",
    "plt.show()"
   ]
  },
  {
   "cell_type": "markdown",
   "metadata": {},
   "source": [
    "## 3. t-SNE (t-Distributed Stochastic Neighbor Embedding)\n",
    "t-SNE is non-linear and mainly used for visualization in 2D/3D."
   ]
  },
  {
   "cell_type": "code",
   "execution_count": 6,
   "metadata": {},
   "outputs": [],
   "source": [
    "tsne = TSNE(n_components=2, random_state=42, perplexity=30)\n",
    "X_tsne = tsne.fit_transform(X_scaled[:1000])  # use subset (t-SNE is slow)\n",
    "y_subset = y[:1000]\n",
    "\n",
    "plt.figure(figsize=(8, 6))\n",
    "scatter = plt.scatter(X_tsne[:, 0], X_tsne[:, 1], c=y_subset, cmap='tab10', s=15)\n",
    "plt.legend(*scatter.legend_elements(), title=\"Digits\")\n",
    "plt.title(\"t-SNE (2 Components)\")\n",
    "plt.show()"
   ]
  },
  {
   "cell_type": "markdown",
   "metadata": {},
   "source": [
    "### Key Takeaways:\n",
    "- **PCA**: Unsupervised, fast, keeps variance.\n",
    "- **LDA**: Supervised, maximizes class separation.\n",
    "- **t-SNE**: Non-linear, great for visualization (but slow).\n",
    "\n",
    "👉 Use PCA/LDA for preprocessing before ML models, and t-SNE mainly for plotting high-dimensional data."
   ]
  }
 ],
 "metadata": {
  "kernelspec": {
   "display_name": "Python 3",
   "language": "python",
   "name": "python3"
  },
  "language_info": {
   "name": "python",
    "version": "3.9"
  }
 },
 "nbformat": 4,
 "nbformat_minor": 2
}
