{
 "cells": [
  {
   "cell_type": "markdown",
   "metadata": {},
   "source": [
    "# K-Means Clustering\n",
    "\n",
    "K-Means is an **unsupervised learning algorithm** used for clustering data into groups.\n",
    "\n",
    "### Key Concepts:\n",
    "- K-Means partitions the data into **K clusters**.\n",
    "- Each cluster is represented by its **centroid** (mean position).\n",
    "- Algorithm works iteratively:\n",
    "  1. Choose K initial centroids.\n",
    "  2. Assign each data point to nearest centroid.\n",
    "  3. Update centroids (recompute means).\n",
    "  4. Repeat until convergence.\n",
    "\n",
    "### Pros:\n",
    "- Simple and fast.\n",
    "- Works well with spherical, well-separated clusters.\n",
    "\n",
    "### Cons:\n",
    "- Must specify K in advance.\n",
    "- Sensitive to outliers and scaling.\n",
    "- Assumes clusters are spherical.\n"
   ]
  },
  {
   "cell_type": "code",
   "execution_count": 1,
   "metadata": {},
   "outputs": [],
   "source": [
    "# Import libraries\n",
    "import numpy as np\n",
    "import matplotlib.pyplot as plt\n",
    "import seaborn as sns\n",
    "from sklearn.datasets import make_blobs\n",
    "from sklearn.cluster import KMeans\n"
   ]
  },
  {
   "cell_type": "code",
   "execution_count": 2,
   "metadata": {},
   "outputs": [],
   "source": [
    "# Generate synthetic dataset\n",
    "X, y_true = make_blobs(n_samples=300, centers=4, cluster_std=0.6, random_state=42)\n",
    "\n",
    "plt.scatter(X[:, 0], X[:, 1], s=30, cmap='viridis')\n",
    "plt.title(\"Synthetic Data for K-Means\")\n",
    "plt.show()"
   ]
  },
  {
   "cell_type": "code",
   "execution_count": 3,
   "metadata": {},
   "outputs": [],
   "source": [
    "# Train K-Means\n",
    "kmeans = KMeans(n_clusters=4, random_state=42, n_init=10)\n",
    "kmeans.fit(X)\n",
    "\n",
    "# Predicted cluster labels\n",
    "y_kmeans = kmeans.predict(X)"
   ]
  },
  {
   "cell_type": "code",
   "execution_count": 4,
   "metadata": {},
   "outputs": [],
   "source": [
    "# Visualize clusters\n",
    "plt.scatter(X[:, 0], X[:, 1], c=y_kmeans, s=30, cmap='viridis')\n",
    "centers = kmeans.cluster_centers_\n",
    "plt.scatter(centers[:, 0], centers[:, 1], c='red', s=200, alpha=0.75, marker='X', label='Centroids')\n",
    "plt.title(\"K-Means Clustering Results\")\n",
    "plt.legend()\n",
    "plt.show()"
   ]
  },
  {
   "cell_type": "code",
   "execution_count": 5,
   "metadata": {},
   "outputs": [],
   "source": [
    "# Elbow Method to choose optimal K\n",
    "inertia = []\n",
    "K_range = range(1, 10)\n",
    "\n",
    "for k in K_range:\n",
    "    km = KMeans(n_clusters=k, random_state=42, n_init=10)\n",
    "    km.fit(X)\n",
    "    inertia.append(km.inertia_)\n",
    "\n",
    "plt.plot(K_range, inertia, 'bo-')\n",
    "plt.xlabel('Number of Clusters K')\n",
    "plt.ylabel('Inertia (Within-cluster sum of squares)')\n",
    "plt.title('Elbow Method for Optimal K')\n",
    "plt.show()"
   ]
  },
  {
   "cell_type": "markdown",
   "metadata": {},
   "source": [
    "### Key Takeaways:\n",
    "- K-Means is simple and effective for clustering tasks.\n",
    "- Must choose the number of clusters **K** (use Elbow method or Silhouette score).\n",
    "- Works well when clusters are round and equally sized.\n",
    "- Sensitive to scaling and initialization.\n"
   ]
  }
 ],
 "metadata": {
  "kernelspec": {
   "display_name": "Python 3",
   "language": "python",
   "name": "python3"
  },
  "language_info": {
   "name": "python",
   "version": "3.9"
  }
 },
 "nbformat": 4,
 "nbformat_minor": 2
}
