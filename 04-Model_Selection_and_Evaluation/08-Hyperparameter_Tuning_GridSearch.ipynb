{
 "cells": [
  {
   "cell_type": "markdown",
   "metadata": {},
   "source": [
    "# Hyperparameter Tuning with Grid Search\n",
    "\n",
    "Hyperparameters are settings **outside the training process** (e.g., learning rate, number of trees, regularization strength). Choosing the right hyperparameters is crucial for good model performance.\n",
    "\n",
    "## Why Hyperparameter Tuning?\n",
    "- Different hyperparameters can drastically change model accuracy.\n",
    "- Manual trial-and-error is inefficient.\n",
    "- Automated search strategies like **Grid Search** and **Random Search** are commonly used.\n",
    "\n",
    "## Grid Search\n",
    "- Systematically tries all possible combinations of hyperparameters.\n",
    "- Uses **cross-validation** to evaluate each combination.\n",
    "- Computationally expensive, but guarantees testing all options.\n",
    "\n",
    "### Example Parameters:\n",
    "- Logistic Regression: regularization parameter `C`, penalty type.\n",
    "- Random Forest: number of trees (`n_estimators`), tree depth (`max_depth`).\n"
   ]
  },
  {
   "cell_type": "code",
   "execution_count": null,
   "metadata": {},
   "outputs": [],
   "source": [
    "# Example: Grid Search with Logistic Regression\n",
    "from sklearn.datasets import load_breast_cancer\n",
    "from sklearn.model_selection import GridSearchCV, train_test_split\n",
    "from sklearn.linear_model import LogisticRegression\n",
    "\n",
    "# Load dataset\n",
    "data = load_breast_cancer()\n",
    "X, y = data.data, data.target\n",
    "\n",
    "X_train, X_test, y_train, y_test = train_test_split(X, y, test_size=0.2, random_state=42)\n",
    "\n",
    "# Define model and parameters\n",
    "model = LogisticRegression(max_iter=500, solver='liblinear')\n",
    "param_grid = {\n",
    "    'C': [0.01, 0.1, 1, 10, 100],\n",
    "    'penalty': ['l1', 'l2']\n",
    "}\n",
    "\n",
    "# Grid Search with 5-fold cross-validation\n",
    "grid = GridSearchCV(model, param_grid, cv=5, scoring='accuracy')\n",
    "grid.fit(X_train, y_train)\n",
    "\n",
    "print(\"Best Parameters:\", grid.best_params_)\n",
    "print(\"Best Cross-Validation Accuracy:\", grid.best_score_)\n",
    "print(\"Test Accuracy:\", grid.score(X_test, y_test))"
   ]
  },
  {
   "cell_type": "markdown",
   "metadata": {},
   "source": [
    "## Key Takeaways\n",
    "- Grid Search evaluates all possible combinations.\n",
    "- Best for **small parameter spaces**.\n",
    "- For larger parameter spaces, consider **Random Search** or **Bayesian Optimization**."
   ]
  }
 ],
 "metadata": {
  "kernelspec": {
   "display_name": "Python 3",
   "language": "python",
   "name": "python3"
  },
  "language_info": {
   "name": "python",
   "version": "3.10"
  }
 },
 "nbformat": 4,
 "nbformat_minor": 5
}
