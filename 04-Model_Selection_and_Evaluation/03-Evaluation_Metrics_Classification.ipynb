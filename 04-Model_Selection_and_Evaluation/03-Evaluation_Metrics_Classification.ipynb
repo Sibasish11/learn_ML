{
 "cells": [
  {
   "cell_type": "markdown",
   "metadata": {},
   "source": [
    "# Evaluation Metrics for Classification\n",
    "\n",
    "When solving a **classification problem**, accuracy alone is not always enough. We use several metrics to evaluate models properly.\n",
    "\n",
    "---\n",
    "## 1. Accuracy\n",
    "- Percentage of correct predictions.\n",
    "- Works well when classes are balanced.\n",
    "- Formula: **(TP + TN) / (TP + TN + FP + FN)**\n",
    "\n",
    "## 2. Precision\n",
    "- Of all predicted positives, how many are correct?\n",
    "- Formula: **TP / (TP + FP)**\n",
    "\n",
    "## 3. Recall (Sensitivity)\n",
    "- Of all actual positives, how many were correctly predicted?\n",
    "- Formula: **TP / (TP + FN)**\n",
    "\n",
    "## 4. F1-Score\n",
    "- Harmonic mean of Precision and Recall.\n",
    "- Good for imbalanced datasets.\n",
    "- Formula: **2 * (Precision * Recall) / (Precision + Recall)**\n",
    "\n",
    "## 5. Confusion Matrix\n",
    "- Table showing TP, TN, FP, FN.\n",
    "- Helps visualize classification performance.\n",
    "\n",
    "## 6. ROC Curve & AUC\n",
    "- ROC Curve → trade-off between True Positive Rate and False Positive Rate.\n",
    "- AUC (Area Under Curve) → higher is better.\n",
    "\n",
    "---\n",
    "These metrics help in comparing classifiers and understanding their strengths/weaknesses."
   ]
  },
  {
   "cell_type": "code",
   "execution_count": null,
   "metadata": {},
   "outputs": [],
   "source": [
    "# Example: Classification Metrics\n",
    "from sklearn.datasets import load_iris\n",
    "from sklearn.model_selection import train_test_split\n",
    "from sklearn.linear_model import LogisticRegression\n",
    "from sklearn.metrics import accuracy_score, precision_score, recall_score, f1_score, confusion_matrix, classification_report\n",
    "\n",
    "# Load dataset (binary classification example using Iris)\n",
    "X, y = load_iris(return_X_y=True)\n",
    "# Only keep classes 0 and 1 for binary case\n",
    "X, y = X[y < 2], y[y < 2]\n",
    "\n",
    "# Train-test split\n",
    "X_train, X_test, y_train, y_test = train_test_split(X, y, test_size=0.2, random_state=42)\n",
    "\n",
    "# Train logistic regression\n",
    "model = LogisticRegression()\n",
    "model.fit(X_train, y_train)\n",
    "\n",
    "# Predictions\n",
    "y_pred = model.predict(X_test)\n",
    "\n",
    "# Metrics\n",
    "print(\"Accuracy:\", accuracy_score(y_test, y_pred))\n",
    "print(\"Precision:\", precision_score(y_test, y_pred))\n",
    "print(\"Recall:\", recall_score(y_test, y_pred))\n",
    "print(\"F1 Score:\", f1_score(y_test, y_pred))\n",
    "print(\"\\nConfusion Matrix:\\n\", confusion_matrix(y_test, y_pred))\n",
    "print(\"\\nClassification Report:\\n\", classification_report(y_test, y_pred))"
   ]
  }
 ],
 "metadata": {
  "kernelspec": {
   "display_name": "Python 3",
   "language": "python",
   "name": "python3"
  },
  "language_info": {
   "name": "python",
   "version": "3.10"
  }
 },
 "nbformat": 4,
 "nbformat_minor": 5
}
