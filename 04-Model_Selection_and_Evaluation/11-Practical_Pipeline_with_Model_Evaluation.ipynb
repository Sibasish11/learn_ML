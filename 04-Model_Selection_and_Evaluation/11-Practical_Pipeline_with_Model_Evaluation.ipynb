{
 "cells": [
  {
   "cell_type": "markdown",
   "metadata": {},
   "source": [
    "# Practical Pipeline with Model Evaluation\n",
    "\n",
    "In real-world machine learning, we combine **data preprocessing, model training, hyperparameter tuning, and evaluation** into a single pipeline.\n",
    "\n",
    "## Why Use Pipelines?\n",
    "- Keeps code **clean and modular**.\n",
    "- Ensures that preprocessing (e.g., scaling, encoding) is applied consistently during training and testing.\n",
    "- Integrates with **cross-validation** and hyperparameter tuning.\n"
   ]
  },
  {
   "cell_type": "code",
   "execution_count": null,
   "metadata": {},
   "outputs": [],
   "source": [
    "# Example: Pipeline with StandardScaler + Logistic Regression + Cross-Validation\n",
    "from sklearn.datasets import load_breast_cancer\n",
    "from sklearn.model_selection import train_test_split, cross_val_score\n",
    "from sklearn.preprocessing import StandardScaler\n",
    "from sklearn.pipeline import Pipeline\n",
    "from sklearn.linear_model import LogisticRegression\n",
    "import numpy as np\n",
    "\n",
    "# Load dataset\n",
    "data = load_breast_cancer()\n",
    "X, y = data.data, data.target\n",
    "\n",
    "# Train-test split\n",
    "X_train, X_test, y_train, y_test = train_test_split(X, y, test_size=0.2, random_state=42)\n",
    "\n",
    "# Define pipeline\n",
    "pipeline = Pipeline([\n",
    "    ('scaler', StandardScaler()),\n",
    "    ('model', LogisticRegression(max_iter=500))\n",
    "])\n",
    "\n",
    "# Cross-validation evaluation\n",
    "scores = cross_val_score(pipeline, X_train, y_train, cv=5, scoring='accuracy')\n",
    "print(\"Cross-Validation Accuracy: %.3f ± %.3f\" % (np.mean(scores), np.std(scores)))\n",
    "\n",
    "# Train and evaluate on test set\n",
    "pipeline.fit(X_train, y_train)\n",
    "print(\"Test Accuracy:\", pipeline.score(X_test, y_test))"
   ]
  },
  {
   "cell_type": "markdown",
   "metadata": {},
   "source": [
    "## Key Takeaways\n",
    "- Pipelines streamline preprocessing + modeling.\n",
    "- Work seamlessly with **cross-validation** and **hyperparameter tuning**.\n",
    "- Helps prevent data leakage (applying preprocessing separately on train/test).\n",
    "\n",
    "Always use pipelines in production ML workflows."
   ]
  }
 ],
 "metadata": {
  "kernelspec": {
   "display_name": "Python 3",
   "language": "python",
   "name": "python3"
  },
  "language_info": {
   "name": "python",
   "version": "3.10"
  }
 },
 "nbformat": 4,
 "nbformat_minor": 5
}
