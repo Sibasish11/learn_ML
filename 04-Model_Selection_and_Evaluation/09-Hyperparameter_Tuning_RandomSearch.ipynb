{
 "cells": [
  {
   "cell_type": "markdown",
   "metadata": {},
   "source": [
    "# Hyperparameter Tuning with Random Search\n",
    "\n",
    "Grid Search tries **all combinations**, but this can be slow for large parameter spaces. **Random Search** samples random combinations instead, making it much faster while often finding near-optimal results.\n",
    "\n",
    "## Why Random Search?\n",
    "- Faster than Grid Search when many hyperparameters exist.\n",
    "- Provides good results with fewer evaluations.\n",
    "- Particularly useful for high-dimensional search spaces.\n",
    "\n",
    "### Example Parameters:\n",
    "- Logistic Regression: regularization parameter `C`, penalty type.\n",
    "- Random Forest: number of trees (`n_estimators`), depth (`max_depth`), features considered at split.\n"
   ]
  },
  {
   "cell_type": "code",
   "execution_count": null,
   "metadata": {},
   "outputs": [],
   "source": [
    "# Example: Random Search with Random Forest\n",
    "from sklearn.datasets import load_breast_cancer\n",
    "from sklearn.model_selection import RandomizedSearchCV, train_test_split\n",
    "from sklearn.ensemble import RandomForestClassifier\n",
    "import numpy as np\n",
    "\n",
    "# Load dataset\n",
    "data = load_breast_cancer()\n",
    "X, y = data.data, data.target\n",
    "X_train, X_test, y_train, y_test = train_test_split(X, y, test_size=0.2, random_state=42)\n",
    "\n",
    "# Define model and parameter space\n",
    "model = RandomForestClassifier(random_state=42)\n",
    "param_dist = {\n",
    "    'n_estimators': [50, 100, 200, 300],\n",
    "    'max_depth': [None, 5, 10, 20],\n",
    "    'max_features': ['sqrt', 'log2'],\n",
    "    'min_samples_split': [2, 5, 10]\n",
    "}\n",
    "\n",
    "# Random Search (10 random combinations)\n",
    "random_search = RandomizedSearchCV(model, param_distributions=param_dist,\n",
    "                                   n_iter=10, cv=5, scoring='accuracy', random_state=42)\n",
    "random_search.fit(X_train, y_train)\n",
    "\n",
    "print(\"Best Parameters:\", random_search.best_params_)\n",
    "print(\"Best Cross-Validation Accuracy:\", random_search.best_score_)\n",
    "print(\"Test Accuracy:\", random_search.score(X_test, y_test))"
   ]
  },
  {
   "cell_type": "markdown",
   "metadata": {},
   "source": [
    "## Key Takeaways\n",
    "- Random Search is faster and more scalable than Grid Search.\n",
    "- Works well when some hyperparameters have little impact.\n",
    "- For even more efficiency, try **Bayesian Optimization** or libraries like Optuna/Hyperopt."
   ]
  }
 ],
 "metadata": {
  "kernelspec": {
   "display_name": "Python 3",
   "language": "python",
   "name": "python3"
  },
  "language_info": {
   "name": "python",
   "version": "3.10"
  }
 },
 "nbformat": 4,
 "nbformat_minor": 5
}
