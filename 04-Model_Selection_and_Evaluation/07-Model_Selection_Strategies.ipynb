{
 "cells": [
  {
   "cell_type": "markdown",
   "metadata": {},
   "source": [
    "# Model Selection Strategies\n",
    "\n",
    "Selecting the right model is crucial for building effective machine learning systems. Different strategies help us decide which model performs best on unseen data.\n",
    "\n",
    "## 1. Hold-out Method\n",
    "- Split data into **train, validation, and test sets**.\n",
    "- Train on training set, tune hyperparameters on validation set, and evaluate on test set.\n",
    "\n",
    "## 2. Cross-Validation (CV)\n",
    "- Data is split into *k* folds.\n",
    "- Train on (k-1) folds, validate on 1 fold, repeat k times.\n",
    "- Average results across folds.\n",
    "- More reliable than a single split.\n",
    "\n",
    "## 3. Grid Search / Random Search\n",
    "- **Grid Search:** Try all possible combinations of hyperparameters.\n",
    "- **Random Search:** Randomly sample hyperparameters (faster).\n",
    "- Both usually combined with cross-validation.\n",
    "\n",
    "## 4. Bayesian Optimization / Advanced Search\n",
    "- Uses probability models to guide hyperparameter tuning.\n",
    "- More efficient than grid/random search.\n",
    "\n",
    "## 5. Ensemble Methods for Model Selection\n",
    "- Sometimes combining models (bagging, boosting, stacking) gives better results than selecting a single best model.\n",
    "\n",
    "## 6. Practical Considerations\n",
    "- Avoid overfitting to validation data.\n",
    "- Always evaluate final performance on a separate test set."
   ]
  },
  {
   "cell_type": "code",
   "execution_count": null,
   "metadata": {},
   "outputs": [],
   "source": [
    "# Example: Comparing Logistic Regression and Random Forest with Cross-Validation\n",
    "from sklearn.datasets import load_breast_cancer\n",
    "from sklearn.model_selection import cross_val_score\n",
    "from sklearn.linear_model import LogisticRegression\n",
    "from sklearn.ensemble import RandomForestClassifier\n",
    "import numpy as np\n",
    "\n",
    "data = load_breast_cancer()\n",
    "X, y = data.data, data.target\n",
    "\n",
    "models = {\n",
    "    'Logistic Regression': LogisticRegression(max_iter=500, solver='liblinear'),\n",
    "    'Random Forest': RandomForestClassifier(n_estimators=100, random_state=42)\n",
    "}\n",
    "\n",
    "for name, model in models.items():\n",
    "    scores = cross_val_score(model, X, y, cv=5)\n",
    "    print(f\"{name}: Mean Accuracy = {np.mean(scores):.3f}, Std = {np.std(scores):.3f}\")"
   ]
  }
 ],
 "metadata": {
  "kernelspec": {
   "display_name": "Python 3",
   "language": "python",
   "name": "python3"
  },
  "language_info": {
   "name": "python",
   "version": "3.10"
  }
 },
 "nbformat": 4,
 "nbformat_minor": 5
}
