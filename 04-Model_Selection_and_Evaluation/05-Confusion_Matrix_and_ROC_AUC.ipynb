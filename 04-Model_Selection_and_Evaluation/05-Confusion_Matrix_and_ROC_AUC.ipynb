{
 "cells": [
  {
   "cell_type": "markdown",
   "metadata": {},
   "source": [
    "# Confusion Matrix and ROC-AUC\n",
    "\n",
    "In classification problems, two very powerful evaluation tools are the **confusion matrix** and the **ROC-AUC curve**.\n",
    "\n",
    "---\n",
    "## 1. Confusion Matrix\n",
    "- A table that shows how many predictions were correct/incorrect.\n",
    "- Structure (for binary classification):\n",
    "\n",
    "|               | Predicted Positive | Predicted Negative |\n",
    "|---------------|-------------------|-------------------|\n",
    "| **Actual Positive** | True Positive (TP)   | False Negative (FN)  |\n",
    "| **Actual Negative** | False Positive (FP)  | True Negative (TN)   |\n",
    "\n",
    "- Helps to calculate Precision, Recall, and F1-Score.\n",
    "\n",
    "---\n",
    "## 2. ROC Curve (Receiver Operating Characteristic)\n",
    "- Plots **True Positive Rate (TPR)** vs **False Positive Rate (FPR)** at different thresholds.\n",
    "- TPR = Recall = TP / (TP + FN).\n",
    "- FPR = FP / (FP + TN).\n",
    "\n",
    "## 3. AUC (Area Under Curve)\n",
    "- Measures the entire ROC curve as a single number.\n",
    "- Ranges from 0.5 (random guessing) to 1.0 (perfect classifier).\n",
    "- Higher AUC = better classifier.\n",
    "\n",
    "---\n",
    "Together, these tools provide deeper insights into classification performance than accuracy alone."
   ]
  },
  {
   "cell_type": "code",
   "execution_count": null,
   "metadata": {},
   "outputs": [],
   "source": [
    "# Example: Confusion Matrix and ROC-AUC\n",
    "from sklearn.datasets import load_breast_cancer\n",
    "from sklearn.model_selection import train_test_split\n",
    "from sklearn.linear_model import LogisticRegression\n",
    "from sklearn.metrics import confusion_matrix, roc_curve, roc_auc_score\n",
    "import matplotlib.pyplot as plt\n",
    "\n",
    "# Load dataset\n",
    "X, y = load_breast_cancer(return_X_y=True)\n",
    "\n",
    "# Train-test split\n",
    "X_train, X_test, y_train, y_test = train_test_split(X, y, test_size=0.2, random_state=42)\n",
    "\n",
    "# Train model\n",
    "model = LogisticRegression(max_iter=500)\n",
    "model.fit(X_train, y_train)\n",
    "\n",
    "# Predictions\n",
    "y_pred = model.predict(X_test)\n",
    "y_prob = model.predict_proba(X_test)[:, 1]\n",
    "\n",
    "# Confusion Matrix\n",
    "cm = confusion_matrix(y_test, y_pred)\n",
    "print(\"Confusion Matrix:\\n\", cm)\n",
    "\n",
    "# ROC Curve\n",
    "fpr, tpr, thresholds = roc_curve(y_test, y_prob)\n",
    "auc = roc_auc_score(y_test, y_prob)\n",
    "\n",
    "plt.plot(fpr, tpr, label=f'ROC Curve (AUC = {auc:.2f})')\n",
    "plt.plot([0, 1], [0, 1], 'k--')\n",
    "plt.xlabel('False Positive Rate')\n",
    "plt.ylabel('True Positive Rate')\n",
    "plt.title('ROC Curve')\n",
    "plt.legend()\n",
    "plt.show()"
   ]
  }
 ],
 "metadata": {
  "kernelspec": {
   "display_name": "Python 3",
   "language": "python",
   "name": "python3"
  },
  "language_info": {
   "name": "python",
   "version": "3.10"
  }
 },
 "nbformat": 4,
 "nbformat_minor": 5
}
