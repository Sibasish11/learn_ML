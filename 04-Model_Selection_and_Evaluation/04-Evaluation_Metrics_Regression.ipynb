{
 "cells": [
  {
   "cell_type": "markdown",
   "metadata": {},
   "source": [
    "# Evaluation Metrics for Regression\n",
    "\n",
    "For **regression problems**, the goal is to predict continuous values. Accuracy (used in classification) doesn’t apply here. Instead, we use metrics that measure **error** and **fit quality**.\n",
    "\n",
    "---\n",
    "## 1. Mean Absolute Error (MAE)\n",
    "- Average of absolute differences between predicted and actual values.\n",
    "- Formula: **MAE = (1/n) Σ |y_true - y_pred|**\n",
    "- Intuitive: On average, how far predictions are from actual values.\n",
    "\n",
    "## 2. Mean Squared Error (MSE)\n",
    "- Average of squared differences.\n",
    "- Formula: **MSE = (1/n) Σ (y_true - y_pred)²**\n",
    "- Penalizes larger errors more.\n",
    "\n",
    "## 3. Root Mean Squared Error (RMSE)\n",
    "- Square root of MSE.\n",
    "- Same unit as target variable.\n",
    "- Easier to interpret than MSE.\n",
    "\n",
    "## 4. R² Score (Coefficient of Determination)\n",
    "- Measures how much variance in target is explained by the model.\n",
    "- Range: 0 to 1 (higher is better).\n",
    "- Formula: **R² = 1 - (SS_res / SS_tot)**\n",
    "\n",
    "---\n",
    "These metrics help us evaluate regression models fairly and compare different algorithms."
   ]
  },
  {
   "cell_type": "code",
   "execution_count": null,
   "metadata": {},
   "outputs": [],
   "source": [
    "# Example: Regression Metrics\n",
    "from sklearn.datasets import load_diabetes\n",
    "from sklearn.model_selection import train_test_split\n",
    "from sklearn.linear_model import LinearRegression\n",
    "from sklearn.metrics import mean_absolute_error, mean_squared_error, r2_score\n",
    "import numpy as np\n",
    "\n",
    "# Load dataset\n",
    "X, y = load_diabetes(return_X_y=True)\n",
    "\n",
    "# Train-test split\n",
    "X_train, X_test, y_train, y_test = train_test_split(X, y, test_size=0.2, random_state=42)\n",
    "\n",
    "# Train Linear Regression\n",
    "model = LinearRegression()\n",
    "model.fit(X_train, y_train)\n",
    "\n",
    "# Predictions\n",
    "y_pred = model.predict(X_test)\n",
    "\n",
    "# Metrics\n",
    "mae = mean_absolute_error(y_test, y_pred)\n",
    "mse = mean_squared_error(y_test, y_pred)\n",
    "rmse = np.sqrt(mse)\n",
    "r2 = r2_score(y_test, y_pred)\n",
    "\n",
    "print(\"Mean Absolute Error:\", mae)\n",
    "print(\"Mean Squared Error:\", mse)\n",
    "print(\"Root Mean Squared Error:\", rmse)\n",
    "print(\"R² Score:\", r2)"
   ]
  }
 ],
 "metadata": {
  "kernelspec": {
   "display_name": "Python 3",
   "language": "python",
   "name": "python3"
  },
  "language_info": {
   "name": "python",
   "version": "3.10"
  }
 },
 "nbformat": 4,
 "nbformat_minor": 5
}
