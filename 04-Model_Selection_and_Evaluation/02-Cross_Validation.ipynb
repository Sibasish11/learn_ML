{
 "cells": [
  {
   "cell_type": "markdown",
   "metadata": {},
   "source": [
    "# Cross-Validation\n",
    "\n",
    "Splitting into just **train and test** may sometimes give an unreliable estimate. What if the test set happens to be too easy or too hard?\n",
    "\n",
    "To solve this, we use **cross-validation**.\n",
    "\n",
    "---\n",
    "## 1. What is Cross-Validation?\n",
    "- Cross-validation repeatedly splits the dataset into training and validation parts.\n",
    "- The model is trained and tested multiple times.\n",
    "- The results are averaged for a more reliable estimate.\n",
    "\n",
    "---\n",
    "## 2. K-Fold Cross-Validation\n",
    "- The dataset is divided into **k parts (folds)**.\n",
    "- Train on k-1 folds, validate on the remaining fold.\n",
    "- Repeat for all folds.\n",
    "- Final performance = average across folds.\n",
    "\n",
    "Example: For 5-fold CV → 80% training, 20% validation (rotating).\n",
    "\n",
    "---\n",
    "## 3. Stratified K-Fold\n",
    "- Ensures class proportions are maintained across folds.\n",
    "- Useful for **classification problems** with imbalanced data.\n",
    "\n",
    "---\n",
    "## 4. Benefits of Cross-Validation\n",
    "- More reliable performance estimation.\n",
    "- Better use of limited data.\n",
    "- Helps in **model selection and hyperparameter tuning**.\n",
    "\n",
    "---\n",
    "Next: We will explore **evaluation metrics** to measure model performance."
   ]
  },
  {
   "cell_type": "code",
   "execution_count": null,
   "metadata": {},
   "outputs": [],
   "source": [
    "# Example: K-Fold Cross-Validation\n",
    "from sklearn.datasets import load_iris\n",
    "from sklearn.model_selection import cross_val_score, KFold\n",
    "from sklearn.linear_model import LogisticRegression\n",
    "\n",
    "# Load dataset\n",
    "X, y = load_iris(return_X_y=True)\n",
    "\n",
    "# Define model\n",
    "model = LogisticRegression(max_iter=200)\n",
    "\n",
    "# Apply 5-Fold Cross-Validation\n",
    "kf = KFold(n_splits=5, shuffle=True, random_state=42)\n",
    "scores = cross_val_score(model, X, y, cv=kf, scoring='accuracy')\n",
    "\n",
    "print(\"Cross-validation scores:\", scores)\n",
    "print(\"Mean accuracy:\", scores.mean())"
   ]
  }
 ],
 "metadata": {
  "kernelspec": {
   "display_name": "Python 3",
   "language": "python",
   "name": "python3"
  },
  "language_info": {
   "name": "python",
   "version": "3.10"
  }
 },
 "nbformat": 4,
 "nbformat_minor": 5
}
