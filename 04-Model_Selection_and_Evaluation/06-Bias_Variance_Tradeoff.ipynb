{
 "cells": [
  {
   "cell_type": "markdown",
   "metadata": {},
   "source": [
    "# Bias-Variance Tradeoff\n",
    "\n",
    "One of the most important concepts in machine learning is the **Bias-Variance Tradeoff**.\n",
    "\n",
    "## 1. Bias\n",
    "- Error due to **over-simplification** of the model.\n",
    "- High bias → model is too simple → underfitting.\n",
    "- Example: fitting a straight line to complex data.\n",
    "\n",
    "## 2. Variance\n",
    "- Error due to **too much sensitivity** to training data.\n",
    "- High variance → model is too complex → overfitting.\n",
    "- Example: fitting a high-degree polynomial that follows noise.\n",
    "\n",
    "## 3. Tradeoff\n",
    "- Goal: Find a balance where the model generalizes well.\n",
    "- Too simple → high bias, low variance.\n",
    "- Too complex → low bias, high variance.\n",
    "- Sweet spot = optimal complexity where both are balanced.\n",
    "\n",
    "![Bias-Variance Tradeoff](https://scikit-learn.org/stable/_images/sphx_glr_plot_underfitting_overfitting_001.png)\n",
    "\n",
    "## 4. Practical Implications\n",
    "- **Underfitting (High Bias):** Improve with more complex models, features, or less regularization.\n",
    "- **Overfitting (High Variance):** Improve with more data, regularization, or simpler models.\n",
    "\n",
    "The bias-variance tradeoff guides us in choosing the right model complexity."
   ]
  },
  {
   "cell_type": "code",
   "execution_count": null,
   "metadata": {},
   "outputs": [],
   "source": [
    "# Example: Bias-Variance tradeoff visualization using Decision Trees\n",
    "import matplotlib.pyplot as plt\n",
    "from sklearn.datasets import make_moons\n",
    "from sklearn.tree import DecisionTreeClassifier\n",
    "from sklearn.model_selection import train_test_split\n",
    "from sklearn.metrics import accuracy_score\n",
    "\n",
    "# Generate synthetic dataset\n",
    "X, y = make_moons(noise=0.3, random_state=42)\n",
    "X_train, X_test, y_train, y_test = train_test_split(X, y, test_size=0.3, random_state=42)\n",
    "\n",
    "train_acc = []\n",
    "test_acc = []\n",
    "depths = range(1, 20)\n",
    "\n",
    "for d in depths:\n",
    "    model = DecisionTreeClassifier(max_depth=d, random_state=42)\n",
    "    model.fit(X_train, y_train)\n",
    "    train_acc.append(accuracy_score(y_train, model.predict(X_train)))\n",
    "    test_acc.append(accuracy_score(y_test, model.predict(X_test)))\n",
    "\n",
    "plt.plot(depths, train_acc, label='Train Accuracy')\n",
    "plt.plot(depths, test_acc, label='Test Accuracy')\n",
    "plt.xlabel('Model Complexity (Tree Depth)')\n",
    "plt.ylabel('Accuracy')\n",
    "plt.title('Bias-Variance Tradeoff')\n",
    "plt.legend()\n",
    "plt.show()"
   ]
  }
 ],
 "metadata": {
  "kernelspec": {
   "display_name": "Python 3",
   "language": "python",
   "name": "python3"
  },
  "language_info": {
   "name": "python",
   "version": "3.10"
  }
 },
 "nbformat": 4,
 "nbformat_minor": 5
}
