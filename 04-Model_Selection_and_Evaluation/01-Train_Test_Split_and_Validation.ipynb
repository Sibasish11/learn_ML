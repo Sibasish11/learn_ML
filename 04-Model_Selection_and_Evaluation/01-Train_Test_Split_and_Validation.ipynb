{
 "cells": [
  {
   "cell_type": "markdown",
   "metadata": {},
   "source": [
    "# Train-Test Split and Validation\n",
    "\n",
    "One of the most important steps in model evaluation is splitting the dataset. This helps us ensure that the model is tested on **unseen data** to measure generalization.\n",
    "\n",
    "---\n",
    "## 1. Train-Test Split\n",
    "- **Training set**: Used to fit the model.\n",
    "- **Test set**: Used to evaluate performance.\n",
    "- Typical ratio → 70-80% training, 20-30% testing.\n",
    "\n",
    "### Why do we split?\n",
    "- Prevents overfitting evaluation on training data.\n",
    "- Ensures unbiased performance measurement.\n",
    "\n",
    "---\n",
    "## 2. Validation Set\n",
    "- Sometimes we further split training data into **train** and **validation**.\n",
    "- Validation set is used for **hyperparameter tuning**.\n",
    "- Final test set is kept aside and used only at the end.\n",
    "\n",
    "---\n",
    "## 3. Cross-Validation (Preview)\n",
    "- Instead of one split, we use multiple splits.\n",
    "- More reliable estimate.\n",
    "- Introduced in detail later.\n",
    "\n",
    "---\n",
    "## Workflow\n",
    "1. Split dataset → train + test.\n",
    "2. Further split training → train + validation.\n",
    "3. Train on train, tune on validation.\n",
    "4. Final evaluation on test."
   ]
  },
  {
   "cell_type": "code",
   "execution_count": null,
   "metadata": {},
   "outputs": [],
   "source": [
    "# Example: Train-Test Split with Validation\n",
    "from sklearn.datasets import load_iris\n",
    "from sklearn.model_selection import train_test_split\n",
    "from sklearn.linear_model import LogisticRegression\n",
    "from sklearn.metrics import accuracy_score\n",
    "\n",
    "# Load dataset\n",
    "X, y = load_iris(return_X_y=True)\n",
    "\n",
    "# Step 1: Split into train (80%) and test (20%)\n",
    "X_train, X_test, y_train, y_test = train_test_split(X, y, test_size=0.2, random_state=42)\n",
    "\n",
    "# Step 2: Split training set into train (70%) and validation (30%)\n",
    "X_train_final, X_val, y_train_final, y_val = train_test_split(X_train, y_train, test_size=0.3, random_state=42)\n",
    "\n",
    "print(\"Train size:\", len(X_train_final))\n",
    "print(\"Validation size:\", len(X_val))\n",
    "print(\"Test size:\", len(X_test))\n",
    "\n",
    "# Train model on training set\n",
    "model = LogisticRegression(max_iter=200)\n",
    "model.fit(X_train_final, y_train_final)\n",
    "\n",
    "# Evaluate on validation set (used for tuning)\n",
    "val_pred = model.predict(X_val)\n",
    "val_acc = accuracy_score(y_val, val_pred)\n",
    "print(f\"Validation Accuracy: {val_acc:.2f}\")\n",
    "\n",
    "# Final evaluation on test set\n",
    "test_pred = model.predict(X_test)\n",
    "test_acc = accuracy_score(y_test, test_pred)\n",
    "print(f\"Test Accuracy: {test_acc:.2f}\")"
   ]
  }
 ],
 "metadata": {
  "kernelspec": {
   "display_name": "Python 3",
   "language": "python",
   "name": "python3"
  },
  "language_info": {
   "name": "python",
   "version": "3.10"
  }
 },
 "nbformat": 4,
 "nbformat_minor": 5
}
