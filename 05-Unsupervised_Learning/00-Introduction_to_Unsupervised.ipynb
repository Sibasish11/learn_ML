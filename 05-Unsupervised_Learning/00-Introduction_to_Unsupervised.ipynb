{
 "cells": [
  {
   "cell_type": "markdown",
   "metadata": {},
   "source": [
    "# Introduction to Unsupervised Learning\n",
    "\n",
    "Unsupervised learning is a type of machine learning where the model is not given labeled data (i.e., no input-output pairs). Instead, the algorithm tries to find hidden patterns, groupings, or structures in the data.\n",
    "\n",
    "Key characteristics:\n",
    "- No target variable (unlike supervised learning).\n",
    "- Focuses on exploring the structure of data.\n",
    "- Commonly used for **clustering, dimensionality reduction, and anomaly detection**.\n",
    "\n",
    "## Examples in real life:\n",
    "- Customer segmentation in marketing.\n",
    "- Grouping similar news articles.\n",
    "- Detecting fraudulent transactions.\n",
    "- Data compression using dimensionality reduction."
   ]
  },
  {
   "cell_type": "markdown",
   "metadata": {},
   "source": [
    "## Types of Unsupervised Learning\n",
    "\n",
    "1. **Clustering** → Grouping data points into clusters (e.g., KMeans, Hierarchical, DBSCAN).\n",
    "2. **Dimensionality Reduction** → Reducing the number of features while keeping essential information (e.g., PCA, t-SNE, UMAP).\n",
    "3. **Anomaly Detection** → Identifying outliers that do not conform to the general pattern (e.g., Isolation Forest, One-Class SVM)."
   ]
  },
  {
   "cell_type": "markdown",
   "metadata": {},
   "source": [
    "## Example Dataset\n",
    "Let's look at a simple dataset (Iris dataset) and try to understand how unsupervised learning can be applied."
   ]
  },
  {
   "cell_type": "code",
   "execution_count": null,
   "metadata": {},
   "outputs": [],
   "source": [
    "from sklearn.datasets import load_iris\n",
    "import pandas as pd\n",
    "\n",
    "# Load dataset\n",
    "iris = load_iris()\n",
    "df = pd.DataFrame(iris.data, columns=iris.feature_names)\n",
    "df.head()"
   ]
  },
  {
   "cell_type": "markdown",
   "metadata": {},
   "source": [
    "Notice that the dataset contains **features only**, and in real-world unsupervised tasks, the labels (target) may not be available."
   ]
  },
  {
   "cell_type": "code",
   "execution_count": null,
   "metadata": {},
   "outputs": [],
   "source": [
    "import matplotlib.pyplot as plt\n",
    "\n",
    "# Quick visualization of two features\n",
    "plt.scatter(df['sepal length (cm)'], df['sepal width (cm)'], alpha=0.7)\n",
    "plt.xlabel('Sepal Length (cm)')\n",
    "plt.ylabel('Sepal Width (cm)')\n",
    "plt.title('Iris Data - Feature Scatter Plot')\n",
    "plt.show()"
   ]
  },
  {
   "cell_type": "markdown",
   "metadata": {},
   "source": [
    "## Next Steps\n",
    "In the upcoming notebooks, we will explore:\n",
    "- Clustering methods like KMeans, Hierarchical, and DBSCAN.\n",
    "- Dimensionality reduction with PCA and t-SNE.\n",
    "- Evaluation metrics for unsupervised models.\n",
    "- Practical pipelines combining these methods."
   ]
  }
 ],
 "metadata": {
  "kernelspec": {
   "display_name": "Python 3",
   "language": "python",
   "name": "python3"
  },
  "language_info": {
   "name": "python",
   "version": "3.9"
  }
 },
 "nbformat": 4,
 "nbformat_minor": 5
}
