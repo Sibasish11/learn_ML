{
 "cells": [
  {
   "cell_type": "markdown",
   "metadata": {},
   "source": [
    "# Anomaly Detection Basics\n",
    "\n",
    "Anomaly detection (also called **outlier detection**) is an unsupervised learning technique used to identify data points that **deviate significantly** from the majority of the data.\n",
    "\n",
    "## Applications:\n",
    "- Fraud detection in banking transactions.\n",
    "- Network intrusion detection.\n",
    "- Fault detection in manufacturing.\n",
    "- Detecting abnormal health conditions from medical data."
   ]
  },
  {
   "cell_type": "markdown",
   "metadata": {},
   "source": [
    "## Import Libraries and Dataset"
   ]
  },
  {
   "cell_type": "code",
   "execution_count": null,
   "metadata": {},
   "outputs": [],
   "source": [
    "import pandas as pd\n",
    "import matplotlib.pyplot as plt\n",
    "from sklearn.datasets import load_iris\n",
    "from sklearn.ensemble import IsolationForest\n",
    "\n",
    "# Load Iris dataset\n",
    "iris = load_iris()\n",
    "df = pd.DataFrame(iris.data, columns=iris.feature_names)\n",
    "df.head()"
   ]
  },
  {
   "cell_type": "markdown",
   "metadata": {},
   "source": [
    "## Applying Isolation Forest for Anomaly Detection"
   ]
  },
  {
   "cell_type": "code",
   "execution_count": null,
   "metadata": {},
   "outputs": [],
   "source": [
    "# Create Isolation Forest model\n",
    "iso_forest = IsolationForest(contamination=0.05, random_state=42)\n",
    "df['anomaly'] = iso_forest.fit_predict(df)\n",
    "\n",
    "# Convert labels: 1 = normal, -1 = anomaly\n",
    "df['anomaly'] = df['anomaly'].map({1: 0, -1: 1})\n",
    "df.head()"
   ]
  },
  {
   "cell_type": "markdown",
   "metadata": {},
   "source": [
    "## Visualizing Anomalies"
   ]
  },
  {
   "cell_type": "code",
   "execution_count": null,
   "metadata": {},
   "outputs": [],
   "source": [
    "plt.figure(figsize=(8,6))\n",
    "plt.scatter(df['sepal length (cm)'], df['sepal width (cm)'], \n",
    "            c=df['anomaly'], cmap='coolwarm', alpha=0.7)\n",
    "plt.xlabel('Sepal Length (cm)')\n",
    "plt.ylabel('Sepal Width (cm)')\n",
    "plt.title('Anomaly Detection using Isolation Forest')\n",
    "plt.show()"
   ]
  },
  {
   "cell_type": "markdown",
   "metadata": {},
   "source": [
    "## Key Notes:\n",
    "- **Isolation Forest** isolates anomalies by randomly selecting features and splitting values.\n",
    "- Outliers are fewer and different from the rest of the data.\n",
    "- The `contamination` parameter estimates the proportion of outliers in the dataset.\n",
    "- Other anomaly detection methods: One-Class SVM, Local Outlier Factor (LOF), Autoencoders.\n",
    "\n",
    "Anomaly detection is critical for fraud detection, predictive maintenance, and monitoring systems."
   ]
  }
 ],
 "metadata": {
  "kernelspec": {
   "display_name": "Python 3",
   "language": "python",
   "name": "python3"
  },
  "language_info": {
   "name": "python",
   "version": "3.9"
  }
 },
 "nbformat": 4,
 "nbformat_minor": 5
}
