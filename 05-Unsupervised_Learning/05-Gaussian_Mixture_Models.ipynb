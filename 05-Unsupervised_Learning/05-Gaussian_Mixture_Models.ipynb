{
 "cells": [
  {
   "cell_type": "markdown",
   "metadata": {},
   "source": [
    "# Gaussian Mixture Models (GMM)\n",
    "\n",
    "Gaussian Mixture Models are a **probabilistic clustering method** that assumes data points are generated from a mixture of several Gaussian distributions.\n",
    "\n",
    "Unlike KMeans (which assigns each point to one cluster), GMM assigns probabilities for belonging to each cluster.\n",
    "\n",
    "## Why use GMM?\n",
    "- Can handle **elliptical clusters** (unlike KMeans which works best with spherical clusters).\n",
    "- Provides **probabilistic cluster assignments**.\n",
    "- More flexible for real-world datasets."
   ]
  },
  {
   "cell_type": "markdown",
   "metadata": {},
   "source": [
    "## Import Libraries and Dataset"
   ]
  },
  {
   "cell_type": "code",
   "execution_count": null,
   "metadata": {},
   "outputs": [],
   "source": [
    "import pandas as pd\n",
    "import matplotlib.pyplot as plt\n",
    "from sklearn.datasets import load_iris\n",
    "from sklearn.mixture import GaussianMixture\n",
    "\n",
    "# Load Iris dataset\n",
    "iris = load_iris()\n",
    "df = pd.DataFrame(iris.data, columns=iris.feature_names)\n",
    "df.head()"
   ]
  },
  {
   "cell_type": "markdown",
   "metadata": {},
   "source": [
    "## Applying Gaussian Mixture Model"
   ]
  },
  {
   "cell_type": "code",
   "execution_count": null,
   "metadata": {},
   "outputs": [],
   "source": [
    "# Create GMM with 3 components (since Iris has 3 species)\n",
    "gmm = GaussianMixture(n_components=3, random_state=42)\n",
    "df['cluster'] = gmm.fit_predict(df)\n",
    "\n",
    "df.head()"
   ]
  },
  {
   "cell_type": "markdown",
   "metadata": {},
   "source": [
    "## Visualizing the Clusters"
   ]
  },
  {
   "cell_type": "code",
   "execution_count": null,
   "metadata": {},
   "outputs": [],
   "source": [
    "plt.scatter(df['sepal length (cm)'], df['sepal width (cm)'], \n",
    "            c=df['cluster'], cmap='coolwarm', alpha=0.7)\n",
    "plt.xlabel('Sepal Length (cm)')\n",
    "plt.ylabel('Sepal Width (cm)')\n",
    "plt.title('Gaussian Mixture Model Clustering on Iris Dataset')\n",
    "plt.show()"
   ]
  },
  {
   "cell_type": "markdown",
   "metadata": {},
   "source": [
    "## Key Notes:\n",
    "- GMM models data as a **combination of Gaussian distributions**.\n",
    "- Each point gets a **probability distribution** across clusters.\n",
    "- More flexible than KMeans because it accounts for different cluster shapes.\n",
    "- Works well with overlapping clusters.\n",
    "\n",
    "GMM is widely used in **speech recognition, anomaly detection, and image segmentation**."
   ]
  }
 ],
 "metadata": {
  "kernelspec": {
   "display_name": "Python 3",
   "language": "python",
   "name": "python3"
  },
  "language_info": {
   "name": "python",
   "version": "3.9"
  }
 },
 "nbformat": 4,
 "nbformat_minor": 5
}
