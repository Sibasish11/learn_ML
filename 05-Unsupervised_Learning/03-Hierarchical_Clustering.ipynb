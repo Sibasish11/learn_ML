{
 "cells": [
  {
   "cell_type": "markdown",
   "metadata": {},
   "source": [
    "# Hierarchical Clustering\n",
    "\n",
    "Hierarchical Clustering is an **unsupervised learning method** used to group data into clusters by creating a hierarchy (tree-like structure).\n",
    "\n",
    "There are two main types:\n",
    "- **Agglomerative (Bottom-Up)** → Start with each point as its own cluster and merge step by step.\n",
    "- **Divisive (Top-Down)** → Start with one big cluster and split step by step.\n",
    "\n",
    "The result is usually represented with a **Dendrogram**, which shows how clusters are merged or split."
   ]
  },
  {
   "cell_type": "markdown",
   "metadata": {},
   "source": [
    "## Import Libraries and Dataset"
   ]
  },
  {
   "cell_type": "code",
   "execution_count": null,
   "metadata": {},
   "outputs": [],
   "source": [
    "import pandas as pd\n",
    "import matplotlib.pyplot as plt\n",
    "from sklearn.datasets import load_iris\n",
    "from scipy.cluster.hierarchy import dendrogram, linkage, fcluster\n",
    "\n",
    "# Load Iris dataset\n",
    "iris = load_iris()\n",
    "df = pd.DataFrame(iris.data, columns=iris.feature_names)\n",
    "df.head()"
   ]
  },
  {
   "cell_type": "markdown",
   "metadata": {},
   "source": [
    "## Creating a Dendrogram\n",
    "We use **linkage()** from Scipy to compute the hierarchical clustering and visualize it using a dendrogram."
   ]
  },
  {
   "cell_type": "code",
   "execution_count": null,
   "metadata": {},
   "outputs": [],
   "source": [
    "# Perform hierarchical clustering\n",
    "Z = linkage(df, method='ward')\n",
    "\n",
    "# Plot dendrogram\n",
    "plt.figure(figsize=(10, 5))\n",
    "dendrogram(Z, truncate_mode='lastp', p=30, leaf_rotation=45., leaf_font_size=10., show_contracted=True)\n",
    "plt.title('Hierarchical Clustering Dendrogram (Truncated)')\n",
    "plt.xlabel('Cluster Size')\n",
    "plt.ylabel('Distance')\n",
    "plt.show()"
   ]
  },
  {
   "cell_type": "markdown",
   "metadata": {},
   "source": [
    "## Forming Clusters\n",
    "We can cut the dendrogram at a chosen distance to form a fixed number of clusters."
   ]
  },
  {
   "cell_type": "code",
   "execution_count": null,
   "metadata": {},
   "outputs": [],
   "source": [
    "# Create 3 clusters from the dendrogram\n",
    "clusters = fcluster(Z, t=3, criterion='maxclust')\n",
    "df['cluster'] = clusters\n",
    "df.head()"
   ]
  },
  {
   "cell_type": "markdown",
   "metadata": {},
   "source": [
    "## Visualizing the Clusters"
   ]
  },
  {
   "cell_type": "code",
   "execution_count": null,
   "metadata": {},
   "outputs": [],
   "source": [
    "plt.scatter(df['sepal length (cm)'], df['sepal width (cm)'], \n",
    "            c=df['cluster'], cmap='rainbow', alpha=0.7)\n",
    "plt.xlabel('Sepal Length (cm)')\n",
    "plt.ylabel('Sepal Width (cm)')\n",
    "plt.title('Hierarchical Clustering on Iris Dataset')\n",
    "plt.show()"
   ]
  },
  {
   "cell_type": "markdown",
   "metadata": {},
   "source": [
    "## Key Notes:\n",
    "- Hierarchical clustering builds a **tree of clusters** without requiring us to specify `k` upfront.\n",
    "- Dendrograms help us decide the number of clusters by cutting at a particular distance.\n",
    "- It can be computationally expensive for very large datasets.\n",
    "- Useful when the cluster hierarchy (relationships between clusters) is important."
   ]
  }
 ],
 "metadata": {
  "kernelspec": {
   "display_name": "Python 3",
   "language": "python",
   "name": "python3"
  },
  "language_info": {
   "name": "python",
   "version": "3.9"
  }
 },
 "nbformat": 4,
 "nbformat_minor": 5
}
