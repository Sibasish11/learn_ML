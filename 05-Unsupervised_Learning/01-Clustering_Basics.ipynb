{
 "cells": [
  {
   "cell_type": "markdown",
   "metadata": {},
   "source": [
    "# Clustering Basics\n",
    "\n",
    "Clustering is an **unsupervised learning technique** where the goal is to group similar data points together.\n",
    "\n",
    "Unlike supervised learning, clustering does not require labeled data. Instead, the algorithm tries to find natural groupings (clusters) in the dataset.\n",
    "\n",
    "## Common Clustering Algorithms:\n",
    "- **K-Means** → Divides data into `k` clusters.\n",
    "- **Hierarchical Clustering** → Builds a tree of clusters.\n",
    "- **DBSCAN** → Groups data points based on density.\n",
    "\n",
    "In this notebook, we will focus on **KMeans clustering**."
   ]
  },
  {
   "cell_type": "markdown",
   "metadata": {},
   "source": [
    "## Importing Libraries and Dataset"
   ]
  },
  {
   "cell_type": "code",
   "execution_count": null,
   "metadata": {},
   "outputs": [],
   "source": [
    "import pandas as pd\n",
    "import matplotlib.pyplot as plt\n",
    "from sklearn.datasets import load_iris\n",
    "from sklearn.cluster import KMeans\n",
    "\n",
    "# Load Iris dataset\n",
    "iris = load_iris()\n",
    "df = pd.DataFrame(iris.data, columns=iris.feature_names)\n",
    "df.head()"
   ]
  },
  {
   "cell_type": "markdown",
   "metadata": {},
   "source": [
    "## Applying KMeans Clustering\n",
    "We will cluster the Iris dataset into 3 groups (since we know there are 3 species, but remember unsupervised algorithms don't use labels)."
   ]
  },
  {
   "cell_type": "code",
   "execution_count": null,
   "metadata": {},
   "outputs": [],
   "source": [
    "# Create KMeans model\n",
    "kmeans = KMeans(n_clusters=3, random_state=42)\n",
    "df['cluster'] = kmeans.fit_predict(df)\n",
    "\n",
    "df.head()"
   ]
  },
  {
   "cell_type": "markdown",
   "metadata": {},
   "source": [
    "## Visualizing Clusters"
   ]
  },
  {
   "cell_type": "code",
   "execution_count": null,
   "metadata": {},
   "outputs": [],
   "source": [
    "plt.scatter(df['sepal length (cm)'], df['sepal width (cm)'], \n",
    "            c=df['cluster'], cmap='viridis', alpha=0.7)\n",
    "plt.xlabel('Sepal Length (cm)')\n",
    "plt.ylabel('Sepal Width (cm)')\n",
    "plt.title('KMeans Clustering on Iris Dataset')\n",
    "plt.show()"
   ]
  },
  {
   "cell_type": "markdown",
   "metadata": {},
   "source": [
    "## Understanding the Results\n",
    "- KMeans divided the dataset into **3 clusters**.\n",
    "- The colors show the grouping made by the algorithm.\n",
    "- These clusters may or may not perfectly align with the actual Iris species labels, but they capture the natural patterns in the data.\n",
    "\n",
    "## Key Notes:\n",
    "- KMeans requires choosing the number of clusters `k` beforehand.\n",
    "- It works well with spherical-shaped clusters but may struggle with irregular patterns.\n",
    "- Choosing the right `k` can be done using the **Elbow Method** or **Silhouette Score** (we’ll cover this later)."
   ]
  }
 ],
 "metadata": {
  "kernelspec": {
   "display_name": "Python 3",
   "language": "python",
   "name": "python3"
  },
  "language_info": {
   "name": "python",
   "version": "3.9"
  }
 },
 "nbformat": 4,
 "nbformat_minor": 5
}
