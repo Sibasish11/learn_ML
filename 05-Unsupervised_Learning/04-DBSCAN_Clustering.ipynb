{
 "cells": [
  {
   "cell_type": "markdown",
   "metadata": {},
   "source": [
    "# DBSCAN Clustering\n",
    "\n",
    "**DBSCAN (Density-Based Spatial Clustering of Applications with Noise)** is an unsupervised clustering algorithm.\n",
    "\n",
    "## Key Ideas:\n",
    "- Groups together points that are **close** (high density).\n",
    "- Points in low-density regions are treated as **noise/outliers**.\n",
    "- Does not require specifying the number of clusters `k` in advance.\n",
    "\n",
    "### Key Parameters:\n",
    "- `eps`: Maximum distance between two samples for them to be considered neighbors.\n",
    "- `min_samples`: Minimum number of points required to form a dense region."
   ]
  },
  {
   "cell_type": "markdown",
   "metadata": {},
   "source": [
    "## Import Libraries and Dataset"
   ]
  },
  {
   "cell_type": "code",
   "execution_count": null,
   "metadata": {},
   "outputs": [],
   "source": [
    "import pandas as pd\n",
    "import matplotlib.pyplot as plt\n",
    "from sklearn.datasets import load_iris\n",
    "from sklearn.cluster import DBSCAN\n",
    "from sklearn.preprocessing import StandardScaler\n",
    "\n",
    "# Load Iris dataset\n",
    "iris = load_iris()\n",
    "X = pd.DataFrame(iris.data, columns=iris.feature_names)\n",
    "\n",
    "# Standardize the dataset (important for DBSCAN)\n",
    "scaler = StandardScaler()\n",
    "X_scaled = scaler.fit_transform(X)\n",
    "\n",
    "X[:5]"
   ]
  },
  {
   "cell_type": "markdown",
   "metadata": {},
   "source": [
    "## Apply DBSCAN Clustering"
   ]
  },
  {
   "cell_type": "code",
   "execution_count": null,
   "metadata": {},
   "outputs": [],
   "source": [
    "# Create DBSCAN model\n",
    "dbscan = DBSCAN(eps=0.6, min_samples=5)\n",
    "clusters = dbscan.fit_predict(X_scaled)\n",
    "\n",
    "# Add cluster labels to dataset\n",
    "X['cluster'] = clusters\n",
    "X['cluster'].value_counts()"
   ]
  },
  {
   "cell_type": "markdown",
   "metadata": {},
   "source": [
    "## Visualize Clusters"
   ]
  },
  {
   "cell_type": "code",
   "execution_count": null,
   "metadata": {},
   "outputs": [],
   "source": [
    "plt.scatter(X.iloc[:, 0], X.iloc[:, 1], c=clusters, cmap='plasma', alpha=0.7)\n",
    "plt.xlabel('Sepal Length (cm)')\n",
    "plt.ylabel('Sepal Width (cm)')\n",
    "plt.title('DBSCAN Clustering on Iris Dataset')\n",
    "plt.show()"
   ]
  },
  {
   "cell_type": "markdown",
   "metadata": {},
   "source": [
    "## Observations\n",
    "- DBSCAN automatically found clusters based on **density**.\n",
    "- Points labeled as `-1` are considered **outliers/noise**.\n",
    "- Unlike KMeans, we don’t need to specify the number of clusters.\n",
    "- Works well for datasets with irregular cluster shapes.\n",
    "\n",
    "## Key Notes:\n",
    "- Choosing the right `eps` and `min_samples` is important.\n",
    "- Can struggle with datasets of varying density.\n",
    "- Very useful for anomaly detection!"
   ]
  }
 ],
 "metadata": {
  "kernelspec": {
   "display_name": "Python 3",
   "language": "python",
   "name": "python3"
  },
  "language_info": {
   "name": "python",
   "version": "3.9"
  }
 },
 "nbformat": 4,
 "nbformat_minor": 5
}
