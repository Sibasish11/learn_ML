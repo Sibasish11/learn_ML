{
 "cells": [
  {
   "cell_type": "markdown",
   "metadata": {},
   "source": [
    "# Dimensionality Reduction Basics\n",
    "\n",
    "Dimensionality Reduction is the process of reducing the number of input features (dimensions) while retaining most of the information in the dataset.\n",
    "\n",
    "## Why do we need it?\n",
    "- High-dimensional data is harder to visualize and analyze.\n",
    "- Removes noise and redundancy.\n",
    "- Helps machine learning models run faster and generalize better.\n",
    "\n",
    "## Common Techniques:\n",
    "- **PCA (Principal Component Analysis)** → Projects data into lower dimensions.\n",
    "- **t-SNE (t-distributed Stochastic Neighbor Embedding)** → Good for visualization.\n",
    "- **Autoencoders** → Neural networks used for feature compression.\n",
    "\n",
    "In this notebook, we’ll demonstrate PCA."
   ]
  },
  {
   "cell_type": "markdown",
   "metadata": {},
   "source": [
    "## Import Libraries and Dataset"
   ]
  },
  {
   "cell_type": "code",
   "execution_count": null,
   "metadata": {},
   "outputs": [],
   "source": [
    "import pandas as pd\n",
    "import matplotlib.pyplot as plt\n",
    "from sklearn.datasets import load_iris\n",
    "from sklearn.decomposition import PCA\n",
    "\n",
    "# Load Iris dataset\n",
    "iris = load_iris()\n",
    "df = pd.DataFrame(iris.data, columns=iris.feature_names)\n",
    "df.head()"
   ]
  },
  {
   "cell_type": "markdown",
   "metadata": {},
   "source": [
    "## Applying PCA for 2D Visualization"
   ]
  },
  {
   "cell_type": "code",
   "execution_count": null,
   "metadata": {},
   "outputs": [],
   "source": [
    "# Apply PCA to reduce to 2 dimensions\n",
    "pca = PCA(n_components=2)\n",
    "reduced = pca.fit_transform(df)\n",
    "\n",
    "df_pca = pd.DataFrame(reduced, columns=['PC1', 'PC2'])\n",
    "df_pca['target'] = iris.target\n",
    "df_pca.head()"
   ]
  },
  {
   "cell_type": "markdown",
   "metadata": {},
   "source": [
    "## Visualizing Reduced Data"
   ]
  },
  {
   "cell_type": "code",
   "execution_count": null,
   "metadata": {},
   "outputs": [],
   "source": [
    "plt.figure(figsize=(8,6))\n",
    "plt.scatter(df_pca['PC1'], df_pca['PC2'], c=df_pca['target'], cmap='viridis', alpha=0.7)\n",
    "plt.xlabel('Principal Component 1')\n",
    "plt.ylabel('Principal Component 2')\n",
    "plt.title('PCA - Dimensionality Reduction on Iris Dataset')\n",
    "plt.colorbar(label='Target Classes')\n",
    "plt.show()"
   ]
  },
  {
   "cell_type": "markdown",
   "metadata": {},
   "source": [
    "## Key Notes:\n",
    "- PCA helps reduce **4D Iris data → 2D** for visualization.\n",
    "- Most of the variance (information) is preserved in fewer dimensions.\n",
    "- This makes clustering and classification tasks easier.\n",
    "- PCA is unsupervised and does not use labels.\n",
    "\n",
    "In practice, dimensionality reduction is often applied **before clustering or visualization**."
   ]
  }
 ],
 "metadata": {
  "kernelspec": {
   "display_name": "Python 3",
   "language": "python",
   "name": "python3"
  },
  "language_info": {
   "name": "python",
   "version": "3.9"
  }
 },
 "nbformat": 4,
 "nbformat_minor": 5
}
