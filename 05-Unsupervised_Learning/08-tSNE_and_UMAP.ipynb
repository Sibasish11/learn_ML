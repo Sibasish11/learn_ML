{
 "cells": [
  {
   "cell_type": "markdown",
   "metadata": {},
   "source": [
    "# t-SNE and UMAP: Nonlinear Dimensionality Reduction\n",
    "\n",
    "While PCA is a linear dimensionality reduction technique, **t-SNE** and **UMAP** are nonlinear methods that are better at preserving local and global structure in high-dimensional data.\n",
    "\n",
    "They are commonly used for **visualization** of complex datasets."
   ]
  },
  {
   "cell_type": "markdown",
   "metadata": {},
   "source": [
    "## Import Libraries and Dataset"
   ]
  },
  {
   "cell_type": "code",
   "execution_count": null,
   "metadata": {},
   "outputs": [],
   "source": [
    "import pandas as pd\n",
    "import matplotlib.pyplot as plt\n",
    "from sklearn.datasets import load_iris\n",
    "from sklearn.manifold import TSNE\n",
    "import umap\n",
    "\n",
    "# Load Iris dataset\n",
    "iris = load_iris()\n",
    "X = iris.data\n",
    "y = iris.target"
   ]
  },
  {
   "cell_type": "markdown",
   "metadata": {},
   "source": [
    "## Applying t-SNE"
   ]
  },
  {
   "cell_type": "code",
   "execution_count": null,
   "metadata": {},
   "outputs": [],
   "source": [
    "# t-SNE reduces data to 2D\n",
    "tsne = TSNE(n_components=2, random_state=42)\n",
    "X_tsne = tsne.fit_transform(X)\n",
    "\n",
    "# Create DataFrame for visualization\n",
    "df_tsne = pd.DataFrame(X_tsne, columns=['tSNE1','tSNE2'])\n",
    "df_tsne['target'] = y\n",
    "\n",
    "# Plot t-SNE\n",
    "plt.figure(figsize=(8,6))\n",
    "plt.scatter(df_tsne['tSNE1'], df_tsne['tSNE2'], c=df_tsne['target'], cmap='viridis', alpha=0.7)\n",
    "plt.xlabel('t-SNE 1')\n",
    "plt.ylabel('t-SNE 2')\n",
    "plt.title('t-SNE Visualization of Iris Dataset')\n",
    "plt.colorbar(label='Target Classes')\n",
    "plt.show()"
   ]
  },
  {
   "cell_type": "markdown",
   "metadata": {},
   "source": [
    "## Applying UMAP"
   ]
  },
  {
   "cell_type": "code",
   "execution_count": null,
   "metadata": {},
   "outputs": [],
   "source": [
    "# UMAP reduces data to 2D\n",
    "umap_model = umap.UMAP(n_components=2, random_state=42)\n",
    "X_umap = umap_model.fit_transform(X)\n",
    "\n",
    "# Create DataFrame for visualization\n",
    "df_umap = pd.DataFrame(X_umap, columns=['UMAP1','UMAP2'])\n",
    "df_umap['target'] = y\n",
    "\n",
    "# Plot UMAP\n",
    "plt.figure(figsize=(8,6))\n",
    "plt.scatter(df_umap['UMAP1'], df_umap['UMAP2'], c=df_umap['target'], cmap='plasma', alpha=0.7)\n",
    "plt.xlabel('UMAP 1')\n",
    "plt.ylabel('UMAP 2')\n",
    "plt.title('UMAP Visualization of Iris Dataset')\n",
    "plt.colorbar(label='Target Classes')\n",
    "plt.show()"
   ]
  },
  {
   "cell_type": "markdown",
   "metadata": {},
   "source": [
    "## Key Notes:\n",
    "- **t-SNE** preserves local structure and is good for small datasets.\n",
    "- **UMAP** preserves both local and global structure and scales better to large datasets.\n",
    "- Both are primarily used for visualization rather than as preprocessing for predictive models.\n",
    "- Useful for understanding high-dimensional data and clustering patterns visually."
   ]
  }
 ],
 "metadata": {
  "kernelspec": {
   "display_name": "Python 3",
   "language": "python",
   "name": "python3"
  },
  "language_info": {
   "name": "python",
   "version": "3.9"
  }
 },
 "nbformat": 4,
 "nbformat_minor": 5
}
