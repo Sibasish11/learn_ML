{
 "cells": [
  {
   "cell_type": "markdown",
   "metadata": {},
   "source": [
    "# Actor Critic Methods\n",
    "\n",
    "The **Actor-Critic** framework combines the strengths of both **policy based** and **value-based** reinforcement learning methods.\n",
    "\n",
    "- The **Actor** updates the policy parameters (decides what action to take).\n",
    "- The **Critic** estimates the value function (evaluates how good the action was).\n",
    "\n",
    "Together, they provide a more stable and efficient learning process compared to pure policy gradient methods like REINFORCE."
   ]
  },
  {
   "cell_type": "markdown",
   "metadata": {},
   "source": [
    "## 🎯 1. Concept Overview\n",
    "\n",
    "In **REINFORCE**, we update the policy directly using the return $G_t$:\n",
    "\n",
    "$$ \\nabla_\\theta J(\\theta) = \\mathbb{E}_{\\pi_\\theta} [ \\nabla_\\theta \\log \\pi_\\theta(a_t|s_t) G_t ] $$\n",
    "\n",
    "However, this has **high variance** because $G_t$ can vary a lot.\n",
    "\n",
    "The **Actor-Critic** method introduces a baseline — the *value function* $V(s_t)$ — to reduce this variance:\n",
    "\n",
    "$$ \\nabla_\\theta J(\\theta) = \\mathbb{E}_{\\pi_\\theta} [ \\nabla_\\theta \\log \\pi_\\theta(a_t|s_t) (G_t - V(s_t)) ] $$\n",
    "\n",
    "Here, $(G_t - V(s_t))$ is called the **advantage**, which measures how much better the action was compared to the average expectation."
   ]
  },
  {
   "cell_type": "markdown",
   "metadata": {},
   "source": [
    "## 🧠 2. Architecture Overview\n",
    "\n",
    "An **Actor Critic model** usually has two neural networks:\n",
    "\n",
    "- **Actor Network:** Outputs a probability distribution over actions (policy).\n",
    "- **Critic Network:** Outputs a single value estimate for the state.\n",
    "\n",
    "During training:\n",
    "- The critic evaluates the action using a value estimate.\n",
    "- The actor updates its policy in the direction suggested by the critic’s feedback."
   ]
  },
  {
   "cell_type": "markdown",
   "metadata": {},
   "source": [
    "## ⚙️ 3. Implementation using PyTorch"
   ]
  },
  {
   "cell_type": "code",
   "metadata": {},
   "source": [
    "import gym\n",
    "import torch\n",
    "import torch.nn as nn\n",
    "import torch.optim as optim\n",
    "\n",
    "# Define Actor Network\n",
    "class Actor(nn.Module):\n",
    "    def __init__(self, state_dim, action_dim, hidden_dim=128):\n",
    "        super(Actor, self).__init__()\n",
    "        self.model = nn.Sequential(\n",
    "            nn.Linear(state_dim, hidden_dim),\n",
    "            nn.ReLU(),\n",
    "            nn.Linear(hidden_dim, action_dim),\n",
    "            nn.Softmax(dim=-1)\n",
    "        )\n",
    "    \n",
    "    def forward(self, state):\n",
    "        return self.model(state)\n",
    "\n",
    "# Define Critic Network\n",
    "class Critic(nn.Module):\n",
    "    def __init__(self, state_dim, hidden_dim=128):\n",
    "        super(Critic, self).__init__()\n",
    "        self.model = nn.Sequential(\n",
    "            nn.Linear(state_dim, hidden_dim),\n",
    "            nn.ReLU(),\n",
    "            nn.Linear(hidden_dim, 1)\n",
    "        )\n",
    "    \n",
    "    def forward(self, state):\n",
    "        return self.model(state)"
   ]
  },
  {
   "cell_type": "code",
   "metadata": {},
   "source": [
    "# Initialize environment and networks\n",
    "env = gym.make('CartPole-v1')\n",
    "state_dim = env.observation_space.shape[0]\n",
    "action_dim = env.action_space.n\n",
    "\n",
    "actor = Actor(state_dim, action_dim)\n",
    "critic = Critic(state_dim)\n",
    "\n",
    "actor_optimizer = optim.Adam(actor.parameters(), lr=0.001)\n",
    "critic_optimizer = optim.Adam(critic.parameters(), lr=0.005)\n",
    "\n",
    "gamma = 0.99"
   ]
  },
  {
   "cell_type": "code",
   "metadata": {},
   "source": [
    "# Function to choose an action\n",
    "def select_action(state):\n",
    "    state = torch.FloatTensor(state)\n",
    "    probs = actor(state)\n",
    "    dist = torch.distributions.Categorical(probs)\n",
    "    action = dist.sample()\n",
    "    return action.item(), dist.log_prob(action)"
   ]
  },
  {
   "cell_type": "code",
   "metadata": {},
   "source": [
    "# Training Loop\n",
    "num_episodes = 1000\n",
    "\n",
    "for episode in range(num_episodes):\n",
    "    state = env.reset()[0]\n",
    "    done = False\n",
    "    total_reward = 0\n",
    "    \n",
    "    while not done:\n",
    "        action, log_prob = select_action(state)\n",
    "        next_state, reward, done, _, _ = env.step(action)\n",
    "        total_reward += reward\n",
    "\n",
    "        state_t = torch.FloatTensor(state)\n",
    "        next_state_t = torch.FloatTensor(next_state)\n",
    "\n",
    "        # Compute TD Target and TD Error\n",
    "        target_value = reward + gamma * critic(next_state_t) * (1 - int(done))\n",
    "        value = critic(state_t)\n",
    "        advantage = target_value - value\n",
    "\n",
    "        # Update Critic\n",
    "        critic_loss = advantage.pow(2).mean()\n",
    "        critic_optimizer.zero_grad()\n",
    "        critic_loss.backward()\n",
    "        critic_optimizer.step()\n",
    "\n",
    "        # Update Actor\n",
    "        actor_loss = -log_prob * advantage.detach()\n",
    "        actor_optimizer.zero_grad()\n",
    "        actor_loss.backward()\n",
    "        actor_optimizer.step()\n",
    "\n",
    "        state = next_state\n",
    "\n",
    "    if episode % 50 == 0:\n",
    "        print(f\"Episode {episode} | Total Reward: {total_reward}\")"
   ]
  },
  {
   "cell_type": "markdown",
   "metadata": {},
   "source": [
    "## 📈 4. Visualizing Learning Progress"
   ]
  },
  {
   "cell_type": "code",
   "metadata": {},
   "source": [
    "import matplotlib.pyplot as plt\n",
    "import numpy as np\n",
    "\n",
    "episode_rewards = []\n",
    "state = env.reset()[0]\n",
    "\n",
    "for episode in range(200):\n",
    "    total_reward = 0\n",
    "    state = env.reset()[0]\n",
    "    done = False\n",
    "\n",
    "    while not done:\n",
    "        action, _ = select_action(state)\n",
    "        next_state, reward, done, _, _ = env.step(action)\n",
    "        total_reward += reward\n",
    "        state = next_state\n",
    "\n",
    "    episode_rewards.append(total_reward)\n",
    "\n",
    "plt.plot(episode_rewards)\n",
    "plt.title('Actor-Critic Performance over Episodes')\n",
    "plt.xlabel('Episode')\n",
    "plt.ylabel('Total Reward')\n",
    "plt.show()"
   ]
  },
  {
   "cell_type": "markdown",
   "metadata": {},
   "source": [
    "## ✅ 5. Advantages and Limitations\n",
    "\n",
    "**Advantages:**\n",
    "- Lower variance compared to REINFORCE.\n",
    "- More sample-efficient (uses bootstrapping).\n",
    "- Can be extended to advanced algorithms like A2C and A3C.\n",
    "\n",
    "**Limitations:**\n",
    "- May still be unstable without proper tuning.\n",
    "- Two networks increase computational complexity.\n",
    "\n",
    "➡️ Next step: Learn about **Advantage Actor-Critic (A2C)** and **Asynchronous Advantage Actor-Critic (A3C)** methods for parallel and efficient training."
   ]
  }
 ],
 "metadata": {
  "kernelspec": {
   "display_name": "Python 3",
   "language": "python",
   "name": "python3"
  },
  "language_info": {
   "name": "python",
   "version": "3.10"
  }
 },
 "nbformat": 4,
 "nbformat_minor": 5
}
