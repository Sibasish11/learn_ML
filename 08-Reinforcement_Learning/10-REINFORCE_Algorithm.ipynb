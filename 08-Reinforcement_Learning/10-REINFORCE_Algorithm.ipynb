{
 "cells": [
  {
   "cell_type": "markdown",
   "metadata": {},
   "source": [
    "# REINFORCE Algorithm\n",
    "\n",
    "The **REINFORCE algorithm** is the foundational policy gradient method in reinforcement learning. It is a *Monte Carlo* approach that optimizes the policy directly by maximizing the expected reward.\n",
    "\n",
    "This notebook explains REINFORCE step by step, along with a practical implementation in PyTorch using the `CartPole-v1` environment from OpenAI Gym."
   ]
  },
  {
   "cell_type": "markdown",
   "metadata": {},
   "source": [
    "## 🎯 1. What is REINFORCE?\n",
    "\n",
    "The REINFORCE algorithm updates the policy parameters based on how good the actions taken were : that is, whether they led to higher or lower returns.\n",
    "\n",
    "Formally, the objective is to maximize the expected return:\n",
    "\n",
    "$$ J(\\theta) = \\mathbb{E}_{\\pi_\\theta}[R] $$\n",
    "\n",
    "The policy gradient is computed as:\n",
    "\n",
    "$$ \\nabla_\\theta J(\\theta) = \\mathbb{E}_{\\pi_\\theta} [ \\nabla_\\theta \\log \\pi_\\theta(a_t|s_t) G_t ] $$\n",
    "\n",
    "where $G_t$ is the **discounted return** from time $t$ onward."
   ]
  },
  {
   "cell_type": "markdown",
   "metadata": {},
   "source": [
    "## 🧠 2. Algorithm Steps\n",
    "\n",
    "The REINFORCE algorithm can be summarized as follows:\n",
    "\n",
    "1. Initialize the policy parameters $\\theta$.\n",
    "2. For each episode:\n",
    "   - Generate an episode by following the current policy $\\pi_\\theta$.\n",
    "   - For each time step $t$ in the episode:\n",
    "     - Compute the return $G_t$.\n",
    "     - Update parameters using:\n",
    "\n",
    "     $$ \\theta \\leftarrow \\theta + \\alpha G_t \\nabla_\\theta \\log \\pi_\\theta(a_t|s_t) $$\n",
    "\n",
    "3. Repeat until convergence.\n",
    "\n",
    "👉 The algorithm improves the probability of actions that yield higher cumulative rewards."
   ]
  },
  {
   "cell_type": "markdown",
   "metadata": {},
   "source": [
    "## ⚙️ 3. Implementation with PyTorch"
   ]
  },
  {
   "cell_type": "code",
   "metadata": {},
   "source": [
    "import gym\n",
    "import torch\n",
    "import torch.nn as nn\n",
    "import torch.optim as optim\n",
    "import numpy as np\n",
    "\n",
    "# Define Policy Network\n",
    "class PolicyNetwork(nn.Module):\n",
    "    def __init__(self, state_dim, action_dim, hidden_dim=128):\n",
    "        super(PolicyNetwork, self).__init__()\n",
    "        self.model = nn.Sequential(\n",
    "            nn.Linear(state_dim, hidden_dim),\n",
    "            nn.ReLU(),\n",
    "            nn.Linear(hidden_dim, action_dim),\n",
    "            nn.Softmax(dim=-1)\n",
    "        )\n",
    "    \n",
    "    def forward(self, x):\n",
    "        return self.model(x)\n",
    "\n",
    "# Create environment\n",
    "env = gym.make('CartPole-v1')\n",
    "state_dim = env.observation_space.shape[0]\n",
    "action_dim = env.action_space.n\n",
    "\n",
    "policy = PolicyNetwork(state_dim, action_dim)\n",
    "optimizer = optim.Adam(policy.parameters(), lr=0.01)\n",
    "\n",
    "# Function to choose action\n",
    "def select_action(state):\n",
    "    state = torch.FloatTensor(state)\n",
    "    probs = policy(state)\n",
    "    dist = torch.distributions.Categorical(probs)\n",
    "    action = dist.sample()\n",
    "    return action.item(), dist.log_prob(action)"
   ]
  },
  {
   "cell_type": "code",
   "metadata": {},
   "source": [
    "# REINFORCE Training Loop\n",
    "num_episodes = 1000\n",
    "gamma = 0.99\n",
    "\n",
    "for episode in range(num_episodes):\n",
    "    log_probs = []\n",
    "    rewards = []\n",
    "    state = env.reset()[0]\n",
    "    done = False\n",
    "    \n",
    "    while not done:\n",
    "        action, log_prob = select_action(state)\n",
    "        next_state, reward, done, _, _ = env.step(action)\n",
    "        log_probs.append(log_prob)\n",
    "        rewards.append(reward)\n",
    "        state = next_state\n",
    "\n",
    "    # Compute discounted returns\n",
    "    returns = []\n",
    "    G = 0\n",
    "    for r in reversed(rewards):\n",
    "        G = r + gamma * G\n",
    "        returns.insert(0, G)\n",
    "    returns = torch.tensor(returns)\n",
    "    returns = (returns - returns.mean()) / (returns.std() + 1e-9)\n",
    "\n",
    "    # Compute policy loss\n",
    "    policy_loss = []\n",
    "    for log_prob, Gt in zip(log_probs, returns):\n",
    "        policy_loss.append(-log_prob * Gt)\n",
    "    policy_loss = torch.stack(policy_loss).sum()\n",
    "\n",
    "    # Update policy\n",
    "    optimizer.zero_grad()\n",
    "    policy_loss.backward()\n",
    "    optimizer.step()\n",
    "\n",
    "    if episode % 50 == 0:\n",
    "        print(f\"Episode {episode} | Total Reward: {sum(rewards)}\")"
   ]
  },
  {
   "cell_type": "markdown",
   "metadata": {},
   "source": [
    "## 📊 4. Visualizing the Learning Progress\n",
    "We can track how the total reward per episode improves over time to confirm that our policy is learning effectively."
   ]
  },
  {
   "cell_type": "code",
   "metadata": {},
   "source": [
    "import matplotlib.pyplot as plt\n",
    "\n",
    "episode_rewards = []\n",
    "\n",
    "for episode in range(500):\n",
    "    state = env.reset()[0]\n",
    "    done = False\n",
    "    total_reward = 0\n",
    "    \n",
    "    while not done:\n",
    "        action, _ = select_action(state)\n",
    "        next_state, reward, done, _, _ = env.step(action)\n",
    "        total_reward += reward\n",
    "        state = next_state\n",
    "    episode_rewards.append(total_reward)\n",
    "\n",
    "plt.plot(episode_rewards)\n",
    "plt.title('Policy Performance over Episodes')\n",
    "plt.xlabel('Episode')\n",
    "plt.ylabel('Total Reward')\n",
    "plt.show()"
   ]
  },
  {
   "cell_type": "markdown",
   "metadata": {},
   "source": [
    "## ✅ 5. Advantages and Limitations\n",
    "\n",
    "**Advantages:**\n",
    "- Simple and easy to implement.\n",
    "- Works well with stochastic policies.\n",
    "- Directly optimizes policy without a value function.\n",
    "\n",
    "**Limitations:**\n",
    "- High variance in gradient estimates.\n",
    "- Requires complete episodes to update (Monte Carlo approach).\n",
    "- Can be unstable without normalization or baselines.\n",
    "\n",
    "➡️ The next step to improve REINFORCE is to introduce **baselines** (e.g., value functions), leading to the **Actor Critic** approach."
   ]
  }
 ],
 "metadata": {
  "kernelspec": {
   "display_name": "Python 3",
   "language": "python",
   "name": "python3"
  },
  "language_info": {
   "name": "python",
   "version": "3.10"
  }
 },
 "nbformat": 4,
 "nbformat_minor": 5
}
