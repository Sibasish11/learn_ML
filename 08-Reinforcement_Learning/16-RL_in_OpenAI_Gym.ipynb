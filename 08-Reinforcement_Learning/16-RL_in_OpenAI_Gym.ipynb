{
 "cells": [
  {
   "cell_type": "markdown",
   "metadata": {},
   "source": [
    "# RL in OpenAI Gym 🏋️‍♂️\n",
    "\n",
    "This notebook demonstrates how to use **OpenAI Gym** environments for testing and training Reinforcement Learning (RL) agents.\n",
    "\n",
    "We’ll cover:\n",
    "- Introduction to OpenAI Gym\n",
    "- Running a random policy\n",
    "- Interacting with environments\n",
    "- Training a simple agent using Q-learning\n",
    "- Visualizing agent performance"
   ]
  },
  {
   "cell_type": "markdown",
   "metadata": {},
   "source": [
    "## 1. Introduction to OpenAI Gym\n",
    "\n",
    "**OpenAI Gym** is a toolkit for developing and comparing reinforcement learning algorithms. It provides environments for various tasks, from simple games to robotic control.\n",
    "\n",
    "Let's start by installing and importing the required libraries."
   ]
  },
  {
   "cell_type": "code",
   "execution_count": null,
   "metadata": {},
   "outputs": [],
   "source": [
    "!pip install gym numpy matplotlib --quiet"
   ]
  },
  {
   "cell_type": "code",
   "execution_count": null,
   "metadata": {},
   "outputs": [],
   "source": [
    "import gym\n",
    "import numpy as np\n",
    "import matplotlib.pyplot as plt\n",
    "\n",
    "env = gym.make('CartPole-v1')\n",
    "state = env.reset()\n",
    "print('Initial State:', state)"
   ]
  },
  {
   "cell_type": "markdown",
   "metadata": {},
   "source": [
    "## 2. Running a Random Policy\n",
    "\n",
    "A *policy* defines the behavior of the agent. Let’s see how a **random policy** performs."
   ]
  },
  {
   "cell_type": "code",
   "execution_count": null,
   "metadata": {},
   "outputs": [],
   "source": [
    "episodes = 5\n",
    "for ep in range(episodes):\n",
    "    state = env.reset()\n",
    "    done = False\n",
    "    total_reward = 0\n",
    "    while not done:\n",
    "        action = env.action_space.sample()  # random action\n",
    "        state, reward, done, _, _ = env.step(action)\n",
    "        total_reward += reward\n",
    "    print(f\"Episode {ep+1}: Total Reward = {total_reward}\")"
   ]
  },
  {
   "cell_type": "markdown",
   "metadata": {},
   "source": [
    "## 3. Building a Simple Q-Learning Agent\n",
    "\n",
    "We'll use a discretized version of the `CartPole` environment for tabular Q-learning."
   ]
  },
  {
   "cell_type": "code",
   "execution_count": null,
   "metadata": {},
   "outputs": [],
   "source": [
    "from collections import defaultdict\n",
    "\n",
    "def discretize(obs):\n",
    "    bins = [np.linspace(-4.8, 4.8, 10), np.linspace(-4, 4, 10), np.linspace(-0.418, 0.418, 10), np.linspace(-4, 4, 10)]\n",
    "    state_disc = tuple(np.digitize(o, b) for o, b in zip(obs, bins))\n",
    "    return state_disc\n",
    "\n",
    "env = gym.make('CartPole-v1')\n",
    "q_table = defaultdict(lambda: np.zeros(env.action_space.n))\n",
    "alpha = 0.1\n",
    "gamma = 0.99\n",
    "epsilon = 0.1\n",
    "episodes = 500\n",
    "rewards = []\n",
    "\n",
    "for ep in range(episodes):\n",
    "    state = discretize(env.reset()[0])\n",
    "    done = False\n",
    "    total_reward = 0\n",
    "    while not done:\n",
    "        if np.random.rand() < epsilon:\n",
    "            action = env.action_space.sample()\n",
    "        else:\n",
    "            action = np.argmax(q_table[state])\n",
    "        next_state, reward, done, _, _ = env.step(action)\n",
    "        next_state = discretize(next_state)\n",
    "        q_table[state][action] += alpha * (reward + gamma * np.max(q_table[next_state]) - q_table[state][action])\n",
    "        state = next_state\n",
    "        total_reward += reward\n",
    "    rewards.append(total_reward)\n",
    "    if (ep + 1) % 50 == 0:\n",
    "        print(f\"Episode {ep+1}, Average Reward: {np.mean(rewards[-50:]):.2f}\")"
   ]
  },
  {
   "cell_type": "markdown",
   "metadata": {},
   "source": [
    "## 4. Visualizing Results"
   ]
  },
  {
   "cell_type": "code",
   "execution_count": null,
   "metadata": {},
   "outputs": [],
   "source": [
    "plt.plot(rewards)\n",
    "plt.title('Q-Learning Rewards over Episodes')\n",
    "plt.xlabel('Episode')\n",
    "plt.ylabel('Reward')\n",
    "plt.show()"
   ]
  },
  {
   "cell_type": "markdown",
   "metadata": {},
   "source": [
    "## 5. Summary\n",
    "\n",
    "In this notebook, we:\n",
    "- Explored OpenAI Gym environments.\n",
    "- Ran a random policy.\n",
    "- Implemented a simple Q-learning algorithm.\n",
    "- Visualized agent performance.\n",
    "\n",
    "Next, we can move on to **Deep Q-Learning** and **Policy Gradient** methods for more complex environments!"
   ]
  }
 ],
 "metadata": {
  "kernelspec": {
   "display_name": "Python 3",
   "language": "python",
   "name": "python3"
  },
  "language_info": {
   "name": "python",
   "version": "3.11.5"
  }
 },
 "nbformat": 4,
 "nbformat_minor": 5
}
