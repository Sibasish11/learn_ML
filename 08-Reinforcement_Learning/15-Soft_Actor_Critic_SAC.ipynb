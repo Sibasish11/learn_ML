```json
{
 "cells": [
  {
   "cell_type": "markdown",
   "metadata": {},
   "source": [
    "# Soft Actor-Critic (SAC)\n",
    "\n",
    "Soft Actor-Critic (SAC) is a state-of-the-art **off-policy actor-critic** algorithm for **continuous action** tasks.\n",
    "\n",
    "Key ideas:\n",
    "- Maximum entropy RL: optimize for both reward and policy entropy (encourages exploration).\n",
    "- Uses **stochastic actor** (Gaussian policy), twin Q networks (to reduce overestimation), and a value/target value network.\n",
    "- Off-policy + replay buffer makes it sample-efficient.\n",
    "\n",
    "This notebook provides a compact, runnable SAC implementation skeleton using TensorFlow/Keras. It's educational: meant for study and extension, not production scale."
   ]
  },
  {
   "cell_type": "markdown",
   "metadata": {},
   "source": [
    "## 1. Install & Imports (uncomment installs if needed)"
   ]
  },
  {
   "cell_type": "code",
   "execution_count": null,
   "metadata": {},
   "outputs": [],
   "source": [
    "# !pip install gymnasium tensorflow --quiet\n",
    "import gymnasium as gym\n",
    "import numpy as np\n",
    "import tensorflow as tf\n",
    "from tensorflow.keras import layers\n",
    "import matplotlib.pyplot as plt\n",
    "import random"
   ]
  },
  {
   "cell_type": "markdown",
   "metadata": {},
   "source": [
    "## 2. Environment & helpers"
   ]
  },
  {
   "cell_type": "code",
   "execution_count": null,
   "metadata": {},
   "outputs": [],
   "source": [
    "env = gym.make('Pendulum-v1')\n",
    "obs_dim = env.observation_space.shape[0]\n",
    "act_dim = env.action_space.shape[0]\n",
    "act_high = env.action_space.high[0]\n",
    "act_low = env.action_space.low[0]\n",
    "\n",
    "def sample_action_from_policy(mean, log_std):\n",
    "    std = tf.exp(log_std)\n",
    "    normal = tf.random.normal(shape=mean.shape)\n",
    "    action = mean + std * normal\n",
    "    # tanh to bound actions, also compute log_prob correction\n",
    "    tanh_action = tf.tanh(action)\n",
    "    log_prob = -0.5 * (((action - mean) / (std + 1e-8)) ** 2 + 2.0 * log_std + np.log(2 * np.pi))\n",
    "    log_prob = tf.reduce_sum(log_prob, axis=1)\n",
    "    # correction for tanh\n",
    "    log_prob -= tf.reduce_sum(tf.math.log(1 - tanh_action ** 2 + 1e-6), axis=1)\n",
    "    return tanh_action * act_high, log_prob"
   ]
  },
  {
   "cell_type": "markdown",
   "metadata": {},
   "source": [
    "## 3. Networks: Policy (Gaussian), Twin Q-networks, Value & Target Value"
   ]
  },
  {
   "cell_type": "code",
   "execution_count": null,
   "metadata": {},
   "outputs": [],
   "source": [
    "def build_actor(obs_dim, act_dim, hidden=(256,256)):\n",
    "    inputs = layers.Input(shape=(obs_dim,))\n",
    "    x = inputs\n",
    "    for h in hidden:\n",
    "        x = layers.Dense(h, activation='relu')(x)\n",
    "    mean = layers.Dense(act_dim)(x)\n",
    "    log_std = layers.Dense(act_dim)(x)\n",
    "    model = tf.keras.Model(inputs, [mean, log_std])\n",
    "    return model\n",
    "\n",
    "def build_critic(obs_dim, act_dim, hidden=(256,256)):\n",
    "    s = layers.Input(shape=(obs_dim,))\n",
    "    a = layers.Input(shape=(act_dim,))\n",
    "    x = layers.Concatenate()([s, a])\n",
    "    for h in hidden:\n",
    "        x = layers.Dense(h, activation='relu')(x)\n",
    "    q = layers.Dense(1)(x)\n",
    "    model = tf.keras.Model([s, a], q)\n",
    "    return model\n",
    "\n",
    "def build_value(obs_dim, hidden=(256,256)):\n",
    "    s = layers.Input(shape=(obs_dim,))\n",
    "    x = s\n",
    "    for h in hidden:\n",
    "        x = layers.Dense(h, activation='relu')(x)\n",
    "    v = layers.Dense(1)(x)\n",
    "    model = tf.keras.Model(s, v)\n",
    "    return model\n",
    "\n",
    "actor = build_actor(obs_dim, act_dim)\n",
    "critic1 = build_critic(obs_dim, act_dim)\n",
    "critic2 = build_critic(obs_dim, act_dim)\n",
    "value = build_value(obs_dim)\n",
    "target_value = build_value(obs_dim)\n",
    "target_value.set_weights(value.get_weights())\n",
    "\n",
    "print('Actor, two critics, value and target_value created')"
   ]
  },
  {
   "cell_type": "markdown",
   "metadata": {},
   "source": [
    "## 4. Replay buffer"
   ]
  },
  {
   "cell_type": "code",
   "execution_count": null,
   "metadata": {},
   "outputs": [],
   "source": [
    "class ReplayBuffer:\n",
    "    def __init__(self, capacity=1000000):\n",
    "        self.capacity = capacity\n",
    "        self.ptr = 0\n",
    "        self.size = 0\n",
    "        self.state = np.zeros((capacity, obs_dim), dtype=np.float32)\n",
    "        self.action = np.zeros((capacity, act_dim), dtype=np.float32)\n",
    "        self.reward = np.zeros((capacity,), dtype=np.float32)\n",
    "        self.next_state = np.zeros((capacity, obs_dim), dtype=np.float32)\n",
    "        self.done = np.zeros((capacity,), dtype=np.float32)\n",
    "\n",
    "    def add(self, s, a, r, ns, d):\n",
    "        self.state[self.ptr] = s\n",
    "        self.action[self.ptr] = a\n",
    "        self.reward[self.ptr] = r\n",
    "        self.next_state[self.ptr] = ns\n",
    "        self.done[self.ptr] = float(d)\n",
    "        self.ptr = (self.ptr + 1) % self.capacity\n",
    "        self.size = min(self.size + 1, self.capacity)\n",
    "\n",
    "    def sample(self, batch_size):\n",
    "        idx = np.random.randint(0, self.size, size=batch_size)\n",
    "        return (self.state[idx], self.action[idx], self.reward[idx], self.next_state[idx], self.done[idx])\n",
    "\n",
    "buffer = ReplayBuffer(capacity=200000)\n",
    "print('Replay buffer ready')"
   ]
  },
  {
   "cell_type": "markdown",
   "metadata": {},
   "source": [
    "## 5. Hyperparameters & optimizers"
   ]
  },
  {
   "cell_type": "code",
   "execution_count": null,
   "metadata": {},
   "outputs": [],
   "source": [
    "actor_lr = 3e-4\n",
    "critic_lr = 3e-4\n",
    "value_lr = 3e-4\n",
    "gamma = 0.99\n",
    "tau = 0.005\n",
    "alpha = 0.2  # entropy coefficient (can be learned)\n",
    "batch_size = 256\n",
    "\n",
    "actor_opt = tf.keras.optimizers.Adam(actor_lr)\n",
    "critic1_opt = tf.keras.optimizers.Adam(critic_lr)\n",
    "critic2_opt = tf.keras.optimizers.Adam(critic_lr)\n",
    "value_opt = tf.keras.optimizers.Adam(value_lr)\n",
    "\n",
    "print('Optimizers created')"
   ]
  },
  {
   "cell_type": "markdown",
   "metadata": {},
   "source": [
    "## 6. SAC update step (simplified)\n",
    "This follows the standard SAC update rules:\n",
    "- Update value network towards `min(Q1, Q2) - alpha * log_pi`\n",
    "- Update actor to maximize expected Q - alpha * log_pi\n",
    "- Update critics to fit TD targets\n",
    "- Soft-update target value network"
   ]
  },
  {
   "cell_type": "code",
   "execution_count": null,
   "metadata": {},
   "outputs": [],
   "source": [
    "@tf.function\n",
    "def sac_update(states, actions, rewards, next_states, dones):\n",
    "    # convert to tensors\n",
    "    states_t = tf.convert_to_tensor(states, dtype=tf.float32)\n",
    "    actions_t = tf.convert_to_tensor(actions, dtype=tf.float32)\n",
    "    rewards_t = tf.convert_to_tensor(rewards, dtype=tf.float32)\n",
    "    next_states_t = tf.convert_to_tensor(next_states, dtype=tf.float32)\n",
    "    dones_t = tf.convert_to_tensor(dones, dtype=tf.float32)\n",
    "\n",
    "    # 1) Compute target for value network: y = min(Q1', Q2') - alpha * log_pi(a'|s')\n",
    "    mean_next, log_std_next = actor(next_states_t)\n",
    "    log_std_next = tf.clip_by_value(log_std_next, -20, 2)\n",
    "    next_action, next_logp = sample_action_from_policy(mean_next, log_std_next)\n",
    "    q1_next = critic1([next_states_t, next_action])\n",
    "    q2_next = critic2([next_states_t, next_action])\n",
    "    q_next_min = tf.minimum(q1_next, q2_next)\n",
    "    target_v = q_next_min - alpha * tf.expand_dims(next_logp, 1)\n",
    "\n",
    "    # 2) Update value network towards target_v\n",
    "    with tf.GradientTape() as tape_v:\n",
    "        v = value(states_t)\n",
    "        v_loss = tf.reduce_mean((v - target_v) ** 2)\n",
    "    grads_v = tape_v.gradient(v_loss, value.trainable_variables)\n",
    "    value_opt.apply_gradients(zip(grads_v, value.trainable_variables))\n",
    "\n",
    "    # 3) Update actor\n",
    "    with tf.GradientTape() as tape_a:\n",
    "        mean, log_std = actor(states_t)\n",
    "        log_std = tf.clip_by_value(log_std, -20, 2)\n",
    "        action_sampled, logp = sample_action_from_policy(mean, log_std)\n",
    "        q1_pi = critic1([states_t, action_sampled])\n",
    "        q2_pi = critic2([states_t, action_sampled])\n",
    "        q_pi = tf.minimum(q1_pi, q2_pi)\n",
    "        actor_loss = tf.reduce_mean(alpha * tf.expand_dims(logp, 1) - q_pi)\n",
    "    grads_a = tape_a.gradient(actor_loss, actor.trainable_variables)\n",
    "    actor_opt.apply_gradients(zip(grads_a, actor.trainable_variables))\n",
    "\n",
    "    # 4) Update critics\n",
    "    with tf.GradientTape() as tape_c1, tf.GradientTape() as tape_c2:\n",
    "        # TD target: r + gamma * (target_v) * (1 - done)\n",
    "        target_v_next = target_value(next_states_t)\n",
    "        td_target = tf.expand_dims(rewards_t, 1) + gamma * (1 - tf.expand_dims(dones_t, 1)) * target_v_next\n",
    "        q1 = critic1([states_t, actions_t])\n",
    "        q2 = critic2([states_t, actions_t])\n",
    "        c1_loss = tf.reduce_mean((q1 - td_target) ** 2)\n",
    "        c2_loss = tf.reduce_mean((q2 - td_target) ** 2)\n",
    "    grads_c1 = tape_c1.gradient(c1_loss, critic1.trainable_variables)\n",
    "    grads_c2 = tape_c2.gradient(c2_loss, critic2.trainable_variables)\n",
    "    critic1_opt.apply_gradients(zip(grads_c1, critic1.trainable_variables))\n",
    "    critic2_opt.apply_gradients(zip(grads_c2, critic2.trainable_variables))\n",
    "\n",
    "    # 5) Soft update target value network\n",
    "    for t, s in zip(target_value.trainable_variables, value.trainable_variables):\n",
    "        t.assign(t * (1 - tau) + s * tau)\n",
    "\n",
    "    return v_loss, actor_loss, c1_loss, c2_loss"
   ]
  },
  {
   "cell_type": "markdown",
   "metadata": {},
   "source": [
    "## 7. Training loop (compact demo)\n",
    "Collect transitions, add to replay buffer, and call `sac_update` when enough samples are available."
   ]
  },
  {
   "cell_type": "code",
   "execution_count": null,
   "metadata": {},
   "outputs": [],
   "source": [
    "max_episodes = 200\n",
    "steps_per_episode = 200\n",
    "start_steps = 1000\n",
    "updates_per_step = 1\n",
    "\n",
    "episode_rewards = []\n",
    "total_steps = 0\n",
    "\n",
    "for ep in range(max_episodes):\n",
    "    obs, _ = env.reset()\n",
    "    ep_r = 0\n",
    "    for t in range(steps_per_episode):\n",
    "        total_steps += 1\n",
    "        if buffer.size < start_steps:\n",
    "            # random action for initial exploration\n",
    "            a = env.action_space.sample()\n",
    "            next_obs, r, terminated, truncated, _ = env.step(a)\n",
    "            done = terminated or truncated\n",
    "            buffer.add(obs, a, r, next_obs, done)\n",
    "            obs = next_obs\n",
    "            ep_r += r\n",
    "            if done:\n",
    "                break\n",
    "            continue\n",
    "\n",
    "        # sample action from current policy\n",
    "        mean_s, log_std_s = actor(np.expand_dims(obs, 0))\n",
    "        log_std_s = tf.clip_by_value(log_std_s, -20, 2)\n",
    "        action, _ = sample_action_from_policy(mean_s, log_std_s)\n",
    "        action = action[0].numpy()\n",
    "        next_obs, r, terminated, truncated, _ = env.step(action)\n",
    "        done = terminated or truncated\n",
    "        buffer.add(obs, action, r, next_obs, done)\n",
    "        obs = next_obs\n",
    "        ep_r += r\n",
    "\n",
    "        # updates\n",
    "        for _ in range(updates_per_step):\n",
    "            if buffer.size >= batch_size:\n",
    "                s_b, a_b, r_b, ns_b, d_b = buffer.sample(batch_size)\n",
    "                v_loss, a_loss, c1_loss, c2_loss = sac_update(s_b, a_b, r_b, ns_b, d_b)\n",
    "\n",
    "        if done:\n",
    "            break\n",
    "\n",
    "    episode_rewards.append(ep_r)\n",
    "    if ep % 5 == 0:\n",
    "        print(f'Episode {ep} | AvgReward(20): {np.mean(episode_rewards[-20:]):.2f}')\n",
    "\n",
    "plt.plot(episode_rewards)\n",
    "plt.title('SAC: Episode rewards')\n",
    "plt.xlabel('Episode')\n",
    "plt.ylabel('Reward')\n",
    "plt.show()"
   ]
  },
  {
   "cell_type": "markdown",
   "metadata": {},
   "source": [
    "## 8. Notes & next steps\n",
    "- This implementation is a compact educational variant. Production-quality SAC includes:\n",
    "  - Learned entropy coefficient (automatic α tuning),\n",
    "  - Proper Gaussian sampling with reparameterization,\n",
    "  - Efficient vectorized log-prob computation,\n",
    "  - Better numerical stability (clipped gradients, careful scaling),\n",
    "  - Use of TF `tf.function` and batching for performance.\n",
    "- Try TD3, which builds on DDPG and addresses function approximation issues differently.\n",
    "\n",
    "## ✅ Summary\n",
    "- SAC optimizes reward + entropy, improving exploration and stability for continuous control.\n",
    "- It uses twin critics, stochastic actor, and a value/target value for stable bootstrapping.\n",
    "- This notebook gives you a working skeleton to experiment and extend."
   ]
  }
 ],
 "metadata": {
  "kernelspec": {
   "display_name": "Python 3",
   "language": "python",
   "name": "python3"
  },
  "language_info": {
   "name": "python",
   "version": "3.10"
  }
 },
 "nbformat": 4,
 "nbformat_minor": 5
}
```

