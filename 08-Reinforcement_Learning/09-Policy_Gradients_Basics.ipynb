{
 "cells": [
  {
   "cell_type": "markdown",
   "metadata": {},
   "source": [
    "# Policy Gradients Basics\n",
    "\n",
    "In this notebook, we’ll explore **policy gradient methods**, a cornerstone of modern reinforcement learning and the foundation of algorithms like **REINFORCE**, **Actor-Critic**, and **PPO**.\n",
    "\n",
    "Unlike value based methods such as Q learning, **policy gradients** directly learn the *policy function* : i.e., a mapping from states to actions without explicitly estimating a value function."
   ]
  },
  {
   "cell_type": "markdown",
   "metadata": {},
   "source": [
    "## 🎯 1. What are Policy Gradient Methods?\n",
    "\n",
    "A policy gradient method optimizes a **parameterized policy** $\\pi_\\theta(a|s)$ by maximizing the expected cumulative reward:\n",
    "\n",
    "$$ J(\\theta) = \\mathbb{E}_{\\pi_\\theta}[R] $$\n",
    "\n",
    "We update the policy parameters in the direction of the gradient:\n",
    "\n",
    "$$ \\theta \\leftarrow \\theta + \\alpha \\nabla_\\theta J(\\theta) $$\n",
    "\n",
    "where $\\alpha$ is the learning rate.\n",
    "\n",
    "The key insight: we improve the probability of actions that lead to higher returns."
   ]
  },
  {
   "cell_type": "markdown",
   "metadata": {},
   "source": [
    "## 🧩 2. The REINFORCE Algorithm\n",
    "\n",
    "The **REINFORCE algorithm** is one of the simplest policy gradient methods. It uses Monte Carlo sampling to estimate gradients.\n",
    "\n",
    "### Algorithm Steps\n",
    "1. Run the policy $\\pi_\\theta$ in the environment and collect trajectories (episodes).\n",
    "2. Compute returns $G_t$ for each time step.\n",
    "3. Update the policy parameters:\n",
    "   \n",
    "$$ \\theta \\leftarrow \\theta + \\alpha G_t \\nabla_\\theta \\log \\pi_\\theta(a_t|s_t) $$"
   ]
  },
  {
   "cell_type": "markdown",
   "metadata": {},
   "source": [
    "## ⚙️ 3. Implementation with Gym and PyTorch"
   ]
  },
  {
   "cell_type": "code",
   "metadata": {},
   "source": [
    "import gym\n",
    "import torch\n",
    "import torch.nn as nn\n",
    "import torch.optim as optim\n",
    "\n",
    "# Define policy network\n",
    "class PolicyNetwork(nn.Module):\n",
    "    def __init__(self, state_dim, action_dim):\n",
    "        super(PolicyNetwork, self).__init__()\n",
    "        self.fc = nn.Sequential(\n",
    "            nn.Linear(state_dim, 128),\n",
    "            nn.ReLU(),\n",
    "            nn.Linear(128, action_dim),\n",
    "            nn.Softmax(dim=-1)\n",
    "        )\n",
    "    \n",
    "    def forward(self, x):\n",
    "        return self.fc(x)\n",
    "\n",
    "# Create environment and model\n",
    "env = gym.make('CartPole-v1')\n",
    "state_dim = env.observation_space.shape[0]\n",
    "action_dim = env.action_space.n\n",
    "\n",
    "policy = PolicyNetwork(state_dim, action_dim)\n",
    "optimizer = optim.Adam(policy.parameters(), lr=0.01)\n",
    "\n",
    "def select_action(state):\n",
    "    state = torch.FloatTensor(state)\n",
    "    probs = policy(state)\n",
    "    dist = torch.distributions.Categorical(probs)\n",
    "    action = dist.sample()\n",
    "    return action.item(), dist.log_prob(action)"
   ]
  },
  {
   "cell_type": "code",
   "metadata": {},
   "source": [
    "# Train using REINFORCE\n",
    "for episode in range(500):\n",
    "    log_probs = []\n",
    "    rewards = []\n",
    "    state = env.reset()[0]\n",
    "    done = False\n",
    "    \n",
    "    while not done:\n",
    "        action, log_prob = select_action(state)\n",
    "        next_state, reward, done, _, _ = env.step(action)\n",
    "        log_probs.append(log_prob)\n",
    "        rewards.append(reward)\n",
    "        state = next_state\n",
    "    \n",
    "    # Compute discounted returns\n",
    "    returns = []\n",
    "    G = 0\n",
    "    for r in reversed(rewards):\n",
    "        G = r + 0.99 * G\n",
    "        returns.insert(0, G)\n",
    "    returns = torch.FloatTensor(returns)\n",
    "    \n",
    "    # Normalize for stability\n",
    "    returns = (returns - returns.mean()) / (returns.std() + 1e-9)\n",
    "    \n",
    "    # Compute loss and update\n",
    "    loss = 0\n",
    "    for log_prob, Gt in zip(log_probs, returns):\n",
    "        loss += -log_prob * Gt\n",
    "    \n",
    "    optimizer.zero_grad()\n",
    "    loss.backward()\n",
    "    optimizer.step()\n",
    "    \n",
    "    if episode % 50 == 0:\n",
    "        print(f\"Episode {episode}, Total Reward: {sum(rewards)}\")"
   ]
  },
  {
   "cell_type": "markdown",
   "metadata": {},
   "source": [
    "## 📈 4. Advantages and Disadvantages\n",
    "\n",
    "**Advantages:**\n",
    "- Works directly with stochastic policies.\n",
    "- Handles continuous action spaces.\n",
    "- Can optimize non-differentiable environments via sampling.\n",
    "\n",
    "**Disadvantages:**\n",
    "- High variance in gradient estimates.\n",
    "- Can be sample inefficient.\n",
    "- Sensitive to hyperparameters (learning rate, discount factor)."
   ]
  },
  {
   "cell_type": "markdown",
   "metadata": {},
   "source": [
    "## 🧠 5. Key Takeaways\n",
    "- Policy gradients optimize the policy directly, without value estimation.\n",
    "- REINFORCE uses Monte Carlo sampling to estimate returns.\n",
    "- Variance reduction (via baselines or actor-critic methods) improves stability.\n",
    "\n",
    "Next, we’ll move to **Actor-Critic Methods**, which combine value based and polic based ideas to overcome these limitations."
   ]
  }
 ],
 "metadata": {
  "kernelspec": {
   "display_name": "Python 3",
   "language": "python",
   "name": "python3"
  },
  "language_info": {
   "name": "python",
   "version": "3.10"
  }
 },
 "nbformat": 4,
 "nbformat_minor": 5
}
