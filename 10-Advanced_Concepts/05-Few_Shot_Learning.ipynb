{
 "cells": [
  {
   "cell_type": "markdown",
   "metadata": {},
   "source": [
    "# Few Shot Learning\n",
    "\n",
    "In this notebook, we’ll explore **Few Shot Learning (FSL)** : an important subfield of machine learning where models are trained to generalize effectively from only a few labeled examples.\n",
    "\n",
    "Traditional deep learning requires large datasets, but in real world scenarios (like medical imaging or rare species identification), collecting many examples is impractical. Few shot learning solves this by leveraging **meta-learning** and **transfer learning** approaches."
   ]
  },
  {
   "cell_type": "markdown",
   "metadata": {},
   "source": [
    "## 🎯 Learning Objectives\n",
    "- Understand the concept and motivation behind Few-Shot Learning\n",
    "- Learn about **N-way K-shot** terminology\n",
    "- Explore model architectures used for FSL (e.g., Prototypical Networks, Matching Networks, Siamese Networks)\n",
    "- Implement a basic **Siamese Network** for few-shot image classification"
   ]
  },
  {
   "cell_type": "markdown",
   "metadata": {},
   "source": [
    "## 🧩 1. What is Few-Shot Learning?\n",
    "\n",
    "Few-Shot Learning aims to **learn new tasks or classes from only a few examples per class**. It’s inspired by human learning — we can recognize a new object after seeing it only once or twice.\n",
    "\n",
    "FSL typically uses **meta-learning**, where the model learns *how to learn* across multiple tasks, enabling it to quickly adapt to new tasks with minimal data."
   ]
  },
  {
   "cell_type": "markdown",
   "metadata": {},
   "source": [
    "### 🧮 N-way K-shot Terminology\n",
    "- **N-way**: Number of classes to classify.\n",
    "- **K-shot**: Number of examples per class in the support set.\n",
    "- **Query set**: Unseen examples to test generalization.\n",
    "\n",
    "**Example:** In a 5-way 1-shot task, the model sees 1 image from each of 5 classes and must classify a new query image into one of them."
   ]
  },
  {
   "cell_type": "markdown",
   "metadata": {},
   "source": [
    "## 🧠 2. Common Approaches to Few-Shot Learning\n",
    "\n",
    "| Approach | Description |\n",
    "|-----------|--------------|\n",
    "| **Siamese Networks** | Compare pairs of examples using a distance metric. |\n",
    "| **Prototypical Networks** | Compute class prototypes (means) in embedding space and classify by distance. |\n",
    "| **Matching Networks** | Use attention over support examples for classification. |\n",
    "| **Meta-Learning (MAML)** | Train a model to quickly adapt to new tasks with few updates. |"
   ]
  },
  {
   "cell_type": "code",
   "execution_count": null,
   "metadata": {},
   "outputs": [],
   "source": [
    "# 🧩 3. Siamese Network Example for Few-Shot Learning\n",
    "\n",
    "import torch\n",
    "import torch.nn as nn\n",
    "import torch.nn.functional as F\n",
    "from torchvision import datasets, transforms\n",
    "from torch.utils.data import DataLoader, Dataset\n",
    "import random\n",
    "\n",
    "class SiameseNetwork(nn.Module):\n",
    "    def __init__(self):\n",
    "        super(SiameseNetwork, self).__init__()\n",
    "        self.cnn = nn.Sequential(\n",
    "            nn.Conv2d(1, 64, kernel_size=3),\n",
    "            nn.ReLU(),\n",
    "            nn.MaxPool2d(2),\n",
    "            nn.Conv2d(64, 128, kernel_size=3),\n",
    "            nn.ReLU(),\n",
    "            nn.MaxPool2d(2)\n",
    "        )\n",
    "        self.fc = nn.Sequential(\n",
    "            nn.Linear(128*5*5, 256),\n",
    "            nn.ReLU(),\n",
    "            nn.Linear(256, 128)\n",
    "        )\n",
    "    \n",
    "    def forward_once(self, x):\n",
    "        output = self.cnn(x)\n",
    "        output = output.view(output.size()[0], -1)\n",
    "        output = self.fc(output)\n",
    "        return output\n",
    "    \n",
    "    def forward(self, input1, input2):\n",
    "        output1 = self.forward_once(input1)\n",
    "        output2 = self.forward_once(input2)\n",
    "        return output1, output2"
   ]
  },
  {
   "cell_type": "markdown",
   "metadata": {},
   "source": [
    "## ⚖️ 4. Contrastive Loss Function\n",
    "The contrastive loss helps the Siamese network learn similarity:\n",
    "\n",
    "$$ L = (1-Y) * D^2 + (Y) * \\max(0, m - D)^2 $$\n",
    "\n",
    "where:\n",
    "- **Y = 0** if images are from the same class, **1** otherwise\n",
    "- **D** is the Euclidean distance between embeddings\n",
    "- **m** is a margin parameter"
   ]
  },
  {
   "cell_type": "code",
   "execution_count": null,
   "metadata": {},
   "outputs": [],
   "source": [
    "class ContrastiveLoss(nn.Module):\n",
    "    def __init__(self, margin=1.0):\n",
    "        super(ContrastiveLoss, self).__init__()\n",
    "        self.margin = margin\n",
    "\n",
    "    def forward(self, output1, output2, label):\n",
    "        euclidean_distance = F.pairwise_distance(output1, output2)\n",
    "        loss = torch.mean((1 - label) * torch.pow(euclidean_distance, 2) +\n",
    "                         (label) * torch.pow(torch.clamp(self.margin - euclidean_distance, min=0.0), 2))\n",
    "        return loss"
   ]
  },
  {
   "cell_type": "markdown",
   "metadata": {},
   "source": [
    "## 🔍 5. Applications of Few-Shot Learning\n",
    "- 🏥 **Medical diagnosis** with limited labeled scans\n",
    "- 🐦 **Rare species identification** in ecology\n",
    "- 🕵️ **Facial recognition** for unseen individuals\n",
    "- 📱 **Personalized recommendation systems** with few user interactions"
   ]
  },
  {
   "cell_type": "markdown",
   "metadata": {},
   "source": [
    "## 🧭 6. Summary\n",
    "- Few-Shot Learning enables learning from few labeled samples.\n",
    "- Uses meta-learning or similarity-based networks.\n",
    "- Architectures: Siamese, Prototypical, Matching Networks.\n",
    "- Crucial for tasks with scarce labeled data."
   ]
  },
  {
   "cell_type": "markdown",
   "metadata": {},
   "source": [
    "### ✅ Next Notebook: `06-Zero_Shot_and_One_Shot_Learning.ipynb`\n",
    "We’ll extend this discussion to **zero-shot** and **one-shot learning**, exploring how models can generalize to completely unseen classes or tasks."
   ]
  }
 ],
 "metadata": {
  "kernelspec": {
   "display_name": "Python 3",
   "language": "python",
   "name": "python3"
  },
  "language_info": {
   "name": "python",
   "version": "3.10"
  }
 },
 "nbformat": 4,
 "nbformat_minor": 5
}
