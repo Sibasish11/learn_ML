{
 "cells": [
  {
   "cell_type": "markdown",
   "metadata": {},
   "source": [
    "# Graph Neural Networks (GNNs) Basics\n",
    "\n",
    "In this notebook, we’ll explore the fundamentals of **Graph Neural Networks (GNNs)** : a powerful class of models designed to work directly on graph-structured data. \n",
    "\n",
    "Graphs are ubiquitous in the real world: they represent **social networks, molecular structures, citation networks, and recommendation systems**. Unlike images or text, graphs have an **irregular structure**, which makes them challenging for traditional deep learning models."
   ]
  },
  {
   "cell_type": "markdown",
   "metadata": {},
   "source": [
    "## 🚀 Learning Objectives\n",
    "- Understand what graphs are and why GNNs are needed.\n",
    "- Learn about message passing and graph convolution.\n",
    "- Build a simple GCN (Graph Convolutional Network) model using PyTorch Geometric.\n",
    "- Apply GNNs to a sample dataset (Cora citation network)."
   ]
  },
  {
   "cell_type": "markdown",
   "metadata": {},
   "source": [
    "## 📘 1. What is a Graph?\n",
    "\n",
    "A **graph** is defined as \\( G = (V, E) \\):\n",
    "- **V** → Set of nodes (vertices)\n",
    "- **E** → Set of edges (connections between nodes)\n",
    "\n",
    "Each node can have **features**, and edges can represent relationships or similarities.\n",
    "\n",
    "Example:\n",
    "```\n",
    "A --- B\n",
    "|     |\n",
    "C --- D\n",
    "```\n",
    "Here A, B, C, D are nodes, and the connecting lines are edges."
   ]
  },
  {
   "cell_type": "markdown",
   "metadata": {},
   "source": [
    "## ⚙️ 2. Why Use GNNs?\n",
    "\n",
    "Unlike CNNs that work on grid data (images), GNNs learn **node embeddings** by aggregating information from a node’s **neighbors**.\n",
    "\n",
    "This process is called **message passing**:\n",
    "\n",
    "\\[\n",
    "h_v^{(k)} = \\sigma \\Big( W^{(k)} \\cdot AGGREGATE(\\{h_u^{(k-1)} : u \\in N(v)\\}) \\Big)\n",
    "\\]\n",
    "\n",
    "Where:\n",
    "- \\( h_v^{(k)} \\) → embedding of node *v* at layer *k*\n",
    "- \\( N(v) \\) → neighbors of node *v*\n",
    "- \\( \\sigma \\) → activation function\n",
    "- \\( W^{(k)} \\) → learnable weights"
   ]
  },
  {
   "cell_type": "code",
   "metadata": {},
   "source": [
    "# Install PyTorch Geometric (if running locally)\n",
    "# !pip install torch-geometric torch-scatter torch-sparse torch-cluster\n",
    "import torch\n",
    "from torch_geometric.datasets import Planetoid\n",
    "from torch_geometric.nn import GCNConv\n",
    "\n",
    "print('Libraries imported successfully!')"
   ]
  },
  {
   "cell_type": "markdown",
   "metadata": {},
   "source": [
    "## 🧩 3. Load the Cora Dataset\n",
    "\n",
    "The **Cora dataset** is a citation network where:\n",
    "- Nodes = research papers\n",
    "- Edges = citations\n",
    "- Features = bag-of-words representations\n",
    "- Task = classify papers into 7 categories"
   ]
  },
  {
   "cell_type": "code",
   "metadata": {},
   "source": [
    "dataset = Planetoid(root='data/Cora', name='Cora')\n",
    "data = dataset[0]\n",
    "\n",
    "print('Dataset:', dataset)\n",
    "print('Number of nodes:', data.num_nodes)\n",
    "print('Number of edges:', data.num_edges)\n",
    "print('Number of features:', data.num_features)\n",
    "print('Number of classes:', dataset.num_classes)"
   ]
  },
  {
   "cell_type": "markdown",
   "metadata": {},
   "source": [
    "## 🏗️ 4. Building a Simple Graph Convolutional Network (GCN)\n",
    "\n",
    "A GCN applies convolution-like operations on graphs. Each layer aggregates and transforms neighbor features."
   ]
  },
  {
   "cell_type": "code",
   "metadata": {},
   "source": [
    "import torch.nn.functional as F\n",
    "\n",
    "class GCN(torch.nn.Module):\n",
    "    def __init__(self):\n",
    "        super().__init__()\n",
    "        self.conv1 = GCNConv(dataset.num_features, 16)\n",
    "        self.conv2 = GCNConv(16, dataset.num_classes)\n",
    "\n",
    "    def forward(self, data):\n",
    "        x, edge_index = data.x, data.edge_index\n",
    "        x = self.conv1(x, edge_index)\n",
    "        x = F.relu(x)\n",
    "        x = F.dropout(x, p=0.5, training=self.training)\n",
    "        x = self.conv2(x, edge_index)\n",
    "        return F.log_softmax(x, dim=1)\n",
    "\n",
    "model = GCN()\n",
    "optimizer = torch.optim.Adam(model.parameters(), lr=0.01, weight_decay=5e-4)\n",
    "print(model)"
   ]
  },
  {
   "cell_type": "markdown",
   "metadata": {},
   "source": [
    "## 🎯 5. Training the GCN"
   ]
  },
  {
   "cell_type": "code",
   "metadata": {},
   "source": [
    "def train():\n",
    "    model.train()\n",
    "    optimizer.zero_grad()\n",
    "    out = model(data)\n",
    "    loss = F.nll_loss(out[data.train_mask], data.y[data.train_mask])\n",
    "    loss.backward()\n",
    "    optimizer.step()\n",
    "    return loss.item()\n",
    "\n",
    "for epoch in range(200):\n",
    "    loss = train()\n",
    "    if epoch % 20 == 0:\n",
    "        print(f'Epoch {epoch}, Loss: {loss:.4f}')"
   ]
  },
  {
   "cell_type": "markdown",
   "metadata": {},
   "source": [
    "## 📊 6. Evaluate the Model"
   ]
  },
  {
   "cell_type": "code",
   "metadata": {},
   "source": [
    "model.eval()\n",
    "pred = model(data).argmax(dim=1)\n",
    "correct = (pred[data.test_mask] == data.y[data.test_mask]).sum()\n",
    "acc = int(correct) / int(data.test_mask.sum())\n",
    "print(f'Test Accuracy: {acc:.4f}')"
   ]
  },
  {
   "cell_type": "markdown",
   "metadata": {},
   "source": [
    "## 🧭 7. Key Takeaways\n",
    "- GNNs generalize deep learning to graph data.\n",
    "- Message passing allows nodes to aggregate information from neighbors.\n",
    "- GCNs are one of the foundational GNN architectures.\n",
    "- Frameworks like **PyTorch Geometric** simplify GNN implementation."
   ]
  },
  {
   "cell_type": "markdown",
   "metadata": {},
   "source": [
    "## 🧠 Further Exploration\n",
    "- GraphSAGE: inductive node embeddings.\n",
    "- GAT (Graph Attention Networks): attention-based aggregation.\n",
    "- Applications: molecular property prediction, traffic forecasting, recommendation systems."
   ]
  }
 ],
 "metadata": {
  "kernelspec": {
   "display_name": "Python 3",
   "language": "python",
   "name": "python3"
  },
  "language_info": {
   "name": "python",
   "version": "3.10"
  }
 },
 "nbformat": 4,
 "nbformat_minor": 5
}
