{
 "cells": [
  {
   "cell_type": "markdown",
   "metadata": {},
   "source": [
    "# Convolutional Neural Networks (CNNs) - Basics\n",
    "\n",
    "Convolutional Neural Networks are designed for processing **grid-like data** (e.g., images). They use convolution operations to extract spatial features.\n",
    "\n",
    "### Key Components:\n",
    "- **Convolutional Layer**: Detects features (edges, textures).\n",
    "- **Pooling Layer**: Reduces spatial size, keeps important info.\n",
    "- **Fully Connected Layer**: Combines features for final prediction."
   ]
  },
  {
   "cell_type": "code",
   "execution_count": 1,
   "metadata": {},
   "outputs": [],
   "source": [
    "import tensorflow as tf\n",
    "from tensorflow.keras import Sequential\n",
    "from tensorflow.keras.layers import Conv2D, MaxPooling2D, Flatten, Dense\n",
    "\n",
    "# Example CNN for image classification (input: 28x28 grayscale)\n",
    "cnn_model = Sequential([\n",
    "    Conv2D(32, (3,3), activation='relu', input_shape=(28,28,1)),\n",
    "    MaxPooling2D((2,2)),\n",
    "    Conv2D(64, (3,3), activation='relu'),\n",
    "    MaxPooling2D((2,2)),\n",
    "    Flatten(),\n",
    "    Dense(64, activation='relu'),\n",
    "    Dense(10, activation='softmax')\n",
    "])"
   ]
  },
  {
   "cell_type": "code",
   "execution_count": 2,
   "metadata": {},
   "outputs": [
    {
     "name": "stdout",
     "output_type": "stream",
     "text": [
      "Model: \"sequential\"\n",
      "_________________________________________________________________\n",
      " Layer (type)                Output Shape              Param #   \n",
      "=================================================================\n",
      " conv2d (Conv2D)             (None, 26, 26, 32)        320       \n",
      " max_pooling2d (MaxPooling2D (None, 13, 13, 32)        0         \n",
      " )                                                               \n",
      " conv2d_1 (Conv2D)           (None, 11, 11, 64)        18496     \n",
      " max_pooling2d_1 (MaxPooling (None, 5, 5, 64)          0         \n",
      " 2D)                                                             \n",
      " flatten (Flatten)           (None, 1600)              0         \n",
      " dense (Dense)               (None, 64)                102464    \n",
      " dense_1 (Dense)             (None, 10)                650       \n",
      "=================================================================\n",
      "Total params: 121,930\n",
      "Trainable params: 121,930\n",
      "Non-trainable params: 0\n",
      "_________________________________________________________________\n"
     ]
    }
   ],
   "source": [
    "cnn_model.summary()"
   ]
  },
  {
   "cell_type": "markdown",
   "metadata": {},
   "source": [
    "✅ **Notes**:\n",
    "- The first Conv layer extracts low-level features (edges, corners).\n",
    "- Deeper Conv layers capture complex patterns (shapes, textures).\n",
    "- Pooling reduces the dimensionality while retaining key information.\n",
    "- Fully connected layers at the end classify based on extracted features.\n",
    "\n",
    "CNNs are widely used in **image recognition, object detection, self-driving cars, and medical imaging.**"
   ]
  }
 ],
 "metadata": {
  "kernelspec": {
   "display_name": "Python 3",
   "language": "python",
   "name": "python3"
  },
  "language_info": {
   "name": "python",
   "version": "3.8"
  }
 },
 "nbformat": 4,
 "nbformat_minor": 2
}
