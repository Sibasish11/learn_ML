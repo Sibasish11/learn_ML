{
 "cells": [
  {
   "cell_type": "markdown",
   "metadata": {},
   "source": [
    "# Gated Recurrent Unit (GRU) Basics\n",
    "\n",
    "## 1. Introduction\n",
    "- GRUs are a simplified version of LSTMs.\n",
    "- They combine the **forget gate** and **input gate** into a single **update gate**.\n",
    "- Fewer parameters than LSTM → faster training, but still effective.\n",
    "\n",
    "### Applications:\n",
    "- Text classification\n",
    "- Time-series forecasting\n",
    "- Speech recognition\n",
    "- Any sequential modeling task"
   ]
  },
  {
   "cell_type": "markdown",
   "metadata": {},
   "source": [
    "## 2. GRU vs LSTM\n",
    "- **LSTM** has 3 gates (input, forget, output).\n",
    "- **GRU** has 2 gates (update, reset).\n",
    "- GRUs are computationally cheaper but often perform similarly.\n",
    "- Good choice when training data or compute is limited."
   ]
  },
  {
   "cell_type": "markdown",
   "metadata": {},
   "source": [
    "## 3. Example: GRU for Sequence Classification"
   ]
  },
  {
   "cell_type": "code",
   "execution_count": null,
   "metadata": {},
   "outputs": [],
   "source": [
    "import numpy as np\n",
    "import tensorflow as tf\n",
    "from tensorflow.keras.models import Sequential\n",
    "from tensorflow.keras.layers import GRU, Dense, Embedding\n",
    "from tensorflow.keras.preprocessing.sequence import pad_sequences\n",
    "\n",
    "# Example toy dataset: sequences of integers\n",
    "X = [\n",
    "    [1, 2, 3, 4],\n",
    "    [2, 3, 4, 5],\n",
    "    [3, 4, 5, 6],\n",
    "    [4, 5, 6, 7]\n",
    "]\n",
    "y = [0, 1, 0, 1]  # Binary labels\n",
    "\n",
    "X = pad_sequences(X, maxlen=6)\n",
    "y = np.array(y)\n",
    "\n",
    "# Define GRU model\n",
    "model = Sequential([\n",
    "    Embedding(input_dim=10, output_dim=8, input_length=6),\n",
    "    GRU(16),\n",
    "    Dense(1, activation='sigmoid')\n",
    "])\n",
    "\n",
    "model.compile(optimizer='adam', loss='binary_crossentropy', metrics=['accuracy'])\n",
    "model.summary()\n",
    "\n",
    "# Train the model\n",
    "history = model.fit(X, y, epochs=10, verbose=1)"
   ]
  },
  {
   "cell_type": "markdown",
   "metadata": {},
   "source": [
    "## 4. Key Notes\n",
    "- GRUs are simpler and faster than LSTMs.\n",
    "- Perform well on many sequence problems.\n",
    "- Often used as a default choice when experimenting with RNNs.\n",
    "- In practice, both LSTM and GRU are tested to see which works better."
   ]
  }
 ],
 "metadata": {
  "kernelspec": {
   "display_name": "Python 3",
   "language": "python",
   "name": "python3"
  },
  "language_info": {
   "name": "python",
   "version": "3.x"
  }
 },
 "nbformat": 4,
 "nbformat_minor": 5
}
