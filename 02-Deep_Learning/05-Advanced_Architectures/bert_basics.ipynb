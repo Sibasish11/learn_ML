{
 "cells": [
  {
   "cell_type": "markdown",
   "metadata": {},
   "source": [
    "# BERT Basics\n",
    "\n",
    "BERT (Bidirectional Encoder Representations from Transformers) is a groundbreaking NLP model introduced by Google in 2018.\n",
    "\n",
    "## Key Points:\n",
    "- Based on **Transformer Encoder** architecture.\n",
    "- Trained on **Masked Language Modeling (MLM)** and **Next Sentence Prediction (NSP)**.\n",
    "- Provides **contextual word embeddings** (understands meaning based on context).\n",
    "- Powers many NLP tasks: classification, question answering, NER, etc."
   ]
  },
  {
   "cell_type": "markdown",
   "metadata": {},
   "source": [
    "## 1. Installing Hugging Face Transformers"
   ]
  },
  {
   "cell_type": "code",
   "execution_count": 1,
   "metadata": {},
   "outputs": [],
   "source": [
    "!pip install transformers torch --quiet"
   ]
  },
  {
   "cell_type": "markdown",
   "metadata": {},
   "source": [
    "## 2. Loading Pretrained BERT Model & Tokenizer"
   ]
  },
  {
   "cell_type": "code",
   "execution_count": 2,
   "metadata": {},
   "outputs": [],
   "source": [
    "from transformers import BertTokenizer, BertModel\n",
    "\n",
    "# Load pre-trained BERT tokenizer and model\n",
    "tokenizer = BertTokenizer.from_pretrained('bert-base-uncased')\n",
    "model = BertModel.from_pretrained('bert-base-uncased')"
   ]
  },
  {
   "cell_type": "markdown",
   "metadata": {},
   "source": [
    "## 3. Tokenizing Text"
   ]
  },
  {
   "cell_type": "code",
   "execution_count": 3,
   "metadata": {},
   "outputs": [],
   "source": [
    "text = \"BERT is transforming NLP.\"\n",
    "inputs = tokenizer(text, return_tensors='pt')\n",
    "print(inputs)"
   ]
  },
  {
   "cell_type": "markdown",
   "metadata": {},
   "source": [
    "The tokenizer converts text into:\n",
    "- `input_ids`: numerical tokens\n",
    "- `attention_mask`: tells which tokens should be attended to\n",
    "- (optionally) `token_type_ids` for sentence pairs"
   ]
  },
  {
   "cell_type": "markdown",
   "metadata": {},
   "source": [
    "## 4. Getting Embeddings from BERT"
   ]
  },
  {
   "cell_type": "code",
   "execution_count": 4,
   "metadata": {},
   "outputs": [],
   "source": [
    "outputs = model(**inputs)\n",
    "last_hidden_states = outputs.last_hidden_state\n",
    "print(last_hidden_states.shape)  # (batch_size, sequence_length, hidden_size)"
   ]
  },
  {
   "cell_type": "markdown",
   "metadata": {},
   "source": [
    "Output shape example:\n",
    "```\n",
    "torch.Size([1, 6, 768])\n",
    "```\n",
    "This means:\n",
    "- 1 sequence in the batch\n",
    "- 6 tokens (including [CLS] and [SEP])\n",
    "- 768-dimensional embeddings"
   ]
  },
  {
   "cell_type": "markdown",
   "metadata": {},
   "source": [
    "## 5. Using BERT for Sentiment Classification\n",
    "We’ll use Hugging Face `pipeline` for an easy sentiment classification demo."
   ]
  },
  {
   "cell_type": "code",
   "execution_count": 5,
   "metadata": {},
   "outputs": [],
   "source": [
    "from transformers import pipeline\n",
    "\n",
    "# Load pipeline with BERT-based model\n",
    "classifier = pipeline(\"sentiment-analysis\")\n",
    "\n",
    "result = classifier(\"I love learning BERT models!\")[0]\n",
    "print(result)"
   ]
  },
  {
   "cell_type": "markdown",
   "metadata": {},
   "source": [
    "### Example Output:\n",
    "```python\n",
    "{'label': 'POSITIVE', 'score': 0.9994}\n",
    "```\n",
    "\n",
    "This shows BERT (fine-tuned model) successfully classifies the text as **positive**."
   ]
  },
  {
   "cell_type": "markdown",
   "metadata": {},
   "source": [
    "## Summary\n",
    "- BERT is a Transformer-based model that provides **context-aware embeddings**.\n",
    "- Tokenizer converts text → input IDs & attention masks.\n",
    "- Embeddings can be used for downstream NLP tasks.\n",
    "- Hugging Face makes BERT easy to use for tasks like **sentiment analysis**.\n",
    "\n",
    "👉 Next: Explore **fine-tuning BERT** on a custom dataset."
   ]
  }
 ],
 "metadata": {
  "kernelspec": {
   "display_name": "Python 3",
   "language": "python",
   "name": "python3"
  },
  "language_info": {
   "name": "python",
   "version": "3.10"
  }
 },
 "nbformat": 4,
 "nbformat_minor": 5
}
