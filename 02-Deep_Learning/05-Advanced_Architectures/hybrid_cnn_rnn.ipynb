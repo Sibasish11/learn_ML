{
 "cells": [
  {
   "cell_type": "markdown",
   "metadata": {},
   "source": [
    "# Hybrid CNN-RNN Model\n",
    "\n",
    "Hybrid models combine **Convolutional Neural Networks (CNNs)** and **Recurrent Neural Networks (RNNs)**.\n",
    "\n",
    "## Why Hybrid?\n",
    "- CNNs are good at extracting **local spatial features** (e.g., from images, word embeddings).\n",
    "- RNNs (LSTMs/GRUs) capture **temporal/sequential dependencies**.\n",
    "- A hybrid model is useful in tasks like:\n",
    "  - **Video classification** (frames → CNN → sequence → RNN)\n",
    "  - **Image captioning** (CNN for features + RNN for sentence generation)\n",
    "  - **Text classification** (CNN for n-gram features + RNN for context)"
   ]
  },
  {
   "cell_type": "markdown",
   "metadata": {},
   "source": [
    "## 1. Import Libraries"
   ]
  },
  {
   "cell_type": "code",
   "execution_count": 1,
   "metadata": {},
   "outputs": [],
   "source": [
    "import torch\n",
    "import torch.nn as nn\n",
    "import torch.optim as optim"
   ]
  },
  {
   "cell_type": "markdown",
   "metadata": {},
   "source": [
    "## 2. Define Hybrid CNN-RNN Model"
   ]
  },
  {
   "cell_type": "code",
   "execution_count": 2,
   "metadata": {},
   "outputs": [],
   "source": [
    "class CNN_RNN_Model(nn.Module):\n",
    "    def __init__(self, vocab_size, embed_size, num_classes, hidden_size, num_layers):\n",
    "        super(CNN_RNN_Model, self).__init__()\n",
    "        \n",
    "        # Embedding Layer\n",
    "        self.embedding = nn.Embedding(vocab_size, embed_size)\n",
    "        \n",
    "        # CNN Layer\n",
    "        self.conv1 = nn.Conv1d(in_channels=embed_size, out_channels=128, kernel_size=5)\n",
    "        self.relu = nn.ReLU()\n",
    "        self.pool = nn.MaxPool1d(kernel_size=2)\n",
    "        \n",
    "        # RNN Layer (LSTM)\n",
    "        self.lstm = nn.LSTM(input_size=128, hidden_size=hidden_size, num_layers=num_layers, batch_first=True)\n",
    "        \n",
    "        # Fully connected output layer\n",
    "        self.fc = nn.Linear(hidden_size, num_classes)\n",
    "        \n",
    "    def forward(self, x):\n",
    "        x = self.embedding(x)       # (batch, seq_len, embed_size)\n",
    "        x = x.permute(0, 2, 1)      # (batch, embed_size, seq_len)\n",
    "        x = self.conv1(x)\n",
    "        x = self.relu(x)\n",
    "        x = self.pool(x)\n",
    "        \n",
    "        # Prepare for LSTM\n",
    "        x = x.permute(0, 2, 1)      # (batch, seq_len, features)\n",
    "        out, _ = self.lstm(x)\n",
    "        out = out[:, -1, :]         # Last time step\n",
    "        out = self.fc(out)\n",
    "        return out"
   ]
  },
  {
   "cell_type": "markdown",
   "metadata": {},
   "source": [
    "## 3. Initialize Model"
   ]
  },
  {
   "cell_type": "code",
   "execution_count": 3,
   "metadata": {},
   "outputs": [],
   "source": [
    "vocab_size = 5000   # example vocab size\n",
    "embed_size = 100\n",
    "num_classes = 2     # e.g., positive/negative sentiment\n",
    "hidden_size = 128\n",
    "num_layers = 2\n",
    "\n",
    "model = CNN_RNN_Model(vocab_size, embed_size, num_classes, hidden_size, num_layers)\n",
    "print(model)"
   ]
  },
  {
   "cell_type": "markdown",
   "metadata": {},
   "source": [
    "## 4. Training Setup (Example)\n",
    "- Loss: CrossEntropyLoss\n",
    "- Optimizer: Adam"
   ]
  },
  {
   "cell_type": "code",
   "execution_count": 4,
   "metadata": {},
   "outputs": [],
   "source": [
    "criterion = nn.CrossEntropyLoss()\n",
    "optimizer = optim.Adam(model.parameters(), lr=0.001)"
   ]
  },
  {
   "cell_type": "markdown",
   "metadata": {},
   "source": [
    "## 5. Example Forward Pass"
   ]
  },
  {
   "cell_type": "code",
   "execution_count": 5,
   "metadata": {},
   "outputs": [],
   "source": [
    "dummy_input = torch.randint(0, vocab_size, (8, 50))  # (batch=8, seq_len=50)\n",
    "output = model(dummy_input)\n",
    "print(output.shape)  # (8, num_classes)"
   ]
  },
  {
   "cell_type": "markdown",
   "metadata": {},
   "source": [
    "### Expected Output:\n",
    "```\n",
    "torch.Size([8, 2])\n",
    "```\n",
    "This means for each of the 8 input sequences, the model predicts 2 class probabilities (binary classification)."
   ]
  },
  {
   "cell_type": "markdown",
   "metadata": {},
   "source": [
    "## Summary\n",
    "- CNN extracts local features (like n-grams).\n",
    "- LSTM captures sequential dependencies.\n",
    "- The hybrid model is powerful for **text and video tasks**.\n",
    "\n",
    "Try training it on **sentiment analysis** or **video frame sequence data**."
   ]
  }
 ],
 "metadata": {
  "kernelspec": {
   "display_name": "Python 3",
   "language": "python",
   "name": "python3"
  },
  "language_info": {
   "name": "python",
   "version": "3.10"
  }
 },
 "nbformat": 4,
 "nbformat_minor": 5
}
