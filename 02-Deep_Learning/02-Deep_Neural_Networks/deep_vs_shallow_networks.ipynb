{
 "cells": [
  {
   "cell_type": "markdown",
   "metadata": {},
   "source": [
    "# Deep vs Shallow Networks\n",
    "\n",
    "Neural networks can be broadly categorized as:\n",
    "- **Shallow Networks**: Only 1 or 2 hidden layers.\n",
    "- **Deep Networks**: Many hidden layers (can be dozens or even hundreds).\n",
    "\n",
    "### Key Differences\n",
    "1. **Representation Power**:\n",
    "   - Shallow networks can approximate simple functions.\n",
    "   - Deep networks capture complex features through multiple transformations.\n",
    "\n",
    "2. **Training Time**:\n",
    "   - Shallow = faster to train, fewer parameters.\n",
    "   - Deep = slower but more powerful.\n",
    "\n",
    "3. **Applications**:\n",
    "   - Shallow = simple tasks (basic classification, regression).\n",
    "   - Deep = advanced tasks (image recognition, NLP, speech)."
   ]
  },
  {
   "cell_type": "code",
   "execution_count": 1,
   "metadata": {},
   "outputs": [],
   "source": [
    "import tensorflow as tf\n",
    "from tensorflow.keras import Sequential\n",
    "from tensorflow.keras.layers import Dense\n",
    "\n",
    "# Example: Shallow network (1 hidden layer)\n",
    "shallow_model = Sequential([\n",
    "    Dense(16, activation='relu', input_shape=(20,)),\n",
    "    Dense(1, activation='sigmoid')\n",
    "])\n",
    "\n",
    "# Example: Deep network (multiple hidden layers)\n",
    "deep_model = Sequential([\n",
    "    Dense(64, activation='relu', input_shape=(20,)),\n",
    "    Dense(64, activation='relu'),\n",
    "    Dense(32, activation='relu'),\n",
    "    Dense(16, activation='relu'),\n",
    "    Dense(1, activation='sigmoid')\n",
    "])"
   ]
  },
  {
   "cell_type": "code",
   "execution_count": 2,
   "metadata": {},
   "outputs": [
    {
     "name": "stdout",
     "output_type": "stream",
     "text": [
      "Shallow model summary:\n",
      "Model: \"sequential\"\n",
      "_________________________________________________________________\n",
      " Layer (type)                Output Shape              Param #   \n",
      "=================================================================\n",
      " dense (Dense)               (None, 16)                336       \n",
      " dense_1 (Dense)             (None, 1)                 17        \n",
      "=================================================================\n",
      "Total params: 353\n",
      "Trainable params: 353\n",
      "Non-trainable params: 0\n",
      "_________________________________________________________________\n",
      "\n",
      "Deep model summary:\n",
      "Model: \"sequential_1\"\n",
      "_________________________________________________________________\n",
      " Layer (type)                Output Shape              Param #   \n",
      "=================================================================\n",
      " dense_2 (Dense)             (None, 64)                1344      \n",
      " dense_3 (Dense)             (None, 64)                4160      \n",
      " dense_4 (Dense)             (None, 32)                2080      \n",
      " dense_5 (Dense)             (None, 16)                528       \n",
      " dense_6 (Dense)             (None, 1)                 17        \n",
      "=================================================================\n",
      "Total params: 8,129\n",
      "Trainable params: 8,129\n",
      "Non-trainable params: 0\n",
      "_________________________________________________________________\n"
     ]
    }
   ],
   "source": [
    "print(\"Shallow model summary:\")\n",
    "shallow_model.summary()\n",
    "\n",
    "print(\"\\nDeep model summary:\")\n",
    "deep_model.summary()"
   ]
  },
  {
   "cell_type": "markdown",
   "metadata": {},
   "source": [
    "✅ **Summary**:\n",
    "- Shallow networks are easier to train but limited in complexity.\n",
    "- Deep networks are harder to train but much more expressive.\n",
    "- In practice, **deep networks outperform shallow ones** for large-scale problems."
   ]
  }
 ],
 "metadata": {
  "kernelspec": {
   "display_name": "Python 3",
   "language": "python",
   "name": "python3"
  },
  "language_info": {
   "name": "python",
   "version": "3.8"
  }
 },
 "nbformat": 4,
 "nbformat_minor": 2
}

