{
 "cells": [
  {
   "cell_type": "markdown",
   "metadata": {},
   "source": [
    "# Weight Initialization\n",
    "\n",
    "In deep learning, weight initialization plays a crucial role in training neural networks efficiently.\n",
    "- Poor initialization can cause vanishing or exploding gradients.\n",
    "- Proper initialization helps faster convergence and better accuracy.\n",
    "\n",
    "## Types of Initialization\n",
    "1. **Zeros Initialization**: All weights = 0 (not recommended, causes symmetry).\n",
    "2. **Random Initialization**: Small random values.\n",
    "3. **Xavier Initialization**: Keeps variance across layers stable.\n",
    "4. **He Initialization**: Better for ReLU activations."
   ]
  },
  {
   "cell_type": "code",
   "execution_count": 1,
   "metadata": {},
   "outputs": [],
   "source": [
    "import numpy as np\n",
    "\n",
    "# Different initialization techniques\n",
    "def zeros_init(shape):\n",
    "    return np.zeros(shape)\n",
    "\n",
    "def random_init(shape):\n",
    "    return np.random.randn(*shape) * 0.01\n",
    "\n",
    "def xavier_init(shape):\n",
    "    return np.random.randn(*shape) * np.sqrt(1.0 / shape[0])\n",
    "\n",
    "def he_init(shape):\n",
    "    return np.random.randn(*shape) * np.sqrt(2.0 / shape[0])\n"
   ]
  },
  {
   "cell_type": "code",
   "execution_count": 2,
   "metadata": {},
   "outputs": [
    {
     "name": "stdout",
     "output_type": "stream",
     "text": [
      "Zeros Init:\n [[0. 0. 0.]\n [0. 0. 0.]]\n\n",
      "Random Init:\n [[-0.0016  0.0032 -0.0047]\n [-0.0082  0.0111  0.0009]]\n\n",
      "Xavier Init:\n [[-0.4351  0.2528 -0.0141]\n [ 0.4372  0.4054  0.6122]]\n\n",
      "He Init:\n [[-0.7402 -0.1621 -0.4513]\n [-0.3075 -0.2540  0.5437]]\n"
     ]
    }
   ],
   "source": [
    "shape = (2, 3)\n",
    "print(\"Zeros Init:\\n\", zeros_init(shape), \"\\n\")\n",
    "print(\"Random Init:\\n\", random_init(shape), \"\\n\")\n",
    "print(\"Xavier Init:\\n\", xavier_init(shape), \"\\n\")\n",
    "print(\"He Init:\\n\", he_init(shape))"
   ]
  },
  {
   "cell_type": "markdown",
   "metadata": {},
   "source": [
    "✅ **Summary:**\n",
    "- **Zeros init** fails because all neurons learn the same thing.\n",
    "- **Random init** works but may cause slow convergence.\n",
    "- **Xavier init** works well for **tanh/sigmoid** activations.\n",
    "- **He init** is preferred for **ReLU** activations."
   ]
  }
 ],
 "metadata": {
  "kernelspec": {
   "display_name": "Python 3",
   "language": "python",
   "name": "python3"
  },
  "language_info": {
   "name": "python",
   "version": "3.8"
  }
 },
 "nbformat": 4,
 "nbformat_minor": 2
}

