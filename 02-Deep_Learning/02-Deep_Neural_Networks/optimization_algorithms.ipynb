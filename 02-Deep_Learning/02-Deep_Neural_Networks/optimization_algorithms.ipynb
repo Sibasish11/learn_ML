{
 "cells": [
  {
   "cell_type": "markdown",
   "metadata": {},
   "source": [
    "# Optimization Algorithms in Deep Learning\n",
    "\n",
    "In this notebook, we’ll compare some popular **optimization algorithms** used to train neural networks:\n",
    "- **Stochastic Gradient Descent (SGD)**\n",
    "- **SGD with Momentum**\n",
    "- **RMSprop**\n",
    "- **Adam**\n",
    "\n",
    "These optimizers help the model converge faster and avoid local minima."
   ]
  },
  {
   "cell_type": "code",
   "metadata": {},
   "source": [
    "# Import libraries\n",
    "import tensorflow as tf\n",
    "from tensorflow.keras.models import Sequential\n",
    "from tensorflow.keras.layers import Dense, Flatten\n",
    "from tensorflow.keras.datasets import mnist\n",
    "import matplotlib.pyplot as plt\n",
    "\n",
    "print(\"TensorFlow version:\", tf.__version__)"
   ],
   "execution_count": null,
   "outputs": []
  },
  {
   "cell_type": "markdown",
   "metadata": {},
   "source": [
    "## Load and preprocess dataset"
   ]
  },
  {
   "cell_type": "code",
   "metadata": {},
   "source": [
    "(x_train, y_train), (x_test, y_test) = mnist.load_data()\n",
    "x_train, x_test = x_train / 255.0, x_test / 255.0\n",
    "\n",
    "print(\"Training data:\", x_train.shape)\n",
    "print(\"Test data:\", x_test.shape)"
   ],
   "execution_count": null,
   "outputs": []
  },
  {
   "cell_type": "markdown",
   "metadata": {},
   "source": [
    "## Define a function to build the model"
   ]
  },
  {
   "cell_type": "code",
   "metadata": {},
   "source": [
    "def create_model(optimizer):\n",
    "    model = Sequential([\n",
    "        Flatten(input_shape=(28,28)),\n",
    "        Dense(128, activation='relu'),\n",
    "        Dense(10, activation='softmax')\n",
    "    ])\n",
    "    model.compile(optimizer=optimizer,\n",
    "                  loss='sparse_categorical_crossentropy',\n",
    "                  metrics=['accuracy'])\n",
    "    return model"
   ],
   "execution_count": null,
   "outputs": []
  },
  {
   "cell_type": "markdown",
   "metadata": {},
   "source": [
    "## Train models with different optimizers"
   ]
  },
  {
   "cell_type": "code",
   "metadata": {},
   "source": [
    "optimizers = {\n",
    "    \"SGD\": tf.keras.optimizers.SGD(learning_rate=0.01),\n",
    "    \"SGD+Momentum\": tf.keras.optimizers.SGD(learning_rate=0.01, momentum=0.9),\n",
    "    \"RMSprop\": tf.keras.optimizers.RMSprop(learning_rate=0.001),\n",
    "    \"Adam\": tf.keras.optimizers.Adam(learning_rate=0.001)\n",
    "}\n",
    "\n",
    "histories = {}\n",
    "for name, opt in optimizers.items():\n",
    "    print(f\"\\nTraining with {name}...\")\n",
    "    model = create_model(opt)\n",
    "    history = model.fit(x_train, y_train, epochs=5, batch_size=32,\n",
    "                        validation_data=(x_test, y_test), verbose=0)\n",
    "    histories[name] = history"
   ],
   "execution_count": null,
   "outputs": []
  },
  {
   "cell_type": "markdown",
   "metadata": {},
   "source": [
    "## Plot accuracy comparison"
   ]
  },
  {
   "cell_type": "code",
   "metadata": {},
   "source": [
    "plt.figure(figsize=(8,5))\n",
    "for name, history in histories.items():\n",
    "    plt.plot(history.history['val_accuracy'], label=name)\n",
    "\n",
    "plt.title('Validation Accuracy with Different Optimizers')\n",
    "plt.xlabel('Epochs')\n",
    "plt.ylabel('Accuracy')\n",
    "plt.legend()\n",
    "plt.show()"
   ],
   "execution_count": null,
   "outputs": []
  },
  {
   "cell_type": "markdown",
   "metadata": {},
   "source": [
    "## Key Takeaways\n",
    "- **SGD**: Simple but slower convergence.\n",
    "- **SGD+Momentum**: Helps escape local minima, faster learning.\n",
    "- **RMSprop**: Adaptive learning rate, good for RNNs.\n",
    "- **Adam**: Combines RMSprop + Momentum, widely used default optimizer."
   ]
  }
 ],
 "metadata": {
  "kernelspec": {
   "display_name": "Python 3",
   "language": "python",
   "name": "python3"
  },
  "language_info": {
   "name": "python",
   "version": "3.10"
  }
 },
 "nbformat": 4,
 "nbformat_minor": 5
}
