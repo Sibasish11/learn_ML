{
 "cells": [
  {
   "cell_type": "markdown",
   "metadata": {},
   "source": [
    "# Many-to-Many LSTM Example\n",
    "\n",
    "In this notebook, we’ll implement a **many-to-many LSTM model**.\n",
    "\n",
    "- **Many-to-Many** means:\n",
    "  - Input: sequence of data\n",
    "  - Output: sequence of predictions (same length or different length)\n",
    "\n",
    "Examples:\n",
    "- Machine Translation\n",
    "- Named Entity Recognition\n",
    "- Video classification per frame"
   ]
  },
  {
   "cell_type": "code",
   "execution_count": null,
   "metadata": {},
   "outputs": [],
   "source": [
    "import numpy as np\n",
    "import tensorflow as tf\n",
    "from tensorflow.keras.models import Sequential\n",
    "from tensorflow.keras.layers import LSTM, Dense, TimeDistributed\n",
    "\n",
    "print(\"TensorFlow version:\", tf.__version__)"
   ]
  },
  {
   "cell_type": "markdown",
   "metadata": {},
   "source": [
    "## Generate Toy Sequence Dataset\n",
    "We’ll create sequences of numbers and predict their doubled values (simple demo)."
   ]
  },
  {
   "cell_type": "code",
   "execution_count": null,
   "metadata": {},
   "outputs": [],
   "source": [
    "def generate_sequences(n_samples, timesteps, features):\n",
    "    X = np.random.rand(n_samples, timesteps, features)\n",
    "    y = X * 2  # target is just double of input\n",
    "    return X, y\n",
    "\n",
    "n_samples, timesteps, features = 1000, 5, 1\n",
    "X, y = generate_sequences(n_samples, timesteps, features)\n",
    "print(\"X shape:\", X.shape, \"y shape:\", y.shape)"
   ]
  },
  {
   "cell_type": "markdown",
   "metadata": {},
   "source": [
    "## Build Many-to-Many LSTM Model"
   ]
  },
  {
   "cell_type": "code",
   "execution_count": null,
   "metadata": {},
   "outputs": [],
   "source": [
    "model = Sequential([\n",
    "    LSTM(64, return_sequences=True, input_shape=(timesteps, features)),\n",
    "    TimeDistributed(Dense(1))\n",
    "])\n",
    "\n",
    "model.compile(optimizer='adam', loss='mse')\n",
    "model.summary()"
   ]
  },
  {
   "cell_type": "markdown",
   "metadata": {},
   "source": [
    "## Train Model"
   ]
  },
  {
   "cell_type": "code",
   "execution_count": null,
   "metadata": {},
   "outputs": [],
   "source": [
    "history = model.fit(X, y, epochs=10, batch_size=32, validation_split=0.2, verbose=1)"
   ]
  },
  {
   "cell_type": "markdown",
   "metadata": {},
   "source": [
    "## Evaluate on Sample Input"
   ]
  },
  {
   "cell_type": "code",
   "execution_count": null,
   "metadata": {},
   "outputs": [],
   "source": [
    "sample_input = np.array([[[0.1],[0.2],[0.3],[0.4],[0.5]]])\n",
    "pred = model.predict(sample_input)\n",
    "print(\"Input sequence:\", sample_input.flatten())\n",
    "print(\"Predicted doubled sequence:\", pred.flatten())"
   ]
  }
 ],
 "metadata": {
  "kernelspec": {
   "display_name": "Python 3",
   "language": "python",
   "name": "python3"
  },
  "language_info": {
   "name": "python",
   "version": "3.10"
  }
 },
 "nbformat": 4,
 "nbformat_minor": 5
}
