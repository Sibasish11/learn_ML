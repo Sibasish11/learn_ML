{
 "cells": [
  {
   "cell_type": "markdown",
   "metadata": {},
   "source": [
    "# Introduction to Deep Learning\n",
    "\n",
    "Deep Learning (DL) is a subset of Machine Learning that uses **Artificial Neural Networks** with multiple layers to learn complex patterns from data. \n",
    "It powers applications like image recognition, natural language processing, and speech assistants."
   ]
  },
  {
   "cell_type": "markdown",
   "metadata": {},
   "source": [
    "## Key Concepts of Deep Learning\n",
    "\n",
    "- **Artificial Neural Networks (ANNs)**: Inspired by biological neurons, consist of layers of nodes.  \n",
    "- **Layers**: Input, hidden, and output layers.  \n",
    "- **Weights & Biases**: Parameters learned during training.  \n",
    "- **Activation Functions**: Introduce non-linearity (ReLU, Sigmoid, Tanh).  \n",
    "- **Forward Pass**: Passing inputs through the network to get predictions.  \n",
    "- **Backpropagation**: Updating weights using gradient descent based on error.  "
   ]
  },
  {
   "cell_type": "markdown",
   "metadata": {},
   "source": [
    "## Deep Learning vs Traditional Machine Learning\n",
    "\n",
    "- Traditional ML (e.g., SVMs, Decision Trees) works well for small to medium datasets.  \n",
    "- Deep Learning shines with **large datasets** and **complex data** (images, text, audio).  \n",
    "- DL automates **feature extraction**, while ML often requires manual feature engineering.  "
   ]
  },
  {
   "cell_type": "markdown",
   "metadata": {},
   "source": [
    "## Applications of Deep Learning\n",
    "\n",
    "- **Computer Vision**: Image classification, object detection, facial recognition.  \n",
    "- **Natural Language Processing (NLP)**: Translation, chatbots, sentiment analysis.  \n",
    "- **Speech Recognition**: Voice assistants, transcription.  \n",
    "- **Autonomous Systems**: Self-driving cars, robotics.  "
   ]
  },
  {
   "cell_type": "code",
   "execution_count": null,
   "metadata": {},
   "outputs": [],
   "source": [
    "# Basic example: A simple neural network using Keras\n",
    "\n",
    "import tensorflow as tf\n",
    "from tensorflow.keras.models import Sequential\n",
    "from tensorflow.keras.layers import Dense\n",
    "import numpy as np\n",
    "\n",
    "# Dummy dataset: XOR problem\n",
    "X = np.array([[0,0],[0,1],[1,0],[1,1]])\n",
    "y = np.array([0,1,1,0])\n",
    "\n",
    "# Define a simple ANN\n",
    "model = Sequential([\n",
    "    Dense(4, input_dim=2, activation='relu'),\n",
    "    Dense(1, activation='sigmoid')\n",
    "])\n",
    "\n",
    "model.compile(optimizer='adam', loss='binary_crossentropy', metrics=['accuracy'])\n",
    "\n",
    "# Train\n",
    "model.fit(X, y, epochs=200, verbose=0)\n",
    "\n",
    "# Evaluate\n",
    "loss, acc = model.evaluate(X, y, verbose=0)\n",
    "print(f\"Accuracy: {acc*100:.2f}%\")"
   ]
  },
  {
   "cell_type": "markdown",
   "metadata": {},
   "source": [
    "## Key Takeaways\n",
    "\n",
    "- Deep Learning relies on **neural networks** with many layers.  \n",
    "- It outperforms traditional ML in tasks with **large data** and **complex patterns**.  \n",
    "- Frameworks like **TensorFlow** and **PyTorch** make it easy to implement.  "
   ]
  }
 ],
 "metadata": {
  "kernelspec": {
   "display_name": "Python 3",
   "language": "python",
   "name": "python3"
  },
  "language_info": {
   "name": "python",
   "version": "3.9"
  }
 },
 "nbformat": 4,
 "nbformat_minor": 5
}
