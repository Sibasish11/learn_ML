{
 "cells": [
  {
   "cell_type": "markdown",
   "metadata": {},
   "source": [
    "# Image Transformations\n",
    "\n",
    "### Objective\n",
    "Learn geometric transformations such as translation, rotation, scaling, flipping, and affine/perspective transformations using OpenCV."
   ]
  },
  {
   "cell_type": "markdown",
   "metadata": {},
   "source": [
    "## 🧱 1. Introduction\n",
    "\n",
    "Image transformations are essential for:\n",
    "- Data augmentation\n",
    "- Image registration\n",
    "- Preprocessing for deep learning models\n",
    "- Geometric corrections (e.g., rotation, scaling, cropping)\n",
    "\n",
    "OpenCV provides several built-in functions for these transformations."
   ]
  },
  {
   "cell_type": "code",
   "execution_count": null,
   "metadata": {},
   "outputs": [],
   "source": [
    "import cv2\n",
    "import numpy as np\n",
    "from matplotlib import pyplot as plt\n",
    "\n",
    "# Read image\n",
    "img = cv2.imread('sample.jpg')\n",
    "img_rgb = cv2.cvtColor(img, cv2.COLOR_BGR2RGB)\n",
    "\n",
    "plt.imshow(img_rgb)\n",
    "plt.title('Original Image')\n",
    "plt.axis('off')\n",
    "plt.show()"
   ]
  },
  {
   "cell_type": "markdown",
   "metadata": {},
   "source": [
    "## 🚚 2. Translation (Shifting the Image)\n",
    "\n",
    "Translation moves an image from one location to another.\n",
    "\n",
    "**Formula:**  \n",
    "\\[ M = \\begin{bmatrix} 1 & 0 & t_x \\\\ 0 & 1 & t_y \\end{bmatrix} \\]\n",
    "\n",
    "- `t_x` → shift along x-axis  \n",
    "- `t_y` → shift along y-axis"
   ]
  },
  {
   "cell_type": "code",
   "execution_count": null,
   "metadata": {},
   "outputs": [],
   "source": [
    "rows, cols = img.shape[:2]\n",
    "M = np.float32([[1, 0, 100], [0, 1, 50]])  # shift right by 100, down by 50\n",
    "translated = cv2.warpAffine(img, M, (cols, rows))\n",
    "\n",
    "plt.imshow(cv2.cvtColor(translated, cv2.COLOR_BGR2RGB))\n",
    "plt.title('Translated Image')\n",
    "plt.axis('off')\n",
    "plt.show()"
   ]
  },
  {
   "cell_type": "markdown",
   "metadata": {},
   "source": [
    "## 🔄 3. Rotation\n",
    "\n",
    "Rotation is used to turn the image around its center or any arbitrary point.\n",
    "\n",
    "**Formula:**  \n",
    "\\[ M = cv2.getRotationMatrix2D(center, angle, scale) \\]"
   ]
  },
  {
   "cell_type": "code",
   "execution_count": null,
   "metadata": {},
   "outputs": [],
   "source": [
    "M = cv2.getRotationMatrix2D((cols/2, rows/2), 45, 1)\n",
    "rotated = cv2.warpAffine(img, M, (cols, rows))\n",
    "\n",
    "plt.imshow(cv2.cvtColor(rotated, cv2.COLOR_BGR2RGB))\n",
    "plt.title('Rotated Image (45°)')\n",
    "plt.axis('off')\n",
    "plt.show()"
   ]
  },
  {
   "cell_type": "markdown",
   "metadata": {},
   "source": [
    "## 🔍 4. Scaling (Resizing)\n",
    "\n",
    "Used to increase or decrease image dimensions.\n",
    "\n",
    "**Functions:**\n",
    "- `cv2.resize()`\n",
    "- Interpolation methods: `cv2.INTER_LINEAR`, `cv2.INTER_AREA`, `cv2.INTER_CUBIC`"
   ]
  },
  {
   "cell_type": "code",
   "execution_count": null,
   "metadata": {},
   "outputs": [],
   "source": [
    "scaled_up = cv2.resize(img, None, fx=1.5, fy=1.5, interpolation=cv2.INTER_CUBIC)\n",
    "scaled_down = cv2.resize(img, None, fx=0.5, fy=0.5, interpolation=cv2.INTER_AREA)\n",
    "\n",
    "plt.figure(figsize=(10,4))\n",
    "plt.subplot(1,2,1); plt.imshow(cv2.cvtColor(scaled_up, cv2.COLOR_BGR2RGB)); plt.title('Scaled Up')\n",
    "plt.subplot(1,2,2); plt.imshow(cv2.cvtColor(scaled_down, cv2.COLOR_BGR2RGB)); plt.title('Scaled Down')\n",
    "plt.show()"
   ]
  },
  {
   "cell_type": "markdown",
   "metadata": {},
   "source": [
    "## ↔️ 5. Flipping\n",
    "\n",
    "Flipping creates mirror images along different axes.\n",
    "\n",
    "| Flip Code | Description |\n",
    "|------------|--------------|\n",
    "| 0 | Vertical flip |\n",
    "| 1 | Horizontal flip |\n",
    "| -1 | Both axes |"
   ]
  },
  {
   "cell_type": "code",
   "execution_count": null,
   "metadata": {},
   "outputs": [],
   "source": [
    "flip_h = cv2.flip(img, 1)\n",
    "flip_v = cv2.flip(img, 0)\n",
    "flip_both = cv2.flip(img, -1)\n",
    "\n",
    "plt.figure(figsize=(12,4))\n",
    "plt.subplot(1,3,1); plt.imshow(cv2.cvtColor(flip_h, cv2.COLOR_BGR2RGB)); plt.title('Horizontal Flip')\n",
    "plt.subplot(1,3,2); plt.imshow(cv2.cvtColor(flip_v, cv2.COLOR_BGR2RGB)); plt.title('Vertical Flip')\n",
    "plt.subplot(1,3,3); plt.imshow(cv2.cvtColor(flip_both, cv2.COLOR_BGR2RGB)); plt.title('Both Axes Flip')\n",
    "plt.show()"
   ]
  },
  {
   "cell_type": "markdown",
   "metadata": {},
   "source": [
    "## 🔺 6. Affine Transformation\n",
    "\n",
    "Affine transformation keeps parallel lines parallel but may change angles and lengths.\n",
    "\n",
    "**Formula:**  \n",
    "\\[ M = cv2.getAffineTransform(pts1, pts2) \\]"
   ]
  },
  {
   "cell_type": "code",
   "execution_count": null,
   "metadata": {},
   "outputs": [],
   "source": [
    "pts1 = np.float32([[50, 50], [200, 50], [50, 200]])\n",
    "pts2 = np.float32([[10, 100], [200, 50], [100, 250]])\n",
    "\n",
    "M = cv2.getAffineTransform(pts1, pts2)\n",
    "affine = cv2.warpAffine(img, M, (cols, rows))\n",
    "\n",
    "plt.imshow(cv2.cvtColor(affine, cv2.COLOR_BGR2RGB))\n",
    "plt.title('Affine Transformed Image')\n",
    "plt.axis('off')\n",
    "plt.show()"
   ]
  },
  {
   "cell_type": "markdown",
   "metadata": {},
   "source": [
    "## 🧭 7. Perspective Transformation\n",
    "\n",
    "Perspective transformation changes the viewpoint (used in document scanning, 3D effects).\n",
    "\n",
    "**Formula:**  \n",
    "\\[ M = cv2.getPerspectiveTransform(pts1, pts2) \\]"
   ]
  },
  {
   "cell_type": "code",
   "execution_count": null,
   "metadata": {},
   "outputs": [],
   "source": [
    "pts1 = np.float32([[56,65], [368,52], [28,387], [389,390]])\n",
    "pts2 = np.float32([[0,0], [300,0], [0,300], [300,300]])\n",
    "\n",
    "M = cv2.getPerspectiveTransform(pts1, pts2)\n",
    "perspective = cv2.warpPerspective(img, M, (300,300))\n",
    "\n",
    "plt.imshow(cv2.cvtColor(perspective, cv2.COLOR_BGR2RGB))\n",
    "plt.title('Perspective Transform')\n",
    "plt.axis('off')\n",
    "plt.show()"
   ]
  },
  {
   "cell_type": "markdown",
   "metadata": {},
   "source": [
    "## 🧠 8. Key Takeaways\n",
    "- **Translation:** Move image position.\n",
    "- **Rotation:** Rotate around a point.\n",
    "- **Scaling:** Resize image.\n",
    "- **Flipping:** Mirror effect.\n",
    "- **Affine/Perspective:** Transform geometry or viewpoint.\n",
    "\n",
    "➡️ These transformations are essential for **data augmentation** in deep learning."
   ]
  },
  {
   "cell_type": "markdown",
   "metadata": {},
   "source": [
    "## 🧪 9. Exercises\n",
    "1. Rotate an image by 90° and 180°.\n",
    "2. Flip only the top half of an image.\n",
    "3. Create a function that applies random rotation, scaling, and translation (data augmentation)."
   ]
  }
 ],
 "metadata": {
  "kernelspec": {
   "display_name": "Python 3",
   "language": "python",
   "name": "python3"
  },
  "language_info": {
   "name": "python",
   "version": "3.10"
  }
 },
 "nbformat": 4,
 "nbformat_minor": 5
}
