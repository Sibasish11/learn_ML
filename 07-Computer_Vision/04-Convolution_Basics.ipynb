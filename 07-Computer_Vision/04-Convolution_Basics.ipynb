{
 "cells": [
  {
   "cell_type": "markdown",
   "metadata": {},
   "source": [
    "# Convolution Basics\n",
    "\n",
    "In this notebook, we'll explore the concept of **convolution**, a fundamental operation in **Computer Vision** and **Convolutional Neural Networks (CNNs)**. We'll see how convolution works, implement it from scratch, and visualize how filters detect edges and patterns."
   ]
  },
  {
   "cell_type": "markdown",
   "metadata": {},
   "source": [
    "## 🔍 What is Convolution?\n",
    "Convolution is a mathematical operation used to extract **features** from an image. It involves sliding a small **filter (kernel)** over the input image and computing a **dot product** between the filter and the image region.\n",
    "\n",
    "### Example:\n",
    "- Input: 5×5 image\n",
    "- Kernel: 3×3 filter\n",
    "- Output: Feature map of reduced size\n",
    "\n",
    "The kernel detects patterns like **edges, corners, and textures** depending on its weights."
   ]
  },
  {
   "cell_type": "code",
   "execution_count": null,
   "metadata": {},
   "outputs": [],
   "source": [
    "import numpy as np\n",
    "import matplotlib.pyplot as plt\n",
    "from scipy import ndimage\n",
    "\n",
    "# Create a simple 5x5 grayscale image\n",
    "image = np.array([[10, 10, 10, 10, 10],\n",
    "                  [10, 50, 50, 50, 10],\n",
    "                  [10, 50, 100, 50, 10],\n",
    "                  [10, 50, 50, 50, 10],\n",
    "                  [10, 10, 10, 10, 10]])\n",
    "\n",
    "# Define a simple edge detection kernel\n",
    "kernel = np.array([[-1, -1, -1],\n",
    "                   [-1,  8, -1],\n",
    "                   [-1, -1, -1]])\n",
    "\n",
    "# Apply convolution\n",
    "conv_output = ndimage.convolve(image, kernel, mode='constant', cval=0.0)\n",
    "\n",
    "# Display the result\n",
    "plt.figure(figsize=(10,4))\n",
    "plt.subplot(1,2,1)\n",
    "plt.title('Original Image')\n",
    "plt.imshow(image, cmap='gray')\n",
    "plt.subplot(1,2,2)\n",
    "plt.title('After Convolution (Edge Detection)')\n",
    "plt.imshow(conv_output, cmap='gray')\n",
    "plt.show()"
   ]
  },
  {
   "cell_type": "markdown",
   "metadata": {},
   "source": [
    "## ⚙️ Implementing Convolution from Scratch\n",
    "Let’s manually perform convolution to better understand how it works."
   ]
  },
  {
   "cell_type": "code",
   "execution_count": null,
   "metadata": {},
   "outputs": [],
   "source": [
    "def convolve2d(image, kernel):\n",
    "    kernel = np.flipud(np.fliplr(kernel))  # Flip kernel\n",
    "    output = np.zeros_like(image)\n",
    "    pad = kernel.shape[0] // 2\n",
    "    padded_image = np.pad(image, pad, mode='constant', constant_values=0)\n",
    "    \n",
    "    for i in range(image.shape[0]):\n",
    "        for j in range(image.shape[1]):\n",
    "            region = padded_image[i:i+kernel.shape[0], j:j+kernel.shape[1]]\n",
    "            output[i, j] = np.sum(region * kernel)\n",
    "    return output\n",
    "\n",
    "custom_conv = convolve2d(image, kernel)\n",
    "\n",
    "plt.figure(figsize=(5,5))\n",
    "plt.title('Manual Convolution Output')\n",
    "plt.imshow(custom_conv, cmap='gray')\n",
    "plt.show()"
   ]
  },
  {
   "cell_type": "markdown",
   "metadata": {},
   "source": [
    "## 📘 Common Filters\n",
    "| Filter Type | Kernel Example |\n",
    "|--------------|----------------|\n",
    "| Edge Detection | `[[-1, -1, -1], [-1, 8, -1], [-1, -1, -1]]` |\n",
    "| Blur | `[[1,1,1], [1,1,1], [1,1,1]] / 9` |\n",
    "| Sharpen | `[[0,-1,0], [-1,5,-1], [0,-1,0]]` |\n",
    "| Emboss | `[[-2,-1,0], [-1,1,1], [0,1,2]]` |\n",
    "\n",
    "Each of these filters extracts a unique visual pattern from an image."
   ]
  },
  {
   "cell_type": "code",
   "execution_count": null,
   "metadata": {},
   "outputs": [],
   "source": [
    "filters = {\n",
    "    'Blur': np.ones((3,3))/9,\n",
    "    'Sharpen': np.array([[0,-1,0],[-1,5,-1],[0,-1,0]]),\n",
    "    'Edge Detection': np.array([[-1,-1,-1],[-1,8,-1],[-1,-1,-1]])\n",
    "}\n",
    "\n",
    "plt.figure(figsize=(10,3))\n",
    "for i, (name, f) in enumerate(filters.items()):\n",
    "    plt.subplot(1,3,i+1)\n",
    "    result = ndimage.convolve(image, f, mode='constant', cval=0.0)\n",
    "    plt.imshow(result, cmap='gray')\n",
    "    plt.title(name)\n",
    "plt.show()"
   ]
  },
  {
   "cell_type": "markdown",
   "metadata": {},
   "source": [
    "## ✅ Summary\n",
    "- Convolution extracts spatial features like **edges** and **textures**.\n",
    "- Kernels (filters) define what kind of features are detected.\n",
    "- This operation forms the **foundation of CNNs** in Deep Learning.\n",
    "\n",
    "Next Notebook → `05-CNN_Building_Blocks.ipynb` 🧩"
   ]
  }
 ],
 "metadata": {
  "kernelspec": {
   "display_name": "Python 3",
   "language": "python",
   "name": "python3"
  },
  "language_info": {
   "name": "python",
   "version": "3.10"
  }
 },
 "nbformat": 4,
 "nbformat_minor": 2
}
