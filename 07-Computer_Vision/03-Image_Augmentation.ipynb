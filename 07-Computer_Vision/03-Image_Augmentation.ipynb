{
 "cells": [
  {
   "cell_type": "markdown",
   "metadata": {},
   "source": [
    "# Image Augmentation\n",
    "\n",
    "### Objective\n",
    "Learn how to apply data augmentation techniques to increase the diversity of training images without collecting new data."
   ]
  },
  {
   "cell_type": "markdown",
   "metadata": {},
   "source": [
    "## 🧠 1. What is Image Augmentation?\n",
    "\n",
    "Image augmentation artificially increases the size and diversity of the training dataset by applying random transformations such as:\n",
    "- Rotation\n",
    "- Translation\n",
    "- Flipping\n",
    "- Zooming\n",
    "- Brightness/Contrast adjustments\n",
    "- Noise addition\n",
    "\n",
    "This helps in improving **model generalization** and reducing **overfitting**."
   ]
  },
  {
   "cell_type": "code",
   "execution_count": null,
   "metadata": {},
   "outputs": [],
   "source": [
    "import cv2\n",
    "import numpy as np\n",
    "import matplotlib.pyplot as plt\n",
    "\n",
    "# Load sample image\n",
    "img = cv2.imread('sample.jpg')\n",
    "img = cv2.cvtColor(img, cv2.COLOR_BGR2RGB)\n",
    "plt.imshow(img)\n",
    "plt.title('Original Image')\n",
    "plt.axis('off')\n",
    "plt.show()"
   ]
  },
  {
   "cell_type": "markdown",
   "metadata": {},
   "source": [
    "## 🔄 2. Geometric Transformations\n",
    "\n",
    "We can perform rotations, flips, and zooms using OpenCV or libraries like TensorFlow and PyTorch."
   ]
  },
  {
   "cell_type": "code",
   "execution_count": null,
   "metadata": {},
   "outputs": [],
   "source": [
    "# Rotation\n",
    "def rotate_image(image, angle):\n",
    "    (h, w) = image.shape[:2]\n",
    "    M = cv2.getRotationMatrix2D((w // 2, h // 2), angle, 1.0)\n",
    "    return cv2.warpAffine(image, M, (w, h))\n",
    "\n",
    "rotated = rotate_image(img, 45)\n",
    "\n",
    "# Horizontal Flip\n",
    "flipped = cv2.flip(img, 1)\n",
    "\n",
    "# Zoom (Crop and Resize)\n",
    "def zoom_image(image, zoom_factor=1.5):\n",
    "    h, w = image.shape[:2]\n",
    "    nh, nw = int(h / zoom_factor), int(w / zoom_factor)\n",
    "    y1 = (h - nh) // 2\n",
    "    x1 = (w - nw) // 2\n",
    "    cropped = image[y1:y1+nh, x1:x1+nw]\n",
    "    return cv2.resize(cropped, (w, h))\n",
    "\n",
    "zoomed = zoom_image(img)\n",
    "\n",
    "# Display\n",
    "plt.figure(figsize=(12, 4))\n",
    "plt.subplot(1, 3, 1); plt.imshow(rotated); plt.title('Rotated (45°)'); plt.axis('off')\n",
    "plt.subplot(1, 3, 2); plt.imshow(flipped); plt.title('Flipped'); plt.axis('off')\n",
    "plt.subplot(1, 3, 3); plt.imshow(zoomed); plt.title('Zoomed'); plt.axis('off')\n",
    "plt.show()"
   ]
  },
  {
   "cell_type": "markdown",
   "metadata": {},
   "source": [
    "## 💡 3. Color Augmentations\n",
    "\n",
    "These change the color properties of the image to simulate lighting variations."
   ]
  },
  {
   "cell_type": "code",
   "execution_count": null,
   "metadata": {},
   "outputs": [],
   "source": [
    "# Brightness and Contrast adjustment\n",
    "def adjust_brightness_contrast(image, brightness=50, contrast=30):\n",
    "    return cv2.convertScaleAbs(image, alpha=1 + contrast/100, beta=brightness)\n",
    "\n",
    "bright = adjust_brightness_contrast(img, 60, 20)\n",
    "dark = adjust_brightness_contrast(img, -60, -30)\n",
    "\n",
    "# Display\n",
    "plt.figure(figsize=(10,4))\n",
    "plt.subplot(1,2,1); plt.imshow(bright); plt.title('Brighter Image'); plt.axis('off')\n",
    "plt.subplot(1,2,2); plt.imshow(dark); plt.title('Darker Image'); plt.axis('off')\n",
    "plt.show()"
   ]
  },
  {
   "cell_type": "markdown",
   "metadata": {},
   "source": [
    "## 🧃 4. Noise Injection\n",
    "\n",
    "Adding Gaussian noise improves robustness by simulating imperfect data."
   ]
  },
  {
   "cell_type": "code",
   "execution_count": null,
   "metadata": {},
   "outputs": [],
   "source": [
    "def add_noise(image):\n",
    "    noise = np.random.normal(0, 25, image.shape).astype(np.uint8)\n",
    "    noisy = cv2.add(image, noise)\n",
    "    return noisy\n",
    "\n",
    "noisy_img = add_noise(img)\n",
    "\n",
    "plt.imshow(noisy_img)\n",
    "plt.title('Image with Gaussian Noise')\n",
    "plt.axis('off')\n",
    "plt.show()"
   ]
  },
  {
   "cell_type": "markdown",
   "metadata": {},
   "source": [
    "## 🧰 5. Using Keras ImageDataGenerator\n",
    "\n",
    "The easiest way to apply augmentations in deep learning is via **Keras’ ImageDataGenerator**."
   ]
  },
  {
   "cell_type": "code",
   "execution_count": null,
   "metadata": {},
   "outputs": [],
   "source": [
    "from tensorflow.keras.preprocessing.image import ImageDataGenerator, img_to_array, array_to_img\n",
    "\n",
    "datagen = ImageDataGenerator(\n",
    "    rotation_range=40,\n",
    "    width_shift_range=0.2,\n",
    "    height_shift_range=0.2,\n",
    "    shear_range=0.2,\n",
    "    zoom_range=0.2,\n",
    "    horizontal_flip=True,\n",
    "    fill_mode='nearest')\n",
    "\n",
    "x = img_to_array(img)\n",
    "x = x.reshape((1,) + x.shape)\n",
    "\n",
    "plt.figure(figsize=(10, 6))\n",
    "i = 0\n",
    "for batch in datagen.flow(x, batch_size=1):\n",
    "    plt.subplot(2, 3, i+1)\n",
    "    plt.imshow(array_to_img(batch[0]))\n",
    "    plt.axis('off')\n",
    "    i += 1\n",
    "    if i == 6:\n",
    "        break\n",
    "plt.suptitle('Augmented Images using ImageDataGenerator')\n",
    "plt.show()"
   ]
  },
  {
   "cell_type": "markdown",
   "metadata": {},
   "source": [
    "## 🔍 6. Albumentations Library (Advanced)\n",
    "\n",
    "Albumentations is a powerful library offering fast and flexible augmentations for computer vision tasks."
   ]
  },
  {
   "cell_type": "code",
   "execution_count": null,
   "metadata": {},
   "outputs": [],
   "source": [
    "import albumentations as A\n",
    "from PIL import Image\n",
    "\n",
    "transform = A.Compose([\n",
    "    A.RandomBrightnessContrast(p=0.5),\n",
    "    A.HorizontalFlip(p=0.5),\n",
    "    A.Rotate(limit=45, p=0.7),\n",
    "    A.Blur(p=0.3)\n",
    "])\n",
    "\n",
    "augmented = transform(image=np.array(img))['image']\n",
    "\n",
    "plt.imshow(augmented)\n",
    "plt.title('Albumentations Example')\n",
    "plt.axis('off')\n",
    "plt.show()"
   ]
  },
  {
   "cell_type": "markdown",
   "metadata": {},
   "source": [
    "## ✅ 7. Key Takeaways\n",
    "- Data augmentation **increases dataset diversity** and **reduces overfitting**.\n",
    "- Use augmentation during training, **not during testing**.\n",
    "- Libraries like **Keras** and **Albumentations** simplify augmentation pipelines."
   ]
  },
  {
   "cell_type": "markdown",
   "metadata": {},
   "source": [
    "## 🧪 8. Exercises\n",
    "1. Apply random rotation + brightness augmentation to a batch of images.\n",
    "2. Experiment with Albumentations transformations for object detection datasets.\n",
    "3. Create a custom augmentation pipeline using OpenCV only."
   ]
  }
 ],
 "metadata": {
  "kernelspec": {
   "display_name": "Python 3",
   "language": "python",
   "name": "python3"
  },
  "language_info": {
   "name": "python",
   "version": "3.10"
  }
 },
 "nbformat": 4,
 "nbformat_minor": 5
}
