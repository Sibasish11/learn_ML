{
 "cells": [
  {
   "cell_type": "markdown",
   "metadata": {},
   "source": [
    "# Face Detection and Recognition 👁️‍🗨️\n",
    "\n",
    "In this notebook, we’ll explore two essential tasks in Computer Vision:\n",
    "\n",
    "- **Face Detection:** Locating faces within an image.\n",
    "- **Face Recognition:** Identifying who the person is by comparing facial features.\n",
    "\n",
    "We'll use:\n",
    "- **OpenCV Haar Cascades** for detection\n",
    "- **FaceNet or DeepFace** for recognition\n",
    "\n",
    "Let's get started!"
   ]
  },
  {
   "cell_type": "markdown",
   "metadata": {},
   "source": [
    "## 1. Setup and Imports"
   ]
  },
  {
   "cell_type": "code",
   "execution_count": null,
   "metadata": {},
   "outputs": [],
   "source": [
    "import cv2\n",
    "import matplotlib.pyplot as plt\n",
    "import numpy as np\n",
    "from deepface import DeepFace"
   ]
  },
  {
   "cell_type": "markdown",
   "metadata": {},
   "source": [
    "## 2. Load and Display an Image"
   ]
  },
  {
   "cell_type": "code",
   "execution_count": null,
   "metadata": {},
   "outputs": [],
   "source": [
    "# Load sample image\n",
    "image_path = 'sample_face.jpg'  # Replace with your own path\n",
    "img = cv2.imread(image_path)\n",
    "img_rgb = cv2.cvtColor(img, cv2.COLOR_BGR2RGB)\n",
    "\n",
    "plt.imshow(img_rgb)\n",
    "plt.title('Original Image')\n",
    "plt.axis('off')\n",
    "plt.show()"
   ]
  },
  {
   "cell_type": "markdown",
   "metadata": {},
   "source": [
    "## 3. Face Detection using Haar Cascade Classifier\n",
    "\n",
    "Haar cascades are classical object detection models provided by OpenCV. They work well for simple, real-time applications."
   ]
  },
  {
   "cell_type": "code",
   "execution_count": null,
   "metadata": {},
   "outputs": [],
   "source": [
    "# Load Haar cascade for face detection\n",
    "face_cascade = cv2.CascadeClassifier(cv2.data.haarcascades + 'haarcascade_frontalface_default.xml')\n",
    "\n",
    "# Convert to grayscale\n",
    "gray = cv2.cvtColor(img, cv2.COLOR_BGR2GRAY)\n",
    "\n",
    "# Detect faces\n",
    "faces = face_cascade.detectMultiScale(gray, scaleFactor=1.1, minNeighbors=5)\n",
    "print(f\"Detected {len(faces)} face(s).\")\n",
    "\n",
    "# Draw rectangles around faces\n",
    "for (x, y, w, h) in faces:\n",
    "    cv2.rectangle(img_rgb, (x, y), (x + w, y + h), (255, 0, 0), 2)\n",
    "\n",
    "plt.imshow(img_rgb)\n",
    "plt.title('Detected Faces')\n",
    "plt.axis('off')\n",
    "plt.show()"
   ]
  },
  {
   "cell_type": "markdown",
   "metadata": {},
   "source": [
    "## 4. Face Recognition using DeepFace\n",
    "\n",
    "DeepFace is a lightweight library that wraps state-of-the-art face recognition models such as **VGG-Face**, **Facenet**, **OpenFace**, **DeepID**, and **ArcFace**."
   ]
  },
  {
   "cell_type": "code",
   "execution_count": null,
   "metadata": {},
   "outputs": [],
   "source": [
    "# Example: comparing two images\n",
    "img1_path = 'person1.jpg'\n",
    "img2_path = 'person2.jpg'\n",
    "\n",
    "result = DeepFace.verify(img1_path, img2_path, model_name='Facenet')\n",
    "print(result)"
   ]
  },
  {
   "cell_type": "markdown",
   "metadata": {},
   "source": [
    "The `DeepFace.verify()` function returns a dictionary containing similarity metrics and verification results:\n",
    "```python\n",
    "{'verified': True, 'distance': 0.28, 'model': 'Facenet', ...}\n",
    "```"
   ]
  },
  {
   "cell_type": "markdown",
   "metadata": {},
   "source": [
    "## 5. Face Embeddings and Recognition Logic\n",
    "\n",
    "Under the hood, DeepFace (and FaceNet) extract **128-dimensional embeddings** representing a face’s features.\n",
    "\n",
    "Faces are recognized by comparing embedding distances — smaller distance means higher similarity."
   ]
  },
  {
   "cell_type": "code",
   "execution_count": null,
   "metadata": {},
   "outputs": [],
   "source": [
    "# Example of extracting embeddings\n",
    "embedding = DeepFace.represent(img_path=img1_path, model_name='Facenet')\n",
    "print(np.array(embedding[0]['embedding']).shape)"
   ]
  },
  {
   "cell_type": "markdown",
   "metadata": {},
   "source": [
    "## 6. Real-time Face Detection using Webcam\n",
    "\n",
    "You can use your webcam feed to detect faces in real-time. (Run this in a local environment, not in an online notebook.)"
   ]
  },
  {
   "cell_type": "code",
   "execution_count": null,
   "metadata": {},
   "outputs": [],
   "source": [
    "# Uncomment and run locally\n",
    "# cap = cv2.VideoCapture(0)\n",
    "# while True:\n",
    "#     ret, frame = cap.read()\n",
    "#     gray = cv2.cvtColor(frame, cv2.COLOR_BGR2GRAY)\n",
    "#     faces = face_cascade.detectMultiScale(gray, 1.3, 5)\n",
    "#     for (x, y, w, h) in faces:\n",
    "#         cv2.rectangle(frame, (x, y), (x+w, y+h), (0, 255, 0), 2)\n",
    "#     cv2.imshow('Face Detection', frame)\n",
    "#     if cv2.waitKey(1) & 0xFF == ord('q'):\n",
    "#         break\n",
    "# cap.release()\n",
    "# cv2.destroyAllWindows()"
   ]
  },
  {
   "cell_type": "markdown",
   "metadata": {},
   "source": [
    "## ✅ Summary\n",
    "\n",
    "In this notebook, you learned:\n",
    "- How to detect faces using **OpenCV Haar cascades**.\n",
    "- How to recognize and verify faces using **DeepFace**.\n",
    "- How to extract and compare **face embeddings**.\n",
    "\n",
    "**Next Steps:**\n",
    "- Explore **dlib** or **MTCNN** for better face detection.\n",
    "- Use **face alignment and cropping** before recognition.\n",
    "- Build your own dataset for face-based access systems!"
   ]
  }
 ],
 "metadata": {
  "kernelspec": {
   "display_name": "Python 3",
   "language": "python",
   "name": "python3"
  },
  "language_info": {
   "name": "python",
   "version": "3.10"
  }
 },
 "nbformat": 4,
 "nbformat_minor": 5
}
