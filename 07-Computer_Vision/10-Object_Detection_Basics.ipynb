{
 "cells": [
  {
   "cell_type": "markdown",
   "metadata": {},
   "source": [
    "# Object Detection Basics\n",
    "\n",
    "In this notebook, we explore **Object Detection** — identifying and localizing multiple objects within an image using bounding boxes.\n",
    "\n",
    "We'll cover:\n",
    "- Difference between image classification and object detection\n",
    "- Key concepts: bounding boxes, IoU, confidence, and NMS\n",
    "- Object detection pipelines\n",
    "- Using pre-trained models (YOLOv5 / OpenCV DNN)\n",
    "- Visualizing detections\n",
    "\n",
    "---"
   ]
  },
  {
   "cell_type": "markdown",
   "metadata": {},
   "source": [
    "## 1️⃣ What is Object Detection?\n",
    "\n",
    "Unlike image classification (which predicts a single label per image), **object detection** predicts:\n",
    "1. **Class labels** for each detected object\n",
    "2. **Bounding box coordinates** for localization\n",
    "\n",
    "Example:\n",
    "- Image: a dog and a cat\n",
    "- Output: `[Dog: (x1, y1, x2, y2)], [Cat: (x3, y3, x4, y4)]`\n",
    "\n",
    "Applications include:\n",
    "- Self-driving cars (detect pedestrians, vehicles)\n",
    "- Medical imaging (detect tumors)\n",
    "- Retail (detect items for checkout)\n",
    "- Security systems\n",
    "\n",
    "---"
   ]
  },
  {
   "cell_type": "markdown",
   "metadata": {},
   "source": [
    "## 2️⃣ Key Concepts\n",
    "\n",
    "### 📦 Bounding Box\n",
    "A rectangular box enclosing the detected object — represented by `(x_min, y_min, x_max, y_max)`.\n",
    "\n",
    "### 📏 IoU (Intersection over Union)\n",
    "Measures how well the predicted box overlaps with the ground truth.\n",
    "\\[ IoU = \\frac{Area(Overlap)}{Area(Union)} \\]\n",
    "\n",
    "### 💡 Confidence Score\n",
    "Probability that the detected region contains an object of a specific class.\n",
    "\n",
    "### 🧹 NMS (Non-Maximum Suppression)\n",
    "Used to remove overlapping detections by keeping only the box with the highest confidence.\n",
    "\n",
    "---"
   ]
  },
  {
   "cell_type": "markdown",
   "metadata": {},
   "source": [
    "## 3️⃣ Object Detection Models\n",
    "\n",
    "**Two-stage Detectors**:\n",
    "- R-CNN, Fast R-CNN, Faster R-CNN — first generate region proposals, then classify.\n",
    "\n",
    "**One-stage Detectors**:\n",
    "- YOLO (You Only Look Once), SSD, RetinaNet — detect and classify in one pass, faster and real-time.\n",
    "\n",
    "We’ll demonstrate **YOLOv5**, a fast and accurate one-stage detector.\n",
    "\n",
    "---"
   ]
  },
  {
   "cell_type": "code",
   "execution_count": null,
   "metadata": {},
   "outputs": [],
   "source": [
    "# 📦 Install YOLOv5 (optional if not already installed)\n",
    "# !git clone https://github.com/ultralytics/yolov5.git\n",
    "# %cd yolov5\n",
    "# !pip install -r requirements.txt\n",
    "\n",
    "import torch\n",
    "\n",
    "# Load pre-trained YOLOv5 model\n",
    "model = torch.hub.load('ultralytics/yolov5', 'yolov5s', pretrained=True)\n",
    "\n",
    "# Check model info\n",
    "model"
   ]
  },
  {
   "cell_type": "markdown",
   "metadata": {},
   "source": [
    "## 4️⃣ Performing Object Detection\n",
    "\n",
    "Let’s use a sample image and visualize detections."
   ]
  },
  {
   "cell_type": "code",
   "execution_count": null,
   "metadata": {},
   "outputs": [],
   "source": [
    "from PIL import Image\n",
    "import requests\n",
    "\n",
    "# Load an image\n",
    "url = 'https://ultralytics.com/images/zidane.jpg'\n",
    "img = Image.open(requests.get(url, stream=True).raw)\n",
    "\n",
    "# Inference\n",
    "results = model(img)\n",
    "\n",
    "# Display results\n",
    "results.show()"
   ]
  },
  {
   "cell_type": "markdown",
   "metadata": {},
   "source": [
    "The model detects objects like **person**, **ball**, etc., and displays bounding boxes with confidence scores.\n",
    "\n",
    "---"
   ]
  },
  {
   "cell_type": "markdown",
   "metadata": {},
   "source": [
    "## 5️⃣ Extracting Detection Results\n",
    "\n",
    "You can access the raw detections (class, confidence, bounding box) as a Pandas DataFrame."
   ]
  },
  {
   "cell_type": "code",
   "execution_count": null,
   "metadata": {},
   "outputs": [],
   "source": [
    "# Display detection results as DataFrame\n",
    "results.pandas().xyxy[0].head()"
   ]
  },
  {
   "cell_type": "markdown",
   "metadata": {},
   "source": [
    "Output example:\n",
    "\n",
    "| xmin | ymin | xmax | ymax | confidence | class | name |\n",
    "|------|------|------|------|-------------|-------|------|\n",
    "|  70  |  30  | 170  | 300  | 0.98        | 0     | person |\n",
    "| 200  | 150  | 250  | 200  | 0.85        | 32    | sports ball |\n",
    "\n",
    "---"
   ]
  },
  {
   "cell_type": "markdown",
   "metadata": {},
   "source": [
    "## 6️⃣ Alternative: OpenCV DNN (No Torch Required)\n",
    "\n",
    "OpenCV’s DNN module can run pre-trained models like YOLOv3 or MobileNetSSD using `.cfg` and `.weights` files.\n",
    "\n",
    "Example (pseudo code):\n",
    "```python\n",
    "import cv2\n",
    "net = cv2.dnn.readNet('yolov3.weights', 'yolov3.cfg')\n",
    "layer_names = net.getLayerNames()\n",
    "output_layers = [layer_names[i - 1] for i in net.getUnconnectedOutLayers()]\n",
    "\n",
    "img = cv2.imread('image.jpg')\n",
    "blob = cv2.dnn.blobFromImage(img, 0.00392, (416, 416), swapRB=True, crop=False)\n",
    "net.setInput(blob)\n",
    "outs = net.forward(output_layers)\n",
    "```\n",
    "\n",
    "---"
   ]
  },
  {
   "cell_type": "markdown",
   "metadata": {},
   "source": [
    "## 7️⃣ Evaluation Metrics for Object Detection\n",
    "\n",
    "- **Precision & Recall** per class\n",
    "- **IoU (Intersection over Union)**\n",
    "- **mAP (mean Average Precision)** — average precision over multiple classes\n",
    "\n",
    "High IoU and mAP → better localization and classification.\n",
    "\n",
    "---"
   ]
  },
  {
   "cell_type": "markdown",
   "metadata": {},
   "source": [
    "## ✅ Summary\n",
    "\n",
    "- Object detection = classification + localization.\n",
    "- Uses bounding boxes, confidence, and IoU.\n",
    "- One-stage (YOLO, SSD) → real-time; Two-stage (Faster R-CNN) → more accurate.\n",
    "- YOLOv5 provides an easy-to-use, pre-trained option.\n",
    "- Evaluation via IoU, mAP, Precision/Recall.\n",
    "\n",
    "---\n",
    "**Next:** `11-Object_Detection_with_YOLOv5.ipynb` → Build your own object detection pipeline with YOLOv5.\n"
   ]
  }
 ],
 "metadata": {
  "kernelspec": {
   "display_name": "Python 3",
   "language": "python",
   "name": "python3"
  },
  "language_info": {
   "name": "python",
   "version": "3.10"
  }
 },
 "nbformat": 4,
 "nbformat_minor": 5
}

