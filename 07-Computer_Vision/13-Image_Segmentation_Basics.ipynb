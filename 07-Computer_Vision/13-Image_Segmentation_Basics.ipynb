{
 "cells": [
  {
   "cell_type": "markdown",
   "metadata": {},
   "source": [
    "# Image Segmentation Basics 🧩\n",
    "\n",
    "In this notebook, we’ll explore **image segmentation**, a fundamental concept in computer vision where the goal is to partition an image into meaningful regions (pixels belonging to the same object or class). Unlike classification (assigning a label to an image), segmentation assigns a label to each pixel.\n",
    "\n",
    "We’ll cover:\n",
    "- Semantic vs Instance Segmentation\n",
    "- Thresholding and Edge-Based Segmentation\n",
    "- Region-Based Segmentation (Watershed)\n",
    "- Using Pretrained Models for Semantic Segmentation (U-Net)\n"
   ]
  },
  {
   "cell_type": "markdown",
   "metadata": {},
   "source": [
    "## 1. Imports and Setup"
   ]
  },
  {
   "cell_type": "code",
   "execution_count": null,
   "metadata": {},
   "outputs": [],
   "source": [
    "import cv2\n",
    "import numpy as np\n",
    "import matplotlib.pyplot as plt\n",
    "from skimage import data, segmentation, color\n",
    "from skimage.future import graph\n",
    "from skimage.segmentation import slic\n",
    "from skimage.util import img_as_float"
   ]
  },
  {
   "cell_type": "markdown",
   "metadata": {},
   "source": [
    "## 2. Load and Display an Image"
   ]
  },
  {
   "cell_type": "code",
   "execution_count": null,
   "metadata": {},
   "outputs": [],
   "source": [
    "image = img_as_float(data.astronaut())\n",
    "plt.figure(figsize=(6,6))\n",
    "plt.imshow(image)\n",
    "plt.title('Original Image')\n",
    "plt.axis('off')\n",
    "plt.show()"
   ]
  },
  {
   "cell_type": "markdown",
   "metadata": {},
   "source": [
    "## 3. Thresholding Segmentation (Simple Binary Segmentation)"
   ]
  },
  {
   "cell_type": "code",
   "execution_count": null,
   "metadata": {},
   "outputs": [],
   "source": [
    "gray = cv2.cvtColor((image * 255).astype('uint8'), cv2.COLOR_RGB2GRAY)\n",
    "_, thresh = cv2.threshold(gray, 100, 255, cv2.THRESH_BINARY)\n",
    "\n",
    "plt.figure(figsize=(6,6))\n",
    "plt.imshow(thresh, cmap='gray')\n",
    "plt.title('Binary Threshold Segmentation')\n",
    "plt.axis('off')\n",
    "plt.show()"
   ]
  },
  {
   "cell_type": "markdown",
   "metadata": {},
   "source": [
    "## 4. Edge-Based Segmentation (Canny Edge Detection)"
   ]
  },
  {
   "cell_type": "code",
   "execution_count": null,
   "metadata": {},
   "outputs": [],
   "source": [
    "edges = cv2.Canny(gray, 100, 200)\n",
    "plt.figure(figsize=(6,6))\n",
    "plt.imshow(edges, cmap='gray')\n",
    "plt.title('Edge-Based Segmentation (Canny)')\n",
    "plt.axis('off')\n",
    "plt.show()"
   ]
  },
  {
   "cell_type": "markdown",
   "metadata": {},
   "source": [
    "## 5. Region-Based Segmentation (Watershed Algorithm)"
   ]
  },
  {
   "cell_type": "code",
   "execution_count": null,
   "metadata": {},
   "outputs": [],
   "source": [
    "from skimage.filters import sobel\n",
    "elevation_map = sobel(gray)\n",
    "\n",
    "from skimage import morphology, feature\n",
    "markers = np.zeros_like(gray)\n",
    "markers[gray < 60] = 1\n",
    "markers[gray > 150] = 2\n",
    "\n",
    "segmentation_result = morphology.watershed(elevation_map, markers)\n",
    "\n",
    "plt.figure(figsize=(6,6))\n",
    "plt.imshow(segmentation_result, cmap='Accent')\n",
    "plt.title('Watershed Segmentation')\n",
    "plt.axis('off')\n",
    "plt.show()"
   ]
  },
  {
   "cell_type": "markdown",
   "metadata": {},
   "source": [
    "## 6. Superpixel Segmentation using SLIC"
   ]
  },
  {
   "cell_type": "code",
   "execution_count": null,
   "metadata": {},
   "outputs": [],
   "source": [
    "segments_slic = slic(image, n_segments=200, compactness=10, start_label=1)\n",
    "segmented_image = color.label2rgb(segments_slic, image, kind='avg')\n",
    "\n",
    "plt.figure(figsize=(6,6))\n",
    "plt.imshow(segmented_image)\n",
    "plt.title('SLIC Superpixel Segmentation')\n",
    "plt.axis('off')\n",
    "plt.show()"
   ]
  },
  {
   "cell_type": "markdown",
   "metadata": {},
   "source": [
    "## 7. Summary\n",
    "\n",
    "| Technique | Description |\n",
    "|------------|-------------|\n",
    "| Thresholding | Splits image based on intensity values |\n",
    "| Edge Detection | Finds object boundaries |\n",
    "| Watershed | Grows regions from markers |\n",
    "| SLIC | Groups pixels into superpixels |\n",
    "\n",
    "Next step → Implementing **Semantic Segmentation using U-Net or DeepLabV3** models."
   ]
  }
 ],
 "metadata": {
  "kernelspec": {
   "display_name": "Python 3",
   "language": "python",
   "name": "python3"
  },
  "language_info": {
   "name": "python",
   "version": "3.10"
  }
 },
 "nbformat": 4,
 "nbformat_minor": 5
}
