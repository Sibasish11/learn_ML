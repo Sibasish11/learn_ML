{
 "cells": [
  {
   "cell_type": "markdown",
   "metadata": {},
   "source": [
    "# Introduction to Computer Vision\n",
    "\n",
    "Welcome to the world of **Computer Vision (CV)** — a field of Artificial Intelligence that enables machines to interpret and understand visual data such as images and videos.\n",
    "\n",
    "In this notebook, we’ll cover:\n",
    "- What Computer Vision is and why it matters.\n",
    "- Key real-world applications.\n",
    "- Types of computer vision tasks.\n",
    "- Basic setup and image visualization.\n",
    "\n",
    "---\n",
    "\n",
    "## 🌍 What is Computer Vision?\n",
    "\n",
    "Computer Vision (CV) is a subfield of **Artificial Intelligence (AI)** that focuses on enabling computers to understand and make decisions based on **visual inputs** — similar to how humans use their eyes and brain to perceive the world.\n",
    "\n",
    "**Goal:** Extract meaningful information from digital images or videos — e.g., recognizing objects, detecting edges, segmenting regions, or tracking motion.\n",
    "\n",
    "---\n",
    "\n",
    "## 💡 Real-World Applications\n",
    "\n",
    "| Domain | Example Applications |\n",
    "|--------|----------------------|\n",
    "| **Healthcare** | X-ray, MRI analysis, tumor detection |\n",
    "| **Automotive** | Self-driving cars, lane detection, obstacle avoidance |\n",
    "| **Retail** | Visual product search, cashier-less stores |\n",
    "| **Agriculture** | Crop health monitoring, pest detection |\n",
    "| **Security** | Face recognition, surveillance systems |\n",
    "| **Social Media** | Image tagging, filters, content moderation |\n",
    "\n",
    "---\n",
    "\n",
    "## 🔍 Core Computer Vision Tasks\n",
    "\n",
    "1. **Image Classification** – Predicting a label for an image.\n",
    "2. **Object Detection** – Locating multiple objects within an image.\n",
    "3. **Semantic Segmentation** – Classifying each pixel of an image.\n",
    "4. **Instance Segmentation** – Identifying each object instance separately.\n",
    "5. **Image Generation** – Creating new images (e.g., GANs, diffusion models).\n",
    "6. **Pose Estimation** – Understanding body or object posture.\n",
    "\n",
    "---\n",
    "\n",
    "## ⚙️ Getting Started — Importing and Viewing Images\n",
    "\n",
    "Let’s begin with simple image reading and visualization using **OpenCV** and **Matplotlib**."
   ]
  },
  {
   "cell_type": "code",
   "metadata": {},
   "source": [
    "import cv2\n",
    "import matplotlib.pyplot as plt\n",
    "\n",
    "# Load an example image\n",
    "image_path = cv2.__file__.replace('cv2/__init__.py', 'samples/data/lena.jpg') if 'cv2' in cv2.__file__ else None\n",
    "image = cv2.imread(image_path) if image_path else None\n",
    "\n",
    "if image is not None:\n",
    "    # Convert BGR to RGB for Matplotlib\n",
    "    image_rgb = cv2.cvtColor(image, cv2.COLOR_BGR2RGB)\n",
    "    plt.imshow(image_rgb)\n",
    "    plt.title('Sample Image - Lena')\n",
    "    plt.axis('off')\n",
    "    plt.show()\n",
    "else:\n",
    "    print('Sample image not found. Please provide an image path.')"
   ],
   "execution_count": null,
   "outputs": []
  },
  {
   "cell_type": "markdown",
   "metadata": {},
   "source": [
    "### 🔧 Key Steps:\n",
    "1. Use `cv2.imread()` to load an image.\n",
    "2. Convert the color space from **BGR → RGB** (OpenCV uses BGR by default).\n",
    "3. Display the image using `matplotlib.pyplot.imshow()`.\n",
    "\n",
    "---\n",
    "\n",
    "## 🧩 Image as Data\n",
    "An image is represented as a **matrix of pixels**.\n",
    "\n",
    "- For **grayscale images** → 2D array (height × width)\n",
    "- For **colored images (RGB)** → 3D array (height × width × 3)\n",
    "\n",
    "Let’s see the shape and pixel values:"
   ]
  },
  {
   "cell_type": "code",
   "metadata": {},
   "source": [
    "if image is not None:\n",
    "    print(f\"Image Shape: {image.shape}\")\n",
    "    print(f\"Pixel at (0,0): {image[0,0]}\")"
   ],
   "execution_count": null,
   "outputs": []
  },
  {
   "cell_type": "markdown",
   "metadata": {},
   "source": [
    "---\n",
    "\n",
    "## 📏 Understanding Image Dimensions\n",
    "\n",
    "- **Height:** Number of rows of pixels.\n",
    "- **Width:** Number of columns of pixels.\n",
    "- **Channels:** Color layers — Red, Green, and Blue.\n",
    "\n",
    "Each pixel is represented as `[B, G, R]` values (0–255)."
   ]
  },
  {
   "cell_type": "code",
   "metadata": {},
   "source": [
    "if image is not None:\n",
    "    height, width, channels = image.shape\n",
    "    print(f\"Height: {height}, Width: {width}, Channels: {channels}\")"
   ],
   "execution_count": null,
   "outputs": []
  },
  {
   "cell_type": "markdown",
   "metadata": {},
   "source": [
    "---\n",
    "\n",
    "## 📚 Summary\n",
    "\n",
    "- Computer Vision focuses on extracting insights from images and videos.\n",
    "- Common tasks include classification, detection, and segmentation.\n",
    "- Images are just arrays of numbers that can be processed using tools like OpenCV and NumPy.\n",
    "\n",
    "---\n",
    "\n",
    "### Next Steps\n",
    "Continue to the next notebook → **`01-Image_Basics_and_Pixel_Operations.ipynb`** to learn how to manipulate and process images pixel-by-pixel."
   ]
  }
 ],
 "metadata": {
  "kernelspec": {
   "display_name": "Python 3",
   "language": "python",
   "name": "python3"
  },
  "language_info": {
   "name": "python",
   "version": "3.x"
  }
 },
 "nbformat": 4,
 "nbformat_minor": 2
}

