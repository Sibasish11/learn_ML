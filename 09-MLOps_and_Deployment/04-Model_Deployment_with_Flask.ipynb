{
 "cells": [
  {
   "cell_type": "markdown",
   "metadata": {},
   "source": [
    "# Model Deployment with Flask\n",
    "\n",
    "In this notebook, we’ll learn how to deploy a trained machine learning model as a web API using **Flask**, a lightweight Python web framework.\n",
    "\n",
    "### Objectives\n",
    "- Understand the basics of Flask for serving models.\n",
    "- Create a simple Flask API endpoint.\n",
    "- Load a trained model and return predictions via API.\n",
    "- Test the Flask app locally using `requests` or `curl`."
   ]
  },
  {
   "cell_type": "code",
   "execution_count": 1,
   "metadata": {},
   "outputs": [],
   "source": [
    "# Install dependencies (if running locally)\n",
    "# !pip install flask scikit-learn joblib"
   ]
  },
  {
   "cell_type": "markdown",
   "metadata": {},
   "source": [
    "## Step 1: Train and Save a Sample Model\n",
    "\n",
    "We’ll train a simple Logistic Regression model on the Iris dataset and save it for deployment."
   ]
  },
  {
   "cell_type": "code",
   "execution_count": 2,
   "metadata": {},
   "outputs": [],
   "source": [
    "from sklearn.datasets import load_iris\n",
    "from sklearn.linear_model import LogisticRegression\n",
    "from sklearn.model_selection import train_test_split\n",
    "import joblib\n",
    "\n",
    "# Load dataset\n",
    "iris = load_iris()\n",
    "X_train, X_test, y_train, y_test = train_test_split(iris.data, iris.target, test_size=0.2, random_state=42)\n",
    "\n",
    "# Train model\n",
    "model = LogisticRegression(max_iter=200)\n",
    "model.fit(X_train, y_train)\n",
    "\n",
    "# Save model\n",
    "joblib.dump(model, 'iris_model.pkl')"
   ]
  },
  {
   "cell_type": "markdown",
   "metadata": {},
   "source": [
    "## Step 2: Create Flask App for Deployment\n",
    "\n",
    "We will build a simple Flask app that loads the model and provides a `/predict` API endpoint."
   ]
  },
  {
   "cell_type": "code",
   "execution_count": 3,
   "metadata": {},
   "outputs": [],
   "source": [
    "from flask import Flask, request, jsonify\n",
    "import numpy as np\n",
    "\n",
    "app = Flask(__name__)\n",
    "\n",
    "# Load model\n",
    "model = joblib.load('iris_model.pkl')\n",
    "\n",
    "@app.route('/')\n",
    "def home():\n",
    "    return \"<h2>ML Model Deployment with Flask</h2><p>Use the /predict endpoint to get predictions.</p>\"\n",
    "\n",
    "@app.route('/predict', methods=['POST'])\n",
    "def predict():\n",
    "    data = request.get_json()\n",
    "    features = np.array(data['features']).reshape(1, -1)\n",
    "    prediction = model.predict(features)\n",
    "    class_name = iris.target_names[prediction[0]]\n",
    "    return jsonify({'prediction': int(prediction[0]), 'class': class_name})\n",
    "\n",
    "if __name__ == '__main__':\n",
    "    app.run(debug=True)"
   ]
  },
  {
   "cell_type": "markdown",
   "metadata": {},
   "source": [
    "## Step 3: Testing the API\n",
    "\n",
    "You can run this Flask app and test it by sending a POST request.\n",
    "\n",
    "### Example request using `requests` library:"
   ]
  },
  {
   "cell_type": "code",
   "execution_count": 4,
   "metadata": {},
   "outputs": [],
   "source": [
    "# Example request (run this in another cell after starting Flask server)\n",
    "# import requests\n",
    "# sample_data = {\"features\": [5.1, 3.5, 1.4, 0.2]}\n",
    "# response = requests.post('http://127.0.0.1:5000/predict', json=sample_data)\n",
    "# print(response.json())"
   ]
  },
  {
   "cell_type": "markdown",
   "metadata": {},
   "source": [
    "## Step 4: Notes on Deployment\n",
    "\n",
    "- You can use **Gunicorn** or **uWSGI** with **Nginx** for production deployment.\n",
    "- Flask can be containerized with **Docker**.\n",
    "- For cloud deployment, you can use **AWS Elastic Beanstalk**, **Render**, or **Heroku**.\n",
    "\n",
    "Example Dockerfile:\n",
    "```dockerfile\n",
    "FROM python:3.9\n",
    "WORKDIR /app\n",
    "COPY . .\n",
    "RUN pip install flask scikit-learn joblib\n",
    "CMD [\"python\", \"app.py\"]\n",
    "```"
   ]
  }
 ],
 "metadata": {
  "kernelspec": {
   "display_name": "Python 3",
   "language": "python",
   "name": "python3"
  },
  "language_info": {
   "name": "python",
   "version": "3.11"
  }
 },
 "nbformat": 5,
 "nbformat_minor": 10
}
