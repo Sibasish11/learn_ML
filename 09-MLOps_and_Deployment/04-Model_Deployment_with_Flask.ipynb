{
 "cells": [
  {
   "cell_type": "markdown",
   "metadata": {},
   "source": [
    "# Model Deployment with Flask\n",
    "\n",
    "In this notebook, we’ll learn how to deploy a trained Machine Learning model using **Flask**, a lightweight web framework in Python. Flask helps convert your ML models into web APIs that can interact with real-world applications such as websites, apps, or other systems.\n",
    "\n",
    "### 🔍 Objectives:\n",
    "- Understand how to serve ML models via REST API.\n",
    "- Build a simple Flask app to make predictions.\n",
    "- Test model inference locally using `requests` or `curl`.\n"
   ]
  },
  {
   "cell_type": "markdown",
   "metadata": {},
   "source": [
    "## 1️⃣ Import Required Libraries"
   ]
  },
  {
   "cell_type": "code",
   "execution_count": null,
   "metadata": {},
   "outputs": [],
   "source": [
    "import numpy as np\n",
    "import pickle\n",
    "from flask import Flask, request, jsonify"
   ]
  },
  {
   "cell_type": "markdown",
   "metadata": {},
   "source": [
    "## 2️⃣ Load the Trained Model\n",
    "\n",
    "Assume you already have a model trained and saved using `pickle` or `joblib`. We'll load it here for inference."
   ]
  },
  {
   "cell_type": "code",
   "execution_count": null,
   "metadata": {},
   "outputs": [],
   "source": [
    "# Example: Load a sample scikit-learn model\n",
    "with open('model.pkl', 'rb') as file:\n",
    "    model = pickle.load(file)"
   ]
  },
  {
   "cell_type": "markdown",
   "metadata": {},
   "source": [
    "## 3️⃣ Create a Flask App"
   ]
  },
  {
   "cell_type": "code",
   "execution_count": null,
   "metadata": {},
   "outputs": [],
   "source": [
    "app = Flask(__name__)\n",
    "\n",
    "@app.route('/')\n",
    "def home():\n",
    "    return 'Welcome to the ML Model API!'\n",
    "\n",
    "@app.route('/predict', methods=['POST'])\n",
    "def predict():\n",
    "    data = request.get_json(force=True)\n",
    "    features = np.array(data['features']).reshape(1, -1)\n",
    "    prediction = model.predict(features)\n",
    "    return jsonify({'prediction': prediction.tolist()})"
   ]
  },
  {
   "cell_type": "markdown",
   "metadata": {},
   "source": [
    "## 4️⃣ Run the Flask Server\n",
    "\n",
    "Once you save this script as `app.py`, you can run it using:\n",
    "\n",
    "```bash\n",
    "python app.py\n",
    "```\n",
    "\n",
    "The API will be available at `http://127.0.0.1:5000/`.\n"
   ]
  },
  {
   "cell_type": "code",
   "execution_count": null,
   "metadata": {},
   "outputs": [],
   "source": [
    "if __name__ == '__main__':\n",
    "    app.run(debug=True)"
   ]
  },
  {
   "cell_type": "markdown",
   "metadata": {},
   "source": [
    "## 5️⃣ Test the API\n",
    "\n",
    "Use Python’s `requests` library or `curl` command to send a test request.\n",
    "\n",
    "**Example (Python):**\n",
    "```python\n",
    "import requests\n",
    "url = 'http://127.0.0.1:5000/predict'\n",
    "payload = {'features': [5.1, 3.5, 1.4, 0.2]}\n",
    "response = requests.post(url, json=payload)\n",
    "print(response.json())\n",
    "```\n",
    "\n",
    "**Example (curl):**\n",
    "```bash\n",
    "curl -X POST -H \"Content-Type: application/json\" -d '{\"features\":[5.1,3.5,1.4,0.2]}' http://127.0.0.1:5000/predict\n",
    "```\n"
   ]
  },
  {
   "cell_type": "markdown",
   "metadata": {},
   "source": [
    "## ✅ Summary\n",
    "\n",
    "- Flask is used to wrap ML models as REST APIs.\n",
    "- You can deploy this API locally, on cloud servers, or platforms like Heroku and AWS.\n",
    "- For production, consider tools like **FastAPI**, **Docker**, and **Gunicorn** for scaling.\n",
    "\n",
    "**Next Steps:** Try deploying your model using FastAPI or Streamlit!"
   ]
  }
 ],
 "metadata": {
  "kernelspec": {
   "display_name": "Python 3",
   "language": "python",
   "name": "python3"
  },
  "language_info": {
   "name": "python",
   "version": "3.11"
  }
 },
 "nbformat": 5,
 "nbformat_minor": 10
}
