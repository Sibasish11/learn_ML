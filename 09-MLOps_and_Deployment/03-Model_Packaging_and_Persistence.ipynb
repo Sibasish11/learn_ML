{
 "nbformat": 5,
 "nbformat_minor": 10,
 "metadata": {
  "kernelspec": {
   "name": "python3",
   "display_name": "Python 3"
  },
  "language_info": {
   "name": "python",
   "version": "3.x"
  }
 },
 "cells": [
  {
   "cell_type": "markdown",
   "metadata": {},
   "source": [
    "# Model Packaging and Persistence\n",
    "\n",
    "Learn how to **save, load, and package** machine learning models for reuse and deployment.\n",
    "\n",
    "We'll cover:\n",
    "- Model persistence basics\n",
    "- Pickle and Joblib usage\n",
    "- MLflow model logging and packaging"
   ]
  },
  {
   "cell_type": "markdown",
   "metadata": {},
   "source": [
    "## Why Model Persistence?\n",
    "\n",
    "Saving a trained model helps you reuse it for predictions later without retraining. It ensures consistency and speeds up deployment."
   ]
  },
  {
   "cell_type": "code",
   "metadata": {},
   "execution_count": null,
   "outputs": [],
   "source": [
    "from sklearn.datasets import load_iris\n",
    "from sklearn.model_selection import train_test_split\n",
    "from sklearn.ensemble import RandomForestClassifier\n",
    "\n",
    "# Load dataset\n",
    "iris = load_iris()\n",
    "X_train, X_test, y_train, y_test = train_test_split(iris.data, iris.target, test_size=0.2, random_state=42)\n",
    "\n",
    "# Train model\n",
    "model = RandomForestClassifier(n_estimators=100, random_state=42)\n",
    "model.fit(X_train, y_train)"
   ]
  },
  {
   "cell_type": "markdown",
   "metadata": {},
   "source": [
    "## 🧰 Method 1: Pickle"
   ]
  },
  {
   "cell_type": "code",
   "metadata": {},
   "execution_count": null,
   "outputs": [],
   "source": [
    "import pickle\n",
    "\n",
    "# Save model\n",
    "with open('rf_model.pkl', 'wb') as f:\n",
    "    pickle.dump(model, f)\n",
    "\n",
    "# Load model\n",
    "with open('rf_model.pkl', 'rb') as f:\n",
    "    loaded_model = pickle.load(f)\n",
    "\n",
    "print('✅ Model loaded successfully!')"
   ]
  },
  {
   "cell_type": "code",
   "metadata": {},
   "execution_count": null,
   "outputs": [],
   "source": [
    "y_pred = loaded_model.predict(X_test)\n",
    "print('Sample predictions:', y_pred[:5])"
   ]
  },
  {
   "cell_type": "markdown",
   "metadata": {},
   "source": [
    "## ⚡ Method 2: Joblib"
   ]
  },
  {
   "cell_type": "code",
   "metadata": {},
   "execution_count": null,
   "outputs": [],
   "source": [
    "import joblib\n",
    "\n",
    "# Save model\n",
    "joblib.dump(model, 'rf_model.joblib')\n",
    "\n",
    "# Load model\n",
    "loaded_joblib_model = joblib.load('rf_model.joblib')\n",
    "print('✅ Joblib model loaded successfully!')"
   ]
  },
  {
   "cell_type": "markdown",
   "metadata": {},
   "source": [
    "## 📦 Method 3: MLflow Packaging"
   ]
  },
  {
   "cell_type": "code",
   "metadata": {},
   "execution_count": null,
   "outputs": [],
   "source": [
    "import mlflow\n",
    "import mlflow.sklearn\n",
    "\n",
    "with mlflow.start_run(run_name='RF_Model_Packaging'):\n",
    "    mlflow.sklearn.log_model(model, 'random_forest_model')\n",
    "    print('✅ Model logged with MLflow!')"
   ]
  },
  {
   "cell_type": "markdown",
   "metadata": {},
   "source": [
    "### 🔍 Load MLflow Model (Example)"
   ]
  },
  {
   "cell_type": "code",
   "metadata": {},
   "execution_count": null,
   "outputs": [],
   "source": [
    "# model_uri = 'runs:/<run_id>/random_forest_model'\n",
    "# loaded_mlflow_model = mlflow.sklearn.load_model(model_uri)"
   ]
  },
  {
   "cell_type": "markdown",
   "metadata": {},
   "source": [
    "## 🧾 Save Metadata"
   ]
  },
  {
   "cell_type": "code",
   "metadata": {},
   "execution_count": null,
   "outputs": [],
   "source": [
    "import json\n",
    "\n",
    "metadata = {\n",
    "    'model_name': 'RandomForestClassifier',\n",
    "    'version': '1.0',\n",
    "    'accuracy': float(model.score(X_test, y_test)),\n",
    "    'features': list(iris.feature_names)\n",
    "}\n",
    "\n",
    "with open('model_metadata.json', 'w') as f:\n",
    "    json.dump(metadata, f, indent=4)\n",
    "\n",
    "print('🗂️ Metadata saved successfully!')"
   ]
  },
  {
   "cell_type": "markdown",
   "metadata": {},
   "source": [
    "## 🧩 Best Practices\n",
    "- Use Joblib for large scikit-learn models.\n",
    "- Always store model version and metadata.\n",
    "- Use MLflow for experiment tracking.\n",
    "- Test loading in clean environments.\n",
    "- Maintain consistent directory structure."
   ]
  },
  {
   "cell_type": "markdown",
   "metadata": {},
   "source": [
    "## ✅ Summary\n",
    "You learned how to:\n",
    "- Save models using Pickle and Joblib\n",
    "- Log models via MLflow\n",
    "- Store model metadata for reproducibility\n",
    "- Prepare models for deployment"
   ]
  }
 ]
}
