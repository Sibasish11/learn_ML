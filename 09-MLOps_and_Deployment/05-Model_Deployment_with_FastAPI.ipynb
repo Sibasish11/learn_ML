{
 "cells": [
  {
   "cell_type": "markdown",
   "metadata": {},
   "source": [
    "# Model Deployment with FastAPI\n",
    "\n",
    "In this notebook, we’ll explore how to deploy a trained Machine Learning model using **FastAPI** : a modern, fast (high-performance) web framework for building APIs with Python.\n",
    "\n",
    "## 🎯 Objectives\n",
    "- Understand the basics of FastAPI for ML deployment.\n",
    "- Serve a trained model via REST API endpoints.\n",
    "- Test the API using `requests` or a web interface like Swagger UI.\n",
    "- Package the API for production use.\n",
    "\n",
    "---"
   ]
  },
  {
   "cell_type": "markdown",
   "metadata": {},
   "source": [
    "## ⚙️ 1. Setup and Installation\n",
    "\n",
    "Make sure you have the following dependencies installed:\n",
    "```bash\n",
    "pip install fastapi uvicorn scikit-learn joblib\n",
    "```\n",
    "\n",
    "We’ll use `uvicorn` as the ASGI server to run our FastAPI app."
   ]
  },
  {
   "cell_type": "markdown",
   "metadata": {},
   "source": [
    "## 🧩 2. Load a Sample Model\n",
    "\n",
    "Let’s create or load a simple trained model (for demonstration, we’ll use a **RandomForestClassifier** on the Iris dataset)."
   ]
  },
  {
   "cell_type": "code",
   "execution_count": null,
   "metadata": {},
   "outputs": [],
   "source": [
    "from sklearn.datasets import load_iris\n",
    "from sklearn.ensemble import RandomForestClassifier\n",
    "import joblib\n",
    "\n",
    "# Load dataset\n",
    "iris = load_iris()\n",
    "X, y = iris.data, iris.target\n",
    "\n",
    "# Train a model\n",
    "model = RandomForestClassifier()\n",
    "model.fit(X, y)\n",
    "\n",
    "# Save the model\n",
    "joblib.dump(model, 'iris_model.pkl')\n",
    "print('✅ Model trained and saved as iris_model.pkl')"
   ]
  },
  {
   "cell_type": "markdown",
   "metadata": {},
   "source": [
    "## 🚀 3. Creating the FastAPI App\n",
    "\n",
    "Now, we’ll create a simple FastAPI application that:\n",
    "- Loads the trained model.\n",
    "- Defines `/predict` endpoint to make predictions.\n",
    "- Runs the API using `uvicorn`."
   ]
  },
  {
   "cell_type": "code",
   "execution_count": null,
   "metadata": {},
   "outputs": [],
   "source": [
    "%%writefile app.py\n",
    "\n",
    "from fastapi import FastAPI\n",
    "from pydantic import BaseModel\n",
    "import joblib\n",
    "import numpy as np\n",
    "\n",
    "# Load model\n",
    "model = joblib.load('iris_model.pkl')\n",
    "\n",
    "# Initialize app\n",
    "app = FastAPI(title=\"Iris Classifier API\", description=\"Predict iris species using FastAPI\", version=\"1.0\")\n",
    "\n",
    "# Define input data structure\n",
    "class IrisInput(BaseModel):\n",
    "    sepal_length: float\n",
    "    sepal_width: float\n",
    "    petal_length: float\n",
    "    petal_width: float\n",
    "\n",
    "@app.get(\"/\")\n",
    "def read_root():\n",
    "    return {\"message\": \"Welcome to the Iris Classifier API!\"}\n",
    "\n",
    "@app.post(\"/predict\")\n",
    "def predict(data: IrisInput):\n",
    "    features = np.array([[data.sepal_length, data.sepal_width, data.petal_length, data.petal_width]])\n",
    "    prediction = model.predict(features)\n",
    "    return {\"prediction\": int(prediction[0])}"
   ]
  },
  {
   "cell_type": "markdown",
   "metadata": {},
   "source": [
    "## ▶️ 4. Running the API Server\n",
    "\n",
    "Run this command in your terminal to start the FastAPI server:\n",
    "```bash\n",
    "uvicorn app:app --reload\n",
    "```\n",
    "\n",
    "Once running, open your browser and navigate to:\n",
    "- **Swagger UI**: [http://127.0.0.1:8000/docs](http://127.0.0.1:8000/docs)\n",
    "- **ReDoc UI**: [http://127.0.0.1:8000/redoc](http://127.0.0.1:8000/redoc)"
   ]
  },
  {
   "cell_type": "markdown",
   "metadata": {},
   "source": [
    "## 🧪 5. Testing the API\n",
    "\n",
    "You can test the API using Python’s `requests` module or directly from Swagger UI."
   ]
  },
  {
   "cell_type": "code",
   "execution_count": null,
   "metadata": {},
   "outputs": [],
   "source": [
    "import requests\n",
    "\n",
    "url = \"http://127.0.0.1:8000/predict\"\n",
    "payload = {\n",
    "    \"sepal_length\": 5.1,\n",
    "    \"sepal_width\": 3.5,\n",
    "    \"petal_length\": 1.4,\n",
    "    \"petal_width\": 0.2\n",
    "}\n",
    "\n",
    "response = requests.post(url, json=payload)\n",
    "print(response.json())"
   ]
  },
  {
   "cell_type": "markdown",
   "metadata": {},
   "source": [
    "## 🧱 6. Deploying to Production\n",
    "\n",
    "### Option 1: Using Docker\n",
    "Create a `Dockerfile`:\n",
    "```dockerfile\n",
    "FROM python:3.10\n",
    "WORKDIR /app\n",
    "COPY . /app\n",
    "RUN pip install fastapi uvicorn scikit-learn joblib\n",
    "CMD [\"uvicorn\", \"app:app\", \"--host\", \"0.0.0.0\", \"--port\", \"8000\"]\n",
    "```\n",
    "Build and run:\n",
    "```bash\n",
    "docker build -t iris-fastapi .\n",
    "docker run -p 8000:8000 iris-fastapi\n",
    "```\n",
    "\n",
    "### Option 2: Using Cloud Platforms\n",
    "- **Render**, **Railway**, or **AWS EC2** — simply push your app and run using `uvicorn`.\n",
    "- Add environment management (dotenv) and logging for production readiness."
   ]
  },
  {
   "cell_type": "markdown",
   "metadata": {},
   "source": [
    "## ✅ Summary\n",
    "\n",
    "- You created and trained a simple ML model.\n",
    "- Deployed it via **FastAPI** as an interactive REST API.\n",
    "- Tested endpoints using both Swagger UI and `requests`.\n",
    "- Learned how to containerize it for production use.\n",
    "\n",
    "---\n",
    "Next → **06-Continuous_Integration_and_Delivery.ipynb** 📦"
   ]
  }
 ],
 "metadata": {
  "kernelspec": {
   "display_name": "Python 3",
   "language": "python",
   "name": "python3"
  },
  "language_info": {
   "name": "python",
   "version": "3.10"
  }
 },
 "nbformat": 4,
 "nbformat_minor": 5
}
