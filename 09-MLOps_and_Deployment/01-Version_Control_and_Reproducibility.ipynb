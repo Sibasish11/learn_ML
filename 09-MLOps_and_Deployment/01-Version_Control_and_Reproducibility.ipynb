{
 "cells": [
  {
   "cell_type": "markdown",
   "metadata": {},
   "source": [
    "# Version Control and Reproducibility\n",
    "\n",
    "In any machine learning project, **version control** and **reproducibility** are essential. They ensure that your work can be **tracked, shared, and replicated** by others (or by you in the future).\n",
    "\n",
    "In MLOps, this goes beyond just code — it includes **datasets, models, metrics, and experiments**."
   ]
  },
  {
   "cell_type": "markdown",
   "metadata": {},
   "source": [
    "## 🎯 Learning Objectives\n",
    "\n",
    "By the end of this notebook, you will:\n",
    "- Understand why version control is crucial for ML.\n",
    "- Learn how Git and DVC work together to manage code and data.\n",
    "- Explore reproducibility principles in ML experiments.\n",
    "- See practical examples of Git and DVC commands in action."
   ]
  },
  {
   "cell_type": "markdown",
   "metadata": {},
   "source": [
    "## 🧠 What is Version Control?\n",
    "\n",
    "**Version Control** refers to tracking and managing changes to your code or project files over time.\n",
    "\n",
    "In ML projects, we often have multiple versions of:\n",
    "- Code (Python scripts, notebooks)\n",
    "- Datasets\n",
    "- Trained models\n",
    "- Configuration files\n",
    "\n",
    "**Git** is the most widely used tool for version control in software development, and **DVC (Data Version Control)** extends this concept to handle large files and datasets."
   ]
  },
  {
   "cell_type": "markdown",
   "metadata": {},
   "source": [
    "## ⚙️ Git Basics for ML Projects\n",
    "\n",
    "Git helps track code changes and collaborate with others. Here are common commands:\n",
    "\n",
    "```bash\n",
    "# Initialize a Git repository\n",
    "git init\n",
    "\n",
    "# Stage and commit files\n",
    "git add .\n",
    "git commit -m \"Initial commit\"\n",
    "\n",
    "# Create and switch branches\n",
    "git branch dev\n",
    "git checkout dev\n",
    "\n",
    "# Merge branches\n",
    "git merge dev\n",
    "\n",
    "# Push to remote\n",
    "git remote add origin https://github.com/username/mlops-project.git\n",
    "git push -u origin main\n",
    "```\n",
    "\n",
    "Git handles **code and small files**, but not large datasets or model binaries — that's where **DVC** comes in."
   ]
  },
  {
   "cell_type": "markdown",
   "metadata": {},
   "source": [
    "## 📦 DVC (Data Version Control)\n",
    "\n",
    "**DVC** is an open-source tool that extends Git for handling large datasets, models, and pipelines.\n",
    "\n",
    "It lets you version control data and models without actually storing them in Git — instead, it tracks **pointers** to data stored elsewhere (like AWS S3, Google Drive, etc.).\n",
    "\n",
    "### Basic DVC Workflow\n",
    "```bash\n",
    "# Initialize DVC inside your project\n",
    "dvc init\n",
    "\n",
    "# Add data files\n",
    "dvc add data/raw_data.csv\n",
    "\n",
    "# Commit changes\n",
    "git add data/raw_data.csv.dvc .gitignore\n",
    "git commit -m \"Add raw dataset tracking with DVC\"\n",
    "\n",
    "# Push dataset to remote storage\n",
    "dvc remote add -d myremote s3://mybucket/data\n",
    "dvc push\n",
    "```\n",
    "\n",
    "When someone clones your repo, they can retrieve data by simply running:\n",
    "\n",
    "```bash\n",
    "dvc pull\n",
    "```"
   ]
  },
  {
   "cell_type": "markdown",
   "metadata": {},
   "source": [
    "## 📊 Reproducibility in Machine Learning\n",
    "\n",
    "Reproducibility means that someone can **re-run your code and get the same results**. In ML, it’s vital for transparency and reliability.\n",
    "\n",
    "### Factors Affecting Reproducibility:\n",
    "- **Random seeds** not fixed.\n",
    "- **Different library versions**.\n",
    "- **Untracked datasets or model weights**.\n",
    "- **Non-deterministic GPU operations**.\n",
    "\n",
    "### How to Ensure Reproducibility:\n",
    "1. Fix random seeds:\n",
    "   ```python\n",
    "   import numpy as np\n",
    "   import torch\n",
    "   import random\n",
    "   random.seed(42)\n",
    "   np.random.seed(42)\n",
    "   torch.manual_seed(42)\n",
    "   ```\n",
    "2. Log your **environment** and **dependencies** using `requirements.txt` or `conda env export`.\n",
    "3. Use tools like **MLflow**, **Weights & Biases**, or **DVC Experiments** for tracking parameters and results."
   ]
  },
  {
   "cell_type": "code",
   "execution_count": null,
   "metadata": {},
   "outputs": [],
   "source": [
    "# 🧪 Example: Reproducible ML Experiment with Scikit-Learn\n",
    "from sklearn.datasets import load_iris\n",
    "from sklearn.model_selection import train_test_split\n",
    "from sklearn.ensemble import RandomForestClassifier\n",
    "from sklearn.metrics import accuracy_score\n",
    "import numpy as np\n",
    "import random\n",
    "\n",
    "# Set seeds for reproducibility\n",
    "np.random.seed(42)\n",
    "random.seed(42)\n",
    "\n",
    "# Load data\n",
    "X, y = load_iris(return_X_y=True)\n",
    "X_train, X_test, y_train, y_test = train_test_split(X, y, test_size=0.3, random_state=42)\n",
    "\n",
    "# Train model\n",
    "model = RandomForestClassifier(n_estimators=100, random_state=42)\n",
    "model.fit(X_train, y_train)\n",
    "\n",
    "# Evaluate\n",
    "preds = model.predict(X_test)\n",
    "acc = accuracy_score(y_test, preds)\n",
    "print(f\"Accuracy: {acc:.4f}\")"
   ]
  },
  {
   "cell_type": "markdown",
   "metadata": {},
   "source": [
    "## 🧩 MLflow for Experiment Tracking\n",
    "\n",
    "You can use **MLflow** to record experiment parameters and metrics for reproducibility.\n",
    "\n",
    "```python\n",
    "import mlflow\n",
    "\n",
    "with mlflow.start_run():\n",
    "    mlflow.log_param('n_estimators', 100)\n",
    "    mlflow.log_metric('accuracy', acc)\n",
    "    mlflow.sklearn.log_model(model, 'rf_model')\n",
    "```\n",
    "\n",
    "This creates a **recorded experiment** that can be revisited later, ensuring results are traceable and reproducible."
   ]
  },
  {
   "cell_type": "markdown",
   "metadata": {},
   "source": [
    "## Summary\n",
    "\n",
    "- Version control is the foundation of **collaboration and reproducibility**.\n",
    "- Use **Git** for code and **DVC** for data and models.\n",
    "- Always fix random seeds and track environments.\n",
    "- Use tools like **MLflow** for experiment tracking.\n",
    "\n",
    "Next up → **[02-Data_Versioning_with_DVC.ipynb](./02-Data_Versioning_with_DVC.ipynb)**: Learn how to manage datasets efficiently in ML projects."
   ]
  }
 ],
 "metadata": {
  "kernelspec": {
   "display_name": "Python 3",
   "language": "python",
   "name": "python3"
  },
  "language_info": {
   "name": "python",
   "version": "3.10"
  }
 },
 "nbformat": 4,
 "nbformat_minor": 5
}
