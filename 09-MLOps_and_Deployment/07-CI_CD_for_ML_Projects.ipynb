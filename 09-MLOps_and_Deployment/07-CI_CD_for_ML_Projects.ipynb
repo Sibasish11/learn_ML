{
 "cells": [
  {
   "cell_type": "markdown",
   "metadata": {},
   "source": [
    "# CI/CD for ML Projects\n",
    "\n",
    "In this notebook, we’ll learn how to **automate ML workflows** using **Continuous Integration (CI)** and **Continuous Deployment (CD)** : a crucial part of **MLOps**.\n",
    "\n",
    "## 🎯 Objectives\n",
    "- Understand CI/CD in ML systems.\n",
    "- Set up automated testing and deployment pipelines.\n",
    "- Learn how to use **GitHub Actions** for ML model automation.\n",
    "- Explore best practices for reliable ML CI/CD pipelines.\n",
    "\n",
    "---"
   ]
  },
  {
   "cell_type": "markdown",
   "metadata": {},
   "source": [
    "## 🚀 1. What is CI/CD?\n",
    "\n",
    "### 🧩 Continuous Integration (CI)\n",
    "- Automatically test and validate code changes.\n",
    "- Ensures the project is always in a working state.\n",
    "- Runs unit tests, lint checks, and style checks.\n",
    "\n",
    "### 🌐 Continuous Deployment (CD)\n",
    "- Automates the release of new model versions.\n",
    "- Deploys to staging or production environments.\n",
    "- Ensures smooth rollouts and rollback mechanisms.\n",
    "\n",
    "### 🔄 CI/CD in ML Context\n",
    "In ML workflows, CI/CD helps automate:\n",
    "- Model training and evaluation pipelines.\n",
    "- Data validation and drift detection.\n",
    "- Model registry updates.\n",
    "- Containerized deployment to cloud environments.\n",
    "\n",
    "---"
   ]
  },
  {
   "cell_type": "markdown",
   "metadata": {},
   "source": [
    "## 🧱 2. Example ML Project Structure\n",
    "\n",
    "```\n",
    "ml_project/\n",
    "├── data/\n",
    "│   └── iris.csv\n",
    "├── model/\n",
    "│   ├── train_model.py\n",
    "│   └── predict.py\n",
    "├── tests/\n",
    "│   └── test_model.py\n",
    "├── requirements.txt\n",
    "└── .github/\n",
    "    └── workflows/\n",
    "        └── ci_cd.yml\n",
    "```"
   ]
  },
  {
   "cell_type": "markdown",
   "metadata": {},
   "source": [
    "## ⚗️ 3. Sample ML Training Script\n",
    "\n",
    "We'll use a simple training script to generate a model file."
   ]
  },
  {
   "cell_type": "code",
   "execution_count": null,
   "metadata": {},
   "outputs": [],
   "source": [
    "%%writefile model/train_model.py\n",
    "from sklearn.datasets import load_iris\n",
    "from sklearn.ensemble import RandomForestClassifier\n",
    "import joblib\n",
    "\n",
    "def train():\n",
    "    data = load_iris()\n",
    "    X, y = data.data, data.target\n",
    "    model = RandomForestClassifier()\n",
    "    model.fit(X, y)\n",
    "    joblib.dump(model, 'model/iris_model.pkl')\n",
    "    print('✅ Model trained and saved successfully.')\n",
    "\n",
    "if __name__ == '__main__':\n",
    "    train()"
   ]
  },
  {
   "cell_type": "markdown",
   "metadata": {},
   "source": [
    "## 🧪 4. Test Script for CI\n",
    "\n",
    "This test ensures that the model runs and outputs predictions correctly."
   ]
  },
  {
   "cell_type": "code",
   "execution_count": null,
   "metadata": {},
   "outputs": [],
   "source": [
    "%%writefile tests/test_model.py\n",
    "import joblib\n",
    "from sklearn.datasets import load_iris\n",
    "import os\n",
    "\n",
    "def test_model_training():\n",
    "    assert os.path.exists('model/iris_model.pkl'), 'Model file not found!'\n",
    "\n",
    "def test_model_prediction():\n",
    "    model = joblib.load('model/iris_model.pkl')\n",
    "    iris = load_iris()\n",
    "    sample = iris.data[0].reshape(1, -1)\n",
    "    pred = model.predict(sample)\n",
    "    assert pred[0] in [0, 1, 2], 'Invalid prediction!'"
   ]
  },
  {
   "cell_type": "markdown",
   "metadata": {},
   "source": [
    "## 🧩 5. Define GitHub Actions Workflow\n",
    "\n",
    "We’ll create a **GitHub Actions YAML file** to automate CI/CD.\n",
    "\n",
    "### File: `.github/workflows/ci_cd.yml`\n",
    "\n",
    "```yaml\n",
    "name: CI/CD for ML Project\n",
    "\n",
    "on:\n",
    "  push:\n",
    "    branches: [ main ]\n",
    "  pull_request:\n",
    "    branches: [ main ]\n",
    "\n",
    "jobs:\n",
    "  build-and-test:\n",
    "    runs-on: ubuntu-latest\n",
    "\n",
    "    steps:\n",
    "      - name: Checkout repository\n",
    "        uses: actions/checkout@v3\n",
    "\n",
    "      - name: Set up Python\n",
    "        uses: actions/setup-python@v4\n",
    "        with:\n",
    "          python-version: '3.10'\n",
    "\n",
    "      - name: Install dependencies\n",
    "        run: |\n",
    "          pip install -r requirements.txt\n",
    "\n",
    "      - name: Train model\n",
    "        run: |\n",
    "          python model/train_model.py\n",
    "\n",
    "      - name: Run tests\n",
    "        run: |\n",
    "          pytest tests/\n",
    "\n",
    "  deploy:\n",
    "    needs: build-and-test\n",
    "    runs-on: ubuntu-latest\n",
    "    if: github.ref == 'refs/heads/main'\n",
    "    steps:\n",
    "      - name: Deploy Model API (Simulated)\n",
    "        run: echo '🚀 Model deployed to production environment'\n",
    "```"
   ]
  },
  {
   "cell_type": "markdown",
   "metadata": {},
   "source": [
    "## ⚡ 6. Running the CI/CD Pipeline\n",
    "\n",
    "Once committed and pushed to GitHub:\n",
    "1. GitHub Actions will automatically start a workflow.\n",
    "2. It installs dependencies, trains the model, and runs tests.\n",
    "3. If all tests pass, the deploy job executes (simulated here).\n",
    "\n",
    "You can monitor the progress under **Actions → CI/CD for ML Project** in your repository."
   ]
  },
  {
   "cell_type": "markdown",
   "metadata": {},
   "source": [
    "## 🧰 7. Requirements File\n",
    "\n",
    "Your `requirements.txt` should include:\n",
    "\n",
    "```\n",
    "scikit-learn==1.5.1\n",
    "joblib\n",
    "pytest\n",
    "```"
   ]
  },
  {
   "cell_type": "markdown",
   "metadata": {},
   "source": [
    "## 🧩 8. CI/CD Best Practices for ML\n",
    "\n",
    "✅ **Data Versioning:** Use tools like DVC or Git LFS for large datasets.\n",
    "\n",
    "✅ **Model Registry:** Automate model version control using MLflow or Weights & Biases.\n",
    "\n",
    "✅ **Test Coverage:** Include both functional and performance tests.\n",
    "\n",
    "✅ **Environment Reproducibility:** Pin versions in `requirements.txt`.\n",
    "\n",
    "✅ **Deployment Automation:** Push Docker images or APIs to cloud environments (AWS, GCP, etc.)."
   ]
  },
  {
   "cell_type": "markdown",
   "metadata": {},
   "source": [
    "## 📊 9. CI/CD Flow Summary\n",
    "\n",
    "```mermaid\n",
    "graph TD\n",
    "A[Commit or Pull Request] --> B[CI: Build and Test]\n",
    "B --> C{Tests Passed?}\n",
    "C -->|No| D[Fail Pipeline ❌]\n",
    "C -->|Yes| E[CD: Deploy Model 🚀]\n",
    "E --> F[Production or Staging Environment]\n",
    "```\n",
    "\n",
    "---"
   ]
  },
  {
   "cell_type": "markdown",
   "metadata": {},
   "source": [
    "## ✅ Summary\n",
    "\n",
    "- Understood the role of CI/CD in ML workflows.\n",
    "- Built a GitHub Actions pipeline for automation.\n",
    "- Automated model training, testing, and simulated deployment.\n",
    "- Followed best practices for scalable ML system delivery.\n",
    "\n",
    "---\n",
    "Next → **08-Monitoring_and_Model_Tracking.ipynb** 📈"
   ]
  }
 ],
 "metadata": {
  "kernelspec": {
   "display_name": "Python 3",
   "language": "python",
   "name": "python3"
  },
  "language_info": {
   "name": "python",
   "version": "3.10"
  }
 },
 "nbformat": 4,
 "nbformat_minor": 5
}
